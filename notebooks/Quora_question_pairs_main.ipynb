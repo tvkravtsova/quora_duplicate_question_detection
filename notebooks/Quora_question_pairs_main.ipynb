{
  "cells": [
    {
      "cell_type": "markdown",
      "metadata": {
        "id": "sXYlhfWPhajH"
      },
      "source": [
        "## Data preprocessing"
      ]
    },
    {
      "cell_type": "markdown",
      "metadata": {
        "id": "rsR3UKFZ4psX"
      },
      "source": [
        "### Imports"
      ]
    },
    {
      "cell_type": "code",
      "execution_count": 1,
      "metadata": {
        "id": "LVwdH3IqtkcB"
      },
      "outputs": [],
      "source": [
        "import pandas as pd\n",
        "import numpy as np\n",
        "import re\n",
        "import nltk\n",
        "from nltk.corpus import stopwords\n",
        "from nltk.stem import WordNetLemmatizer\n",
        "from nltk.tokenize import word_tokenize\n",
        "from sklearn.feature_extraction.text import TfidfVectorizer\n",
        "from sklearn.preprocessing import StandardScaler\n",
        "from sklearn.metrics.pairwise import cosine_similarity\n",
        "from scipy.sparse import hstack, csr_matrix\n",
        "from typing import Tuple, Optional"
      ]
    },
    {
      "cell_type": "markdown",
      "metadata": {
        "id": "7O_uoRPBFNPl"
      },
      "source": [
        "Import the function to extract token-based features from a custom preprocessing module"
      ]
    },
    {
      "cell_type": "code",
      "execution_count": 3,
      "metadata": {
        "id": "sAAzN-Ros86y"
      },
      "outputs": [],
      "source": [
        "from quora_questions_preprocessing import extract_token_features"
      ]
    },
    {
      "cell_type": "markdown",
      "metadata": {
        "id": "H4tmH_5VLOzA"
      },
      "source": [
        "extract_token_features():\n",
        "1. Iinitializes a TweetTokenizer\n",
        "Tokenizes the text into words (keeping alphanumeric tokens only, lowercased).\n",
        "\n",
        "2. Creates token columns:\n",
        "\n",
        "- q1_tokens: tokens from question1\n",
        "\n",
        "- q2_tokens: tokens from question2\n",
        "\n",
        "3. Computes word-based features:\n",
        "\n",
        "- q1_words, q2_words: total number of words (tokens) in each question\n",
        "\n",
        "- q1_unique_words, q2_unique_words: number of unique words in each question\n",
        "\n",
        "- common_words: number of words shared between both questions\n",
        "\n",
        "- word_share: Jaccard similarity between the word sets of the two questions\n",
        "\n",
        "- unique_word_ratio: ratio of the smaller to larger unique word count (measures balance)"
      ]
    },
    {
      "cell_type": "code",
      "execution_count": 4,
      "metadata": {
        "id": "5Brj-5KStroP"
      },
      "outputs": [],
      "source": [
        "# Load the training dataset\n",
        "df_train = pd.read_csv('/content/quora_question_pairs_train.csv.zip', index_col=0)"
      ]
    },
    {
      "cell_type": "code",
      "execution_count": 5,
      "metadata": {
        "id": "RgQ4CIIHtT1p"
      },
      "outputs": [],
      "source": [
        "# Load the test dataset\n",
        "df_test = pd.read_csv('quora_question_pairs_test.csv.zip', index_col=0)"
      ]
    },
    {
      "cell_type": "code",
      "execution_count": 6,
      "metadata": {
        "id": "ZrQ9A8rOZ3bu"
      },
      "outputs": [],
      "source": [
        "# Drop rows with missing values\n",
        "df_train = df_train.dropna()"
      ]
    },
    {
      "cell_type": "code",
      "execution_count": 7,
      "metadata": {
        "id": "5N5ib_GluWXy"
      },
      "outputs": [],
      "source": [
        "# Apply token-based feature extraction to both training and test datasets\n",
        "df_train = extract_token_features(df_train)\n",
        "df_test = extract_token_features(df_test)"
      ]
    },
    {
      "cell_type": "code",
      "execution_count": 8,
      "metadata": {
        "colab": {
          "base_uri": "https://localhost:8080/"
        },
        "id": "vdiAPtePusry",
        "outputId": "108bb3f3-4226-420a-e52f-8e7b72782546"
      },
      "outputs": [
        {
          "data": {
            "text/plain": [
              "Index(['qid1', 'qid2', 'question1', 'question2', 'is_duplicate', 'q1_tokens',\n",
              "       'q2_tokens', 'q1_words', 'q2_words', 'q1_unique_words',\n",
              "       'q2_unique_words', 'common_words', 'word_share', 'unique_word_ratio'],\n",
              "      dtype='object')"
            ]
          },
          "execution_count": 8,
          "metadata": {},
          "output_type": "execute_result"
        }
      ],
      "source": [
        "# Display column names of the training dataset to verify added features\n",
        "df_train.columns"
      ]
    },
    {
      "cell_type": "code",
      "execution_count": 9,
      "metadata": {
        "colab": {
          "base_uri": "https://localhost:8080/"
        },
        "collapsed": true,
        "id": "qzCTePHlATPz",
        "outputId": "c54c6b9d-c64c-4eb7-c636-f195a1a96b9c"
      },
      "outputs": [
        {
          "name": "stderr",
          "output_type": "stream",
          "text": [
            "[nltk_data] Downloading package punkt to /root/nltk_data...\n",
            "[nltk_data]   Unzipping tokenizers/punkt.zip.\n",
            "[nltk_data] Downloading package punkt_tab to /root/nltk_data...\n",
            "[nltk_data]   Unzipping tokenizers/punkt_tab.zip.\n",
            "[nltk_data] Downloading package stopwords to /root/nltk_data...\n",
            "[nltk_data]   Unzipping corpora/stopwords.zip.\n",
            "[nltk_data] Downloading package wordnet to /root/nltk_data...\n",
            "[nltk_data] Downloading package omw-1.4 to /root/nltk_data...\n"
          ]
        },
        {
          "data": {
            "text/plain": [
              "True"
            ]
          },
          "execution_count": 9,
          "metadata": {},
          "output_type": "execute_result"
        }
      ],
      "source": [
        "# Download required NLTK resources\n",
        "nltk.download('punkt')\n",
        "nltk.download('punkt_tab')\n",
        "nltk.download('stopwords')\n",
        "nltk.download('wordnet')\n",
        "nltk.download('omw-1.4')\n"
      ]
    },
    {
      "cell_type": "markdown",
      "metadata": {
        "id": "XDADL8yYFT64"
      },
      "source": [
        "Import the preprocessing pipeline for final data preparation"
      ]
    },
    {
      "cell_type": "code",
      "execution_count": 10,
      "metadata": {
        "id": "RyC45WyKvWXd"
      },
      "outputs": [],
      "source": [
        "from quora_questions_preprocessing import preprocess_pipeline"
      ]
    },
    {
      "cell_type": "markdown",
      "metadata": {
        "id": "mHJGUQSMMFOE"
      },
      "source": [
        "The function preprocess_pipeline() is a full data preprocessing pipeline designed for preparing a dataset of question pairs for a machine learning model. It combines text cleaning, TF-IDF vectorization, cosine similarity calculation, and numerical feature integration into a single process."
      ]
    },
    {
      "cell_type": "code",
      "execution_count": 11,
      "metadata": {
        "id": "F5lf5plK4kj8"
      },
      "outputs": [],
      "source": [
        "# Run the preprocessing pipeline to prepare features\n",
        "df_train_final, df_test_final, X_train, X_test, y_train = preprocess_pipeline(df_train, df_test)"
      ]
    },
    {
      "cell_type": "code",
      "execution_count": 12,
      "metadata": {
        "colab": {
          "base_uri": "https://localhost:8080/",
          "height": 437
        },
        "collapsed": true,
        "id": "w7pOM9FR7uhT",
        "outputId": "ad05acb2-9dd2-4811-cd11-09f2edbb9c9c"
      },
      "outputs": [
        {
          "data": {
            "application/vnd.google.colaboratory.intrinsic+json": {
              "summary": "{\n  \"name\": \"df_train_final\",\n  \"rows\": 3,\n  \"fields\": [\n    {\n      \"column\": \"id\",\n      \"properties\": {\n        \"dtype\": \"number\",\n        \"std\": 171019,\n        \"min\": 33321,\n        \"max\": 375345,\n        \"num_unique_values\": 3,\n        \"samples\": [\n          33321,\n          201598,\n          375345\n        ],\n        \"semantic_type\": \"\",\n        \"description\": \"\"\n      }\n    },\n    {\n      \"column\": \"qid1\",\n      \"properties\": {\n        \"dtype\": \"number\",\n        \"std\": 222858,\n        \"min\": 61234,\n        \"max\": 506361,\n        \"num_unique_values\": 3,\n        \"samples\": [\n          61234,\n          303645,\n          506361\n        ],\n        \"semantic_type\": \"\",\n        \"description\": \"\"\n      }\n    },\n    {\n      \"column\": \"qid2\",\n      \"properties\": {\n        \"dtype\": \"number\",\n        \"std\": 232718,\n        \"min\": 42164,\n        \"max\": 506362,\n        \"num_unique_values\": 3,\n        \"samples\": [\n          42164,\n          303646,\n          506362\n        ],\n        \"semantic_type\": \"\",\n        \"description\": \"\"\n      }\n    },\n    {\n      \"column\": \"question1\",\n      \"properties\": {\n        \"dtype\": \"string\",\n        \"num_unique_values\": 3,\n        \"samples\": [\n          \"What are the mysteries of the Bermuda Triangle?\",\n          \"How would someone become a lyricist?\",\n          \"What's the difference between bullying and abuse?\"\n        ],\n        \"semantic_type\": \"\",\n        \"description\": \"\"\n      }\n    },\n    {\n      \"column\": \"question2\",\n      \"properties\": {\n        \"dtype\": \"string\",\n        \"num_unique_values\": 3,\n        \"samples\": [\n          \"What are the theories about the mystery of the Bermuda triangle?\",\n          \"How do I become a music director?\",\n          \"Have you ever been age discriminated?\"\n        ],\n        \"semantic_type\": \"\",\n        \"description\": \"\"\n      }\n    },\n    {\n      \"column\": \"is_duplicate\",\n      \"properties\": {\n        \"dtype\": \"number\",\n        \"std\": 0,\n        \"min\": 0,\n        \"max\": 1,\n        \"num_unique_values\": 2,\n        \"samples\": [\n          0,\n          1\n        ],\n        \"semantic_type\": \"\",\n        \"description\": \"\"\n      }\n    },\n    {\n      \"column\": \"q1_tokens\",\n      \"properties\": {\n        \"dtype\": \"object\",\n        \"semantic_type\": \"\",\n        \"description\": \"\"\n      }\n    },\n    {\n      \"column\": \"q2_tokens\",\n      \"properties\": {\n        \"dtype\": \"object\",\n        \"semantic_type\": \"\",\n        \"description\": \"\"\n      }\n    },\n    {\n      \"column\": \"q1_words\",\n      \"properties\": {\n        \"dtype\": \"number\",\n        \"std\": 1,\n        \"min\": 6,\n        \"max\": 8,\n        \"num_unique_values\": 2,\n        \"samples\": [\n          6,\n          8\n        ],\n        \"semantic_type\": \"\",\n        \"description\": \"\"\n      }\n    },\n    {\n      \"column\": \"q2_words\",\n      \"properties\": {\n        \"dtype\": \"number\",\n        \"std\": 2,\n        \"min\": 6,\n        \"max\": 11,\n        \"num_unique_values\": 3,\n        \"samples\": [\n          11,\n          7\n        ],\n        \"semantic_type\": \"\",\n        \"description\": \"\"\n      }\n    },\n    {\n      \"column\": \"q1_unique_words\",\n      \"properties\": {\n        \"dtype\": \"number\",\n        \"std\": 0,\n        \"min\": 6,\n        \"max\": 7,\n        \"num_unique_values\": 2,\n        \"samples\": [\n          6,\n          7\n        ],\n        \"semantic_type\": \"\",\n        \"description\": \"\"\n      }\n    },\n    {\n      \"column\": \"q2_unique_words\",\n      \"properties\": {\n        \"dtype\": \"number\",\n        \"std\": 1,\n        \"min\": 6,\n        \"max\": 9,\n        \"num_unique_values\": 3,\n        \"samples\": [\n          9,\n          7\n        ],\n        \"semantic_type\": \"\",\n        \"description\": \"\"\n      }\n    },\n    {\n      \"column\": \"common_words\",\n      \"properties\": {\n        \"dtype\": \"number\",\n        \"std\": 3,\n        \"min\": 0,\n        \"max\": 6,\n        \"num_unique_values\": 3,\n        \"samples\": [\n          6,\n          3\n        ],\n        \"semantic_type\": \"\",\n        \"description\": \"\"\n      }\n    },\n    {\n      \"column\": \"word_share\",\n      \"properties\": {\n        \"dtype\": \"number\",\n        \"std\": 0.3,\n        \"min\": 0.0,\n        \"max\": 0.6,\n        \"num_unique_values\": 3,\n        \"samples\": [\n          0.6,\n          0.3\n        ],\n        \"semantic_type\": \"\",\n        \"description\": \"\"\n      }\n    },\n    {\n      \"column\": \"unique_word_ratio\",\n      \"properties\": {\n        \"dtype\": \"number\",\n        \"std\": 0.1126126807078982,\n        \"min\": 0.7777777777777778,\n        \"max\": 1.0,\n        \"num_unique_values\": 3,\n        \"samples\": [\n          0.7777777777777778,\n          0.8571428571428571\n        ],\n        \"semantic_type\": \"\",\n        \"description\": \"\"\n      }\n    },\n    {\n      \"column\": \"question1_clean\",\n      \"properties\": {\n        \"dtype\": \"string\",\n        \"num_unique_values\": 3,\n        \"samples\": [\n          \"mystery bermuda triangle\",\n          \"would someone become lyricist\"\n        ],\n        \"semantic_type\": \"\",\n        \"description\": \"\"\n      }\n    },\n    {\n      \"column\": \"question2_clean\",\n      \"properties\": {\n        \"dtype\": \"string\",\n        \"num_unique_values\": 3,\n        \"samples\": [\n          \"theory mystery bermuda triangle\",\n          \"become music director\"\n        ],\n        \"semantic_type\": \"\",\n        \"description\": \"\"\n      }\n    }\n  ]\n}",
              "type": "dataframe"
            },
            "text/html": [
              "\n",
              "  <div id=\"df-6c9b1d51-e3cc-42ba-ae80-1003b69ee227\" class=\"colab-df-container\">\n",
              "    <div>\n",
              "<style scoped>\n",
              "    .dataframe tbody tr th:only-of-type {\n",
              "        vertical-align: middle;\n",
              "    }\n",
              "\n",
              "    .dataframe tbody tr th {\n",
              "        vertical-align: top;\n",
              "    }\n",
              "\n",
              "    .dataframe thead th {\n",
              "        text-align: right;\n",
              "    }\n",
              "</style>\n",
              "<table border=\"1\" class=\"dataframe\">\n",
              "  <thead>\n",
              "    <tr style=\"text-align: right;\">\n",
              "      <th></th>\n",
              "      <th>qid1</th>\n",
              "      <th>qid2</th>\n",
              "      <th>question1</th>\n",
              "      <th>question2</th>\n",
              "      <th>is_duplicate</th>\n",
              "      <th>q1_tokens</th>\n",
              "      <th>q2_tokens</th>\n",
              "      <th>q1_words</th>\n",
              "      <th>q2_words</th>\n",
              "      <th>q1_unique_words</th>\n",
              "      <th>q2_unique_words</th>\n",
              "      <th>common_words</th>\n",
              "      <th>word_share</th>\n",
              "      <th>unique_word_ratio</th>\n",
              "      <th>question1_clean</th>\n",
              "      <th>question2_clean</th>\n",
              "    </tr>\n",
              "    <tr>\n",
              "      <th>id</th>\n",
              "      <th></th>\n",
              "      <th></th>\n",
              "      <th></th>\n",
              "      <th></th>\n",
              "      <th></th>\n",
              "      <th></th>\n",
              "      <th></th>\n",
              "      <th></th>\n",
              "      <th></th>\n",
              "      <th></th>\n",
              "      <th></th>\n",
              "      <th></th>\n",
              "      <th></th>\n",
              "      <th></th>\n",
              "      <th></th>\n",
              "      <th></th>\n",
              "    </tr>\n",
              "  </thead>\n",
              "  <tbody>\n",
              "    <tr>\n",
              "      <th>33321</th>\n",
              "      <td>61234</td>\n",
              "      <td>42164</td>\n",
              "      <td>What are the mysteries of the Bermuda Triangle?</td>\n",
              "      <td>What are the theories about the mystery of the...</td>\n",
              "      <td>1</td>\n",
              "      <td>[what, are, the, mysteries, of, the, bermuda, ...</td>\n",
              "      <td>[what, are, the, theories, about, the, mystery...</td>\n",
              "      <td>8</td>\n",
              "      <td>11</td>\n",
              "      <td>7</td>\n",
              "      <td>9</td>\n",
              "      <td>6</td>\n",
              "      <td>0.6</td>\n",
              "      <td>0.777778</td>\n",
              "      <td>mystery bermuda triangle</td>\n",
              "      <td>theory mystery bermuda triangle</td>\n",
              "    </tr>\n",
              "    <tr>\n",
              "      <th>201598</th>\n",
              "      <td>303645</td>\n",
              "      <td>303646</td>\n",
              "      <td>How would someone become a lyricist?</td>\n",
              "      <td>How do I become a music director?</td>\n",
              "      <td>0</td>\n",
              "      <td>[how, would, someone, become, a, lyricist]</td>\n",
              "      <td>[how, do, i, become, a, music, director]</td>\n",
              "      <td>6</td>\n",
              "      <td>7</td>\n",
              "      <td>6</td>\n",
              "      <td>7</td>\n",
              "      <td>3</td>\n",
              "      <td>0.3</td>\n",
              "      <td>0.857143</td>\n",
              "      <td>would someone become lyricist</td>\n",
              "      <td>become music director</td>\n",
              "    </tr>\n",
              "    <tr>\n",
              "      <th>375345</th>\n",
              "      <td>506361</td>\n",
              "      <td>506362</td>\n",
              "      <td>What's the difference between bullying and abuse?</td>\n",
              "      <td>Have you ever been age discriminated?</td>\n",
              "      <td>0</td>\n",
              "      <td>[the, difference, between, bullying, and, abuse]</td>\n",
              "      <td>[have, you, ever, been, age, discriminated]</td>\n",
              "      <td>6</td>\n",
              "      <td>6</td>\n",
              "      <td>6</td>\n",
              "      <td>6</td>\n",
              "      <td>0</td>\n",
              "      <td>0.0</td>\n",
              "      <td>1.000000</td>\n",
              "      <td>'s difference bullying abuse</td>\n",
              "      <td>ever age discriminated</td>\n",
              "    </tr>\n",
              "  </tbody>\n",
              "</table>\n",
              "</div>\n",
              "    <div class=\"colab-df-buttons\">\n",
              "\n",
              "  <div class=\"colab-df-container\">\n",
              "    <button class=\"colab-df-convert\" onclick=\"convertToInteractive('df-6c9b1d51-e3cc-42ba-ae80-1003b69ee227')\"\n",
              "            title=\"Convert this dataframe to an interactive table.\"\n",
              "            style=\"display:none;\">\n",
              "\n",
              "  <svg xmlns=\"http://www.w3.org/2000/svg\" height=\"24px\" viewBox=\"0 -960 960 960\">\n",
              "    <path d=\"M120-120v-720h720v720H120Zm60-500h600v-160H180v160Zm220 220h160v-160H400v160Zm0 220h160v-160H400v160ZM180-400h160v-160H180v160Zm440 0h160v-160H620v160ZM180-180h160v-160H180v160Zm440 0h160v-160H620v160Z\"/>\n",
              "  </svg>\n",
              "    </button>\n",
              "\n",
              "  <style>\n",
              "    .colab-df-container {\n",
              "      display:flex;\n",
              "      gap: 12px;\n",
              "    }\n",
              "\n",
              "    .colab-df-convert {\n",
              "      background-color: #E8F0FE;\n",
              "      border: none;\n",
              "      border-radius: 50%;\n",
              "      cursor: pointer;\n",
              "      display: none;\n",
              "      fill: #1967D2;\n",
              "      height: 32px;\n",
              "      padding: 0 0 0 0;\n",
              "      width: 32px;\n",
              "    }\n",
              "\n",
              "    .colab-df-convert:hover {\n",
              "      background-color: #E2EBFA;\n",
              "      box-shadow: 0px 1px 2px rgba(60, 64, 67, 0.3), 0px 1px 3px 1px rgba(60, 64, 67, 0.15);\n",
              "      fill: #174EA6;\n",
              "    }\n",
              "\n",
              "    .colab-df-buttons div {\n",
              "      margin-bottom: 4px;\n",
              "    }\n",
              "\n",
              "    [theme=dark] .colab-df-convert {\n",
              "      background-color: #3B4455;\n",
              "      fill: #D2E3FC;\n",
              "    }\n",
              "\n",
              "    [theme=dark] .colab-df-convert:hover {\n",
              "      background-color: #434B5C;\n",
              "      box-shadow: 0px 1px 3px 1px rgba(0, 0, 0, 0.15);\n",
              "      filter: drop-shadow(0px 1px 2px rgba(0, 0, 0, 0.3));\n",
              "      fill: #FFFFFF;\n",
              "    }\n",
              "  </style>\n",
              "\n",
              "    <script>\n",
              "      const buttonEl =\n",
              "        document.querySelector('#df-6c9b1d51-e3cc-42ba-ae80-1003b69ee227 button.colab-df-convert');\n",
              "      buttonEl.style.display =\n",
              "        google.colab.kernel.accessAllowed ? 'block' : 'none';\n",
              "\n",
              "      async function convertToInteractive(key) {\n",
              "        const element = document.querySelector('#df-6c9b1d51-e3cc-42ba-ae80-1003b69ee227');\n",
              "        const dataTable =\n",
              "          await google.colab.kernel.invokeFunction('convertToInteractive',\n",
              "                                                    [key], {});\n",
              "        if (!dataTable) return;\n",
              "\n",
              "        const docLinkHtml = 'Like what you see? Visit the ' +\n",
              "          '<a target=\"_blank\" href=https://colab.research.google.com/notebooks/data_table.ipynb>data table notebook</a>'\n",
              "          + ' to learn more about interactive tables.';\n",
              "        element.innerHTML = '';\n",
              "        dataTable['output_type'] = 'display_data';\n",
              "        await google.colab.output.renderOutput(dataTable, element);\n",
              "        const docLink = document.createElement('div');\n",
              "        docLink.innerHTML = docLinkHtml;\n",
              "        element.appendChild(docLink);\n",
              "      }\n",
              "    </script>\n",
              "  </div>\n",
              "\n",
              "\n",
              "    <div id=\"df-5db6b02f-09df-4476-8923-d85ea6b17f1b\">\n",
              "      <button class=\"colab-df-quickchart\" onclick=\"quickchart('df-5db6b02f-09df-4476-8923-d85ea6b17f1b')\"\n",
              "                title=\"Suggest charts\"\n",
              "                style=\"display:none;\">\n",
              "\n",
              "<svg xmlns=\"http://www.w3.org/2000/svg\" height=\"24px\"viewBox=\"0 0 24 24\"\n",
              "     width=\"24px\">\n",
              "    <g>\n",
              "        <path d=\"M19 3H5c-1.1 0-2 .9-2 2v14c0 1.1.9 2 2 2h14c1.1 0 2-.9 2-2V5c0-1.1-.9-2-2-2zM9 17H7v-7h2v7zm4 0h-2V7h2v10zm4 0h-2v-4h2v4z\"/>\n",
              "    </g>\n",
              "</svg>\n",
              "      </button>\n",
              "\n",
              "<style>\n",
              "  .colab-df-quickchart {\n",
              "      --bg-color: #E8F0FE;\n",
              "      --fill-color: #1967D2;\n",
              "      --hover-bg-color: #E2EBFA;\n",
              "      --hover-fill-color: #174EA6;\n",
              "      --disabled-fill-color: #AAA;\n",
              "      --disabled-bg-color: #DDD;\n",
              "  }\n",
              "\n",
              "  [theme=dark] .colab-df-quickchart {\n",
              "      --bg-color: #3B4455;\n",
              "      --fill-color: #D2E3FC;\n",
              "      --hover-bg-color: #434B5C;\n",
              "      --hover-fill-color: #FFFFFF;\n",
              "      --disabled-bg-color: #3B4455;\n",
              "      --disabled-fill-color: #666;\n",
              "  }\n",
              "\n",
              "  .colab-df-quickchart {\n",
              "    background-color: var(--bg-color);\n",
              "    border: none;\n",
              "    border-radius: 50%;\n",
              "    cursor: pointer;\n",
              "    display: none;\n",
              "    fill: var(--fill-color);\n",
              "    height: 32px;\n",
              "    padding: 0;\n",
              "    width: 32px;\n",
              "  }\n",
              "\n",
              "  .colab-df-quickchart:hover {\n",
              "    background-color: var(--hover-bg-color);\n",
              "    box-shadow: 0 1px 2px rgba(60, 64, 67, 0.3), 0 1px 3px 1px rgba(60, 64, 67, 0.15);\n",
              "    fill: var(--button-hover-fill-color);\n",
              "  }\n",
              "\n",
              "  .colab-df-quickchart-complete:disabled,\n",
              "  .colab-df-quickchart-complete:disabled:hover {\n",
              "    background-color: var(--disabled-bg-color);\n",
              "    fill: var(--disabled-fill-color);\n",
              "    box-shadow: none;\n",
              "  }\n",
              "\n",
              "  .colab-df-spinner {\n",
              "    border: 2px solid var(--fill-color);\n",
              "    border-color: transparent;\n",
              "    border-bottom-color: var(--fill-color);\n",
              "    animation:\n",
              "      spin 1s steps(1) infinite;\n",
              "  }\n",
              "\n",
              "  @keyframes spin {\n",
              "    0% {\n",
              "      border-color: transparent;\n",
              "      border-bottom-color: var(--fill-color);\n",
              "      border-left-color: var(--fill-color);\n",
              "    }\n",
              "    20% {\n",
              "      border-color: transparent;\n",
              "      border-left-color: var(--fill-color);\n",
              "      border-top-color: var(--fill-color);\n",
              "    }\n",
              "    30% {\n",
              "      border-color: transparent;\n",
              "      border-left-color: var(--fill-color);\n",
              "      border-top-color: var(--fill-color);\n",
              "      border-right-color: var(--fill-color);\n",
              "    }\n",
              "    40% {\n",
              "      border-color: transparent;\n",
              "      border-right-color: var(--fill-color);\n",
              "      border-top-color: var(--fill-color);\n",
              "    }\n",
              "    60% {\n",
              "      border-color: transparent;\n",
              "      border-right-color: var(--fill-color);\n",
              "    }\n",
              "    80% {\n",
              "      border-color: transparent;\n",
              "      border-right-color: var(--fill-color);\n",
              "      border-bottom-color: var(--fill-color);\n",
              "    }\n",
              "    90% {\n",
              "      border-color: transparent;\n",
              "      border-bottom-color: var(--fill-color);\n",
              "    }\n",
              "  }\n",
              "</style>\n",
              "\n",
              "      <script>\n",
              "        async function quickchart(key) {\n",
              "          const quickchartButtonEl =\n",
              "            document.querySelector('#' + key + ' button');\n",
              "          quickchartButtonEl.disabled = true;  // To prevent multiple clicks.\n",
              "          quickchartButtonEl.classList.add('colab-df-spinner');\n",
              "          try {\n",
              "            const charts = await google.colab.kernel.invokeFunction(\n",
              "                'suggestCharts', [key], {});\n",
              "          } catch (error) {\n",
              "            console.error('Error during call to suggestCharts:', error);\n",
              "          }\n",
              "          quickchartButtonEl.classList.remove('colab-df-spinner');\n",
              "          quickchartButtonEl.classList.add('colab-df-quickchart-complete');\n",
              "        }\n",
              "        (() => {\n",
              "          let quickchartButtonEl =\n",
              "            document.querySelector('#df-5db6b02f-09df-4476-8923-d85ea6b17f1b button');\n",
              "          quickchartButtonEl.style.display =\n",
              "            google.colab.kernel.accessAllowed ? 'block' : 'none';\n",
              "        })();\n",
              "      </script>\n",
              "    </div>\n",
              "\n",
              "    </div>\n",
              "  </div>\n"
            ],
            "text/plain": [
              "          qid1    qid2                                          question1  \\\n",
              "id                                                                          \n",
              "33321    61234   42164    What are the mysteries of the Bermuda Triangle?   \n",
              "201598  303645  303646               How would someone become a lyricist?   \n",
              "375345  506361  506362  What's the difference between bullying and abuse?   \n",
              "\n",
              "                                                question2  is_duplicate  \\\n",
              "id                                                                        \n",
              "33321   What are the theories about the mystery of the...             1   \n",
              "201598                  How do I become a music director?             0   \n",
              "375345              Have you ever been age discriminated?             0   \n",
              "\n",
              "                                                q1_tokens  \\\n",
              "id                                                          \n",
              "33321   [what, are, the, mysteries, of, the, bermuda, ...   \n",
              "201598         [how, would, someone, become, a, lyricist]   \n",
              "375345   [the, difference, between, bullying, and, abuse]   \n",
              "\n",
              "                                                q2_tokens  q1_words  q2_words  \\\n",
              "id                                                                              \n",
              "33321   [what, are, the, theories, about, the, mystery...         8        11   \n",
              "201598           [how, do, i, become, a, music, director]         6         7   \n",
              "375345        [have, you, ever, been, age, discriminated]         6         6   \n",
              "\n",
              "        q1_unique_words  q2_unique_words  common_words  word_share  \\\n",
              "id                                                                   \n",
              "33321                 7                9             6         0.6   \n",
              "201598                6                7             3         0.3   \n",
              "375345                6                6             0         0.0   \n",
              "\n",
              "        unique_word_ratio                question1_clean  \\\n",
              "id                                                         \n",
              "33321            0.777778       mystery bermuda triangle   \n",
              "201598           0.857143  would someone become lyricist   \n",
              "375345           1.000000   's difference bullying abuse   \n",
              "\n",
              "                        question2_clean  \n",
              "id                                       \n",
              "33321   theory mystery bermuda triangle  \n",
              "201598            become music director  \n",
              "375345           ever age discriminated  "
            ]
          },
          "execution_count": 12,
          "metadata": {},
          "output_type": "execute_result"
        }
      ],
      "source": [
        "# Preview the first few rows of the processed training set\n",
        "df_train_final.sample(3)"
      ]
    },
    {
      "cell_type": "code",
      "execution_count": 13,
      "metadata": {
        "colab": {
          "base_uri": "https://localhost:8080/"
        },
        "id": "UU9o7p4mBfMt",
        "outputId": "f7121719-1557-4e1d-fd2b-898b82b4f0f9"
      },
      "outputs": [
        {
          "name": "stdout",
          "output_type": "stream",
          "text": [
            "(323429, 10008)\n"
          ]
        }
      ],
      "source": [
        "# Shape of the training feature matrix\n",
        "print(X_train.shape)"
      ]
    },
    {
      "cell_type": "code",
      "execution_count": 14,
      "metadata": {
        "colab": {
          "base_uri": "https://localhost:8080/"
        },
        "collapsed": true,
        "id": "jSugtJw1GjOA",
        "outputId": "2d079622-8c69-420d-d638-782337ece0b2"
      },
      "outputs": [
        {
          "name": "stdout",
          "output_type": "stream",
          "text": [
            "[[ 0.          0.          0.          0.          0.          0.\n",
            "   0.          0.          0.          0.          0.          0.\n",
            "   0.         -0.34188805  0.46828751 -0.72454931  0.49955342 -1.25117627\n",
            "  -1.26285587 -1.28655443]\n",
            " [ 0.          0.          0.          0.          0.          0.\n",
            "   0.          0.          0.          0.          0.          0.\n",
            "   0.83140505 -0.34188805 -0.49416894 -0.94416377 -0.48592674 -0.10403383\n",
            "  -0.28663211  0.13638816]]\n"
          ]
        }
      ],
      "source": [
        "# Display the last 20 features of the first two rows from the training feature matrix as a dense array\n",
        "import numpy as np\n",
        "print(X_train[:2].toarray()[:, -20:])"
      ]
    },
    {
      "cell_type": "markdown",
      "metadata": {
        "id": "C51mdP3RcK7K"
      },
      "source": [
        "## Modeling"
      ]
    },
    {
      "cell_type": "code",
      "execution_count": 15,
      "metadata": {
        "id": "SBENDh1jbwvh"
      },
      "outputs": [],
      "source": [
        "import pandas as pd\n",
        "\n",
        "# Creating an empty DataFrame to store results\n",
        "model_results = pd.DataFrame(columns=[\"Model\", \"AUROC\", \"Log Loss\"])"
      ]
    },
    {
      "cell_type": "code",
      "execution_count": 16,
      "metadata": {
        "id": "kvSroOiib8Ly"
      },
      "outputs": [],
      "source": [
        "def add_model_results(model_name, auroc, logloss):\n",
        "    global model_results\n",
        "    new_row = {\n",
        "        \"Model\": model_name,\n",
        "        \"AUROC\": round(auroc, 4),\n",
        "        \"Log Loss\": round(logloss, 4)\n",
        "    }\n",
        "    model_results = pd.concat([model_results, pd.DataFrame([new_row])], ignore_index=True)"
      ]
    },
    {
      "cell_type": "markdown",
      "metadata": {
        "id": "-iB_cW6JEy1L"
      },
      "source": [
        "### Logistic Regression"
      ]
    },
    {
      "cell_type": "code",
      "execution_count": 17,
      "metadata": {
        "id": "4k6EPH2Jv7X8"
      },
      "outputs": [],
      "source": [
        "# Import required evaluation and modeling tools\n",
        "from sklearn.linear_model import LogisticRegression\n",
        "from sklearn.metrics import log_loss, roc_auc_score, confusion_matrix, classification_report"
      ]
    },
    {
      "cell_type": "code",
      "execution_count": 18,
      "metadata": {
        "colab": {
          "base_uri": "https://localhost:8080/",
          "height": 80
        },
        "id": "M2t9_2MruziO",
        "outputId": "5823c052-428a-4489-bc99-7abd15cfa42b"
      },
      "outputs": [
        {
          "data": {
            "text/html": [
              "<style>#sk-container-id-1 {\n",
              "  /* Definition of color scheme common for light and dark mode */\n",
              "  --sklearn-color-text: #000;\n",
              "  --sklearn-color-text-muted: #666;\n",
              "  --sklearn-color-line: gray;\n",
              "  /* Definition of color scheme for unfitted estimators */\n",
              "  --sklearn-color-unfitted-level-0: #fff5e6;\n",
              "  --sklearn-color-unfitted-level-1: #f6e4d2;\n",
              "  --sklearn-color-unfitted-level-2: #ffe0b3;\n",
              "  --sklearn-color-unfitted-level-3: chocolate;\n",
              "  /* Definition of color scheme for fitted estimators */\n",
              "  --sklearn-color-fitted-level-0: #f0f8ff;\n",
              "  --sklearn-color-fitted-level-1: #d4ebff;\n",
              "  --sklearn-color-fitted-level-2: #b3dbfd;\n",
              "  --sklearn-color-fitted-level-3: cornflowerblue;\n",
              "\n",
              "  /* Specific color for light theme */\n",
              "  --sklearn-color-text-on-default-background: var(--sg-text-color, var(--theme-code-foreground, var(--jp-content-font-color1, black)));\n",
              "  --sklearn-color-background: var(--sg-background-color, var(--theme-background, var(--jp-layout-color0, white)));\n",
              "  --sklearn-color-border-box: var(--sg-text-color, var(--theme-code-foreground, var(--jp-content-font-color1, black)));\n",
              "  --sklearn-color-icon: #696969;\n",
              "\n",
              "  @media (prefers-color-scheme: dark) {\n",
              "    /* Redefinition of color scheme for dark theme */\n",
              "    --sklearn-color-text-on-default-background: var(--sg-text-color, var(--theme-code-foreground, var(--jp-content-font-color1, white)));\n",
              "    --sklearn-color-background: var(--sg-background-color, var(--theme-background, var(--jp-layout-color0, #111)));\n",
              "    --sklearn-color-border-box: var(--sg-text-color, var(--theme-code-foreground, var(--jp-content-font-color1, white)));\n",
              "    --sklearn-color-icon: #878787;\n",
              "  }\n",
              "}\n",
              "\n",
              "#sk-container-id-1 {\n",
              "  color: var(--sklearn-color-text);\n",
              "}\n",
              "\n",
              "#sk-container-id-1 pre {\n",
              "  padding: 0;\n",
              "}\n",
              "\n",
              "#sk-container-id-1 input.sk-hidden--visually {\n",
              "  border: 0;\n",
              "  clip: rect(1px 1px 1px 1px);\n",
              "  clip: rect(1px, 1px, 1px, 1px);\n",
              "  height: 1px;\n",
              "  margin: -1px;\n",
              "  overflow: hidden;\n",
              "  padding: 0;\n",
              "  position: absolute;\n",
              "  width: 1px;\n",
              "}\n",
              "\n",
              "#sk-container-id-1 div.sk-dashed-wrapped {\n",
              "  border: 1px dashed var(--sklearn-color-line);\n",
              "  margin: 0 0.4em 0.5em 0.4em;\n",
              "  box-sizing: border-box;\n",
              "  padding-bottom: 0.4em;\n",
              "  background-color: var(--sklearn-color-background);\n",
              "}\n",
              "\n",
              "#sk-container-id-1 div.sk-container {\n",
              "  /* jupyter's `normalize.less` sets `[hidden] { display: none; }`\n",
              "     but bootstrap.min.css set `[hidden] { display: none !important; }`\n",
              "     so we also need the `!important` here to be able to override the\n",
              "     default hidden behavior on the sphinx rendered scikit-learn.org.\n",
              "     See: https://github.com/scikit-learn/scikit-learn/issues/21755 */\n",
              "  display: inline-block !important;\n",
              "  position: relative;\n",
              "}\n",
              "\n",
              "#sk-container-id-1 div.sk-text-repr-fallback {\n",
              "  display: none;\n",
              "}\n",
              "\n",
              "div.sk-parallel-item,\n",
              "div.sk-serial,\n",
              "div.sk-item {\n",
              "  /* draw centered vertical line to link estimators */\n",
              "  background-image: linear-gradient(var(--sklearn-color-text-on-default-background), var(--sklearn-color-text-on-default-background));\n",
              "  background-size: 2px 100%;\n",
              "  background-repeat: no-repeat;\n",
              "  background-position: center center;\n",
              "}\n",
              "\n",
              "/* Parallel-specific style estimator block */\n",
              "\n",
              "#sk-container-id-1 div.sk-parallel-item::after {\n",
              "  content: \"\";\n",
              "  width: 100%;\n",
              "  border-bottom: 2px solid var(--sklearn-color-text-on-default-background);\n",
              "  flex-grow: 1;\n",
              "}\n",
              "\n",
              "#sk-container-id-1 div.sk-parallel {\n",
              "  display: flex;\n",
              "  align-items: stretch;\n",
              "  justify-content: center;\n",
              "  background-color: var(--sklearn-color-background);\n",
              "  position: relative;\n",
              "}\n",
              "\n",
              "#sk-container-id-1 div.sk-parallel-item {\n",
              "  display: flex;\n",
              "  flex-direction: column;\n",
              "}\n",
              "\n",
              "#sk-container-id-1 div.sk-parallel-item:first-child::after {\n",
              "  align-self: flex-end;\n",
              "  width: 50%;\n",
              "}\n",
              "\n",
              "#sk-container-id-1 div.sk-parallel-item:last-child::after {\n",
              "  align-self: flex-start;\n",
              "  width: 50%;\n",
              "}\n",
              "\n",
              "#sk-container-id-1 div.sk-parallel-item:only-child::after {\n",
              "  width: 0;\n",
              "}\n",
              "\n",
              "/* Serial-specific style estimator block */\n",
              "\n",
              "#sk-container-id-1 div.sk-serial {\n",
              "  display: flex;\n",
              "  flex-direction: column;\n",
              "  align-items: center;\n",
              "  background-color: var(--sklearn-color-background);\n",
              "  padding-right: 1em;\n",
              "  padding-left: 1em;\n",
              "}\n",
              "\n",
              "\n",
              "/* Toggleable style: style used for estimator/Pipeline/ColumnTransformer box that is\n",
              "clickable and can be expanded/collapsed.\n",
              "- Pipeline and ColumnTransformer use this feature and define the default style\n",
              "- Estimators will overwrite some part of the style using the `sk-estimator` class\n",
              "*/\n",
              "\n",
              "/* Pipeline and ColumnTransformer style (default) */\n",
              "\n",
              "#sk-container-id-1 div.sk-toggleable {\n",
              "  /* Default theme specific background. It is overwritten whether we have a\n",
              "  specific estimator or a Pipeline/ColumnTransformer */\n",
              "  background-color: var(--sklearn-color-background);\n",
              "}\n",
              "\n",
              "/* Toggleable label */\n",
              "#sk-container-id-1 label.sk-toggleable__label {\n",
              "  cursor: pointer;\n",
              "  display: flex;\n",
              "  width: 100%;\n",
              "  margin-bottom: 0;\n",
              "  padding: 0.5em;\n",
              "  box-sizing: border-box;\n",
              "  text-align: center;\n",
              "  align-items: start;\n",
              "  justify-content: space-between;\n",
              "  gap: 0.5em;\n",
              "}\n",
              "\n",
              "#sk-container-id-1 label.sk-toggleable__label .caption {\n",
              "  font-size: 0.6rem;\n",
              "  font-weight: lighter;\n",
              "  color: var(--sklearn-color-text-muted);\n",
              "}\n",
              "\n",
              "#sk-container-id-1 label.sk-toggleable__label-arrow:before {\n",
              "  /* Arrow on the left of the label */\n",
              "  content: \"▸\";\n",
              "  float: left;\n",
              "  margin-right: 0.25em;\n",
              "  color: var(--sklearn-color-icon);\n",
              "}\n",
              "\n",
              "#sk-container-id-1 label.sk-toggleable__label-arrow:hover:before {\n",
              "  color: var(--sklearn-color-text);\n",
              "}\n",
              "\n",
              "/* Toggleable content - dropdown */\n",
              "\n",
              "#sk-container-id-1 div.sk-toggleable__content {\n",
              "  max-height: 0;\n",
              "  max-width: 0;\n",
              "  overflow: hidden;\n",
              "  text-align: left;\n",
              "  /* unfitted */\n",
              "  background-color: var(--sklearn-color-unfitted-level-0);\n",
              "}\n",
              "\n",
              "#sk-container-id-1 div.sk-toggleable__content.fitted {\n",
              "  /* fitted */\n",
              "  background-color: var(--sklearn-color-fitted-level-0);\n",
              "}\n",
              "\n",
              "#sk-container-id-1 div.sk-toggleable__content pre {\n",
              "  margin: 0.2em;\n",
              "  border-radius: 0.25em;\n",
              "  color: var(--sklearn-color-text);\n",
              "  /* unfitted */\n",
              "  background-color: var(--sklearn-color-unfitted-level-0);\n",
              "}\n",
              "\n",
              "#sk-container-id-1 div.sk-toggleable__content.fitted pre {\n",
              "  /* unfitted */\n",
              "  background-color: var(--sklearn-color-fitted-level-0);\n",
              "}\n",
              "\n",
              "#sk-container-id-1 input.sk-toggleable__control:checked~div.sk-toggleable__content {\n",
              "  /* Expand drop-down */\n",
              "  max-height: 200px;\n",
              "  max-width: 100%;\n",
              "  overflow: auto;\n",
              "}\n",
              "\n",
              "#sk-container-id-1 input.sk-toggleable__control:checked~label.sk-toggleable__label-arrow:before {\n",
              "  content: \"▾\";\n",
              "}\n",
              "\n",
              "/* Pipeline/ColumnTransformer-specific style */\n",
              "\n",
              "#sk-container-id-1 div.sk-label input.sk-toggleable__control:checked~label.sk-toggleable__label {\n",
              "  color: var(--sklearn-color-text);\n",
              "  background-color: var(--sklearn-color-unfitted-level-2);\n",
              "}\n",
              "\n",
              "#sk-container-id-1 div.sk-label.fitted input.sk-toggleable__control:checked~label.sk-toggleable__label {\n",
              "  background-color: var(--sklearn-color-fitted-level-2);\n",
              "}\n",
              "\n",
              "/* Estimator-specific style */\n",
              "\n",
              "/* Colorize estimator box */\n",
              "#sk-container-id-1 div.sk-estimator input.sk-toggleable__control:checked~label.sk-toggleable__label {\n",
              "  /* unfitted */\n",
              "  background-color: var(--sklearn-color-unfitted-level-2);\n",
              "}\n",
              "\n",
              "#sk-container-id-1 div.sk-estimator.fitted input.sk-toggleable__control:checked~label.sk-toggleable__label {\n",
              "  /* fitted */\n",
              "  background-color: var(--sklearn-color-fitted-level-2);\n",
              "}\n",
              "\n",
              "#sk-container-id-1 div.sk-label label.sk-toggleable__label,\n",
              "#sk-container-id-1 div.sk-label label {\n",
              "  /* The background is the default theme color */\n",
              "  color: var(--sklearn-color-text-on-default-background);\n",
              "}\n",
              "\n",
              "/* On hover, darken the color of the background */\n",
              "#sk-container-id-1 div.sk-label:hover label.sk-toggleable__label {\n",
              "  color: var(--sklearn-color-text);\n",
              "  background-color: var(--sklearn-color-unfitted-level-2);\n",
              "}\n",
              "\n",
              "/* Label box, darken color on hover, fitted */\n",
              "#sk-container-id-1 div.sk-label.fitted:hover label.sk-toggleable__label.fitted {\n",
              "  color: var(--sklearn-color-text);\n",
              "  background-color: var(--sklearn-color-fitted-level-2);\n",
              "}\n",
              "\n",
              "/* Estimator label */\n",
              "\n",
              "#sk-container-id-1 div.sk-label label {\n",
              "  font-family: monospace;\n",
              "  font-weight: bold;\n",
              "  display: inline-block;\n",
              "  line-height: 1.2em;\n",
              "}\n",
              "\n",
              "#sk-container-id-1 div.sk-label-container {\n",
              "  text-align: center;\n",
              "}\n",
              "\n",
              "/* Estimator-specific */\n",
              "#sk-container-id-1 div.sk-estimator {\n",
              "  font-family: monospace;\n",
              "  border: 1px dotted var(--sklearn-color-border-box);\n",
              "  border-radius: 0.25em;\n",
              "  box-sizing: border-box;\n",
              "  margin-bottom: 0.5em;\n",
              "  /* unfitted */\n",
              "  background-color: var(--sklearn-color-unfitted-level-0);\n",
              "}\n",
              "\n",
              "#sk-container-id-1 div.sk-estimator.fitted {\n",
              "  /* fitted */\n",
              "  background-color: var(--sklearn-color-fitted-level-0);\n",
              "}\n",
              "\n",
              "/* on hover */\n",
              "#sk-container-id-1 div.sk-estimator:hover {\n",
              "  /* unfitted */\n",
              "  background-color: var(--sklearn-color-unfitted-level-2);\n",
              "}\n",
              "\n",
              "#sk-container-id-1 div.sk-estimator.fitted:hover {\n",
              "  /* fitted */\n",
              "  background-color: var(--sklearn-color-fitted-level-2);\n",
              "}\n",
              "\n",
              "/* Specification for estimator info (e.g. \"i\" and \"?\") */\n",
              "\n",
              "/* Common style for \"i\" and \"?\" */\n",
              "\n",
              ".sk-estimator-doc-link,\n",
              "a:link.sk-estimator-doc-link,\n",
              "a:visited.sk-estimator-doc-link {\n",
              "  float: right;\n",
              "  font-size: smaller;\n",
              "  line-height: 1em;\n",
              "  font-family: monospace;\n",
              "  background-color: var(--sklearn-color-background);\n",
              "  border-radius: 1em;\n",
              "  height: 1em;\n",
              "  width: 1em;\n",
              "  text-decoration: none !important;\n",
              "  margin-left: 0.5em;\n",
              "  text-align: center;\n",
              "  /* unfitted */\n",
              "  border: var(--sklearn-color-unfitted-level-1) 1pt solid;\n",
              "  color: var(--sklearn-color-unfitted-level-1);\n",
              "}\n",
              "\n",
              ".sk-estimator-doc-link.fitted,\n",
              "a:link.sk-estimator-doc-link.fitted,\n",
              "a:visited.sk-estimator-doc-link.fitted {\n",
              "  /* fitted */\n",
              "  border: var(--sklearn-color-fitted-level-1) 1pt solid;\n",
              "  color: var(--sklearn-color-fitted-level-1);\n",
              "}\n",
              "\n",
              "/* On hover */\n",
              "div.sk-estimator:hover .sk-estimator-doc-link:hover,\n",
              ".sk-estimator-doc-link:hover,\n",
              "div.sk-label-container:hover .sk-estimator-doc-link:hover,\n",
              ".sk-estimator-doc-link:hover {\n",
              "  /* unfitted */\n",
              "  background-color: var(--sklearn-color-unfitted-level-3);\n",
              "  color: var(--sklearn-color-background);\n",
              "  text-decoration: none;\n",
              "}\n",
              "\n",
              "div.sk-estimator.fitted:hover .sk-estimator-doc-link.fitted:hover,\n",
              ".sk-estimator-doc-link.fitted:hover,\n",
              "div.sk-label-container:hover .sk-estimator-doc-link.fitted:hover,\n",
              ".sk-estimator-doc-link.fitted:hover {\n",
              "  /* fitted */\n",
              "  background-color: var(--sklearn-color-fitted-level-3);\n",
              "  color: var(--sklearn-color-background);\n",
              "  text-decoration: none;\n",
              "}\n",
              "\n",
              "/* Span, style for the box shown on hovering the info icon */\n",
              ".sk-estimator-doc-link span {\n",
              "  display: none;\n",
              "  z-index: 9999;\n",
              "  position: relative;\n",
              "  font-weight: normal;\n",
              "  right: .2ex;\n",
              "  padding: .5ex;\n",
              "  margin: .5ex;\n",
              "  width: min-content;\n",
              "  min-width: 20ex;\n",
              "  max-width: 50ex;\n",
              "  color: var(--sklearn-color-text);\n",
              "  box-shadow: 2pt 2pt 4pt #999;\n",
              "  /* unfitted */\n",
              "  background: var(--sklearn-color-unfitted-level-0);\n",
              "  border: .5pt solid var(--sklearn-color-unfitted-level-3);\n",
              "}\n",
              "\n",
              ".sk-estimator-doc-link.fitted span {\n",
              "  /* fitted */\n",
              "  background: var(--sklearn-color-fitted-level-0);\n",
              "  border: var(--sklearn-color-fitted-level-3);\n",
              "}\n",
              "\n",
              ".sk-estimator-doc-link:hover span {\n",
              "  display: block;\n",
              "}\n",
              "\n",
              "/* \"?\"-specific style due to the `<a>` HTML tag */\n",
              "\n",
              "#sk-container-id-1 a.estimator_doc_link {\n",
              "  float: right;\n",
              "  font-size: 1rem;\n",
              "  line-height: 1em;\n",
              "  font-family: monospace;\n",
              "  background-color: var(--sklearn-color-background);\n",
              "  border-radius: 1rem;\n",
              "  height: 1rem;\n",
              "  width: 1rem;\n",
              "  text-decoration: none;\n",
              "  /* unfitted */\n",
              "  color: var(--sklearn-color-unfitted-level-1);\n",
              "  border: var(--sklearn-color-unfitted-level-1) 1pt solid;\n",
              "}\n",
              "\n",
              "#sk-container-id-1 a.estimator_doc_link.fitted {\n",
              "  /* fitted */\n",
              "  border: var(--sklearn-color-fitted-level-1) 1pt solid;\n",
              "  color: var(--sklearn-color-fitted-level-1);\n",
              "}\n",
              "\n",
              "/* On hover */\n",
              "#sk-container-id-1 a.estimator_doc_link:hover {\n",
              "  /* unfitted */\n",
              "  background-color: var(--sklearn-color-unfitted-level-3);\n",
              "  color: var(--sklearn-color-background);\n",
              "  text-decoration: none;\n",
              "}\n",
              "\n",
              "#sk-container-id-1 a.estimator_doc_link.fitted:hover {\n",
              "  /* fitted */\n",
              "  background-color: var(--sklearn-color-fitted-level-3);\n",
              "}\n",
              "</style><div id=\"sk-container-id-1\" class=\"sk-top-container\"><div class=\"sk-text-repr-fallback\"><pre>LogisticRegression(max_iter=1000, random_state=42)</pre><b>In a Jupyter environment, please rerun this cell to show the HTML representation or trust the notebook. <br />On GitHub, the HTML representation is unable to render, please try loading this page with nbviewer.org.</b></div><div class=\"sk-container\" hidden><div class=\"sk-item\"><div class=\"sk-estimator fitted sk-toggleable\"><input class=\"sk-toggleable__control sk-hidden--visually\" id=\"sk-estimator-id-1\" type=\"checkbox\" checked><label for=\"sk-estimator-id-1\" class=\"sk-toggleable__label fitted sk-toggleable__label-arrow\"><div><div>LogisticRegression</div></div><div><a class=\"sk-estimator-doc-link fitted\" rel=\"noreferrer\" target=\"_blank\" href=\"https://scikit-learn.org/1.6/modules/generated/sklearn.linear_model.LogisticRegression.html\">?<span>Documentation for LogisticRegression</span></a><span class=\"sk-estimator-doc-link fitted\">i<span>Fitted</span></span></div></label><div class=\"sk-toggleable__content fitted\"><pre>LogisticRegression(max_iter=1000, random_state=42)</pre></div> </div></div></div></div>"
            ],
            "text/plain": [
              "LogisticRegression(max_iter=1000, random_state=42)"
            ]
          },
          "execution_count": 18,
          "metadata": {},
          "output_type": "execute_result"
        }
      ],
      "source": [
        "# Initialize and train a logistic regression model\n",
        "log_reg = LogisticRegression(max_iter=1000, random_state=42)\n",
        "log_reg.fit(X_train, y_train)"
      ]
    },
    {
      "cell_type": "code",
      "execution_count": 19,
      "metadata": {
        "id": "ZBPG6x7vyMyL"
      },
      "outputs": [],
      "source": [
        "# Extract true labels for the test set\n",
        "y_test= df_test['is_duplicate']"
      ]
    },
    {
      "cell_type": "code",
      "execution_count": 20,
      "metadata": {
        "colab": {
          "base_uri": "https://localhost:8080/"
        },
        "id": "BrtmIHyyxxY_",
        "outputId": "a0590204-eab6-4329-e0b3-2161b790d3ce"
      },
      "outputs": [
        {
          "name": "stdout",
          "output_type": "stream",
          "text": [
            "AUROC on training data: 0.8759\n",
            "AUROC on test data: 0.8612\n",
            "\n",
            "Classification Report (Test):\n",
            "              precision    recall  f1-score   support\n",
            "\n",
            "           0       0.82      0.84      0.83     51005\n",
            "           1       0.72      0.67      0.70     29853\n",
            "\n",
            "    accuracy                           0.78     80858\n",
            "   macro avg       0.77      0.76      0.76     80858\n",
            "weighted avg       0.78      0.78      0.78     80858\n",
            "\n",
            "Confusion Matrix (Test):\n",
            "[[43059  7946]\n",
            " [ 9714 20139]]\n"
          ]
        }
      ],
      "source": [
        "# Predict classes and probabilities for both train and test sets\n",
        "train_preds = log_reg.predict(X_train)\n",
        "test_preds = log_reg.predict(X_test)\n",
        "\n",
        "train_probs = log_reg.predict_proba(X_train)[:, 1]\n",
        "test_probs = log_reg.predict_proba(X_test)[:, 1]\n",
        "\n",
        "# Compute AUROC scores for train and test sets\n",
        "train_auroc = roc_auc_score(y_train, train_probs)\n",
        "test_auroc = roc_auc_score(y_test, test_probs)\n",
        "\n",
        "# Display AUROC scores\n",
        "print(f\"AUROC on training data: {train_auroc:.4f}\")\n",
        "print(f\"AUROC on test data: {test_auroc:.4f}\")\n",
        "\n",
        "# Detailed classification report for the test set\n",
        "print(\"\\nClassification Report (Test):\")\n",
        "print(classification_report(y_test, test_preds))\n",
        "\n",
        "# Confusion matrix for the test set\n",
        "print(\"Confusion Matrix (Test):\")\n",
        "print(confusion_matrix(y_test, test_preds))"
      ]
    },
    {
      "cell_type": "code",
      "execution_count": 21,
      "metadata": {
        "colab": {
          "base_uri": "https://localhost:8080/"
        },
        "id": "BA5b8r-vyXXU",
        "outputId": "4272a48e-ed12-4921-d2aa-35b0c0f8e8b7"
      },
      "outputs": [
        {
          "name": "stdout",
          "output_type": "stream",
          "text": [
            "Log loss train: 0.4232\n",
            "Log loss test: 0.4438\n"
          ]
        }
      ],
      "source": [
        "# Compute log loss for train and test sets\n",
        "from sklearn.metrics import log_loss\n",
        "loss_train = log_loss(y_train, train_probs)\n",
        "loss_test = log_loss(y_test, test_probs)\n",
        "\n",
        "print(f\"Log loss train: {loss_train:.4f}\")\n",
        "print(f\"Log loss test: {loss_test:.4f}\")\n"
      ]
    },
    {
      "cell_type": "markdown",
      "metadata": {
        "id": "nvD4_UqWIDsl"
      },
      "source": [
        "Train AUROC: 0.8756, Test AUROC: 0.8613\n",
        "\n",
        "The model performs well in distinguishing between the two classes.The small gap between train and test scores suggests the model generalizes well.\n",
        "\n",
        "Train Log Loss: 0.4235, Test Log Loss: 0.4438\n",
        "\n",
        "These values indicate that the model performs consistently well on both the training and test datasets. The slightly higher log loss on the test set is expected and suggests minor overfitting, but the gap is small — which means the model generalizes reasonably well to unseen data.\n",
        "\n",
        "\n",
        "7,959 non-duplicate questions were incorrectly classified as duplicates, 9718 duplicate questions were missed.\n",
        "\n"
      ]
    },
    {
      "cell_type": "code",
      "execution_count": 22,
      "metadata": {
        "colab": {
          "base_uri": "https://localhost:8080/"
        },
        "id": "P6ujyjOKdBKs",
        "outputId": "5dd716fc-1f2d-4c87-a3d6-ac1ffc1cad19"
      },
      "outputs": [
        {
          "name": "stderr",
          "output_type": "stream",
          "text": [
            "/tmp/ipython-input-16-771047900.py:8: FutureWarning: The behavior of DataFrame concatenation with empty or all-NA entries is deprecated. In a future version, this will no longer exclude empty or all-NA columns when determining the result dtypes. To retain the old behavior, exclude the relevant entries before the concat operation.\n",
            "  model_results = pd.concat([model_results, pd.DataFrame([new_row])], ignore_index=True)\n"
          ]
        }
      ],
      "source": [
        "add_model_results(\"Logistic Regression\", test_auroc, loss_test)"
      ]
    },
    {
      "cell_type": "code",
      "execution_count": 23,
      "metadata": {
        "colab": {
          "base_uri": "https://localhost:8080/"
        },
        "id": "qo2f9VjtsfgK",
        "outputId": "387696dc-afab-4045-a574-2763c9e507a3"
      },
      "outputs": [
        {
          "data": {
            "text/plain": [
              "['models/log_reg.joblib']"
            ]
          },
          "execution_count": 23,
          "metadata": {},
          "output_type": "execute_result"
        }
      ],
      "source": [
        "# Save our model\n",
        "import joblib\n",
        "import os\n",
        "\n",
        "# Create a directory named 'models'\n",
        "os.makedirs(\"models\", exist_ok=True)\n",
        "\n",
        "# Save the model to a file\n",
        "joblib.dump(log_reg, \"models/log_reg.joblib\")"
      ]
    },
    {
      "cell_type": "markdown",
      "metadata": {
        "id": "G7GUQIKWF2U5"
      },
      "source": [
        "### XGboost"
      ]
    },
    {
      "cell_type": "code",
      "execution_count": 24,
      "metadata": {
        "colab": {
          "base_uri": "https://localhost:8080/",
          "height": 326
        },
        "id": "veufEYY8P3Ff",
        "outputId": "1297ae13-5b5f-41a5-a1cf-485910cdc036"
      },
      "outputs": [
        {
          "name": "stderr",
          "output_type": "stream",
          "text": [
            "/usr/local/lib/python3.11/dist-packages/xgboost/core.py:158: UserWarning: [09:05:26] WARNING: /workspace/src/learner.cc:740: \n",
            "Parameters: { \"use_label_encoder\" } are not used.\n",
            "\n",
            "  warnings.warn(smsg, UserWarning)\n"
          ]
        },
        {
          "data": {
            "text/html": [
              "<style>#sk-container-id-2 {\n",
              "  /* Definition of color scheme common for light and dark mode */\n",
              "  --sklearn-color-text: #000;\n",
              "  --sklearn-color-text-muted: #666;\n",
              "  --sklearn-color-line: gray;\n",
              "  /* Definition of color scheme for unfitted estimators */\n",
              "  --sklearn-color-unfitted-level-0: #fff5e6;\n",
              "  --sklearn-color-unfitted-level-1: #f6e4d2;\n",
              "  --sklearn-color-unfitted-level-2: #ffe0b3;\n",
              "  --sklearn-color-unfitted-level-3: chocolate;\n",
              "  /* Definition of color scheme for fitted estimators */\n",
              "  --sklearn-color-fitted-level-0: #f0f8ff;\n",
              "  --sklearn-color-fitted-level-1: #d4ebff;\n",
              "  --sklearn-color-fitted-level-2: #b3dbfd;\n",
              "  --sklearn-color-fitted-level-3: cornflowerblue;\n",
              "\n",
              "  /* Specific color for light theme */\n",
              "  --sklearn-color-text-on-default-background: var(--sg-text-color, var(--theme-code-foreground, var(--jp-content-font-color1, black)));\n",
              "  --sklearn-color-background: var(--sg-background-color, var(--theme-background, var(--jp-layout-color0, white)));\n",
              "  --sklearn-color-border-box: var(--sg-text-color, var(--theme-code-foreground, var(--jp-content-font-color1, black)));\n",
              "  --sklearn-color-icon: #696969;\n",
              "\n",
              "  @media (prefers-color-scheme: dark) {\n",
              "    /* Redefinition of color scheme for dark theme */\n",
              "    --sklearn-color-text-on-default-background: var(--sg-text-color, var(--theme-code-foreground, var(--jp-content-font-color1, white)));\n",
              "    --sklearn-color-background: var(--sg-background-color, var(--theme-background, var(--jp-layout-color0, #111)));\n",
              "    --sklearn-color-border-box: var(--sg-text-color, var(--theme-code-foreground, var(--jp-content-font-color1, white)));\n",
              "    --sklearn-color-icon: #878787;\n",
              "  }\n",
              "}\n",
              "\n",
              "#sk-container-id-2 {\n",
              "  color: var(--sklearn-color-text);\n",
              "}\n",
              "\n",
              "#sk-container-id-2 pre {\n",
              "  padding: 0;\n",
              "}\n",
              "\n",
              "#sk-container-id-2 input.sk-hidden--visually {\n",
              "  border: 0;\n",
              "  clip: rect(1px 1px 1px 1px);\n",
              "  clip: rect(1px, 1px, 1px, 1px);\n",
              "  height: 1px;\n",
              "  margin: -1px;\n",
              "  overflow: hidden;\n",
              "  padding: 0;\n",
              "  position: absolute;\n",
              "  width: 1px;\n",
              "}\n",
              "\n",
              "#sk-container-id-2 div.sk-dashed-wrapped {\n",
              "  border: 1px dashed var(--sklearn-color-line);\n",
              "  margin: 0 0.4em 0.5em 0.4em;\n",
              "  box-sizing: border-box;\n",
              "  padding-bottom: 0.4em;\n",
              "  background-color: var(--sklearn-color-background);\n",
              "}\n",
              "\n",
              "#sk-container-id-2 div.sk-container {\n",
              "  /* jupyter's `normalize.less` sets `[hidden] { display: none; }`\n",
              "     but bootstrap.min.css set `[hidden] { display: none !important; }`\n",
              "     so we also need the `!important` here to be able to override the\n",
              "     default hidden behavior on the sphinx rendered scikit-learn.org.\n",
              "     See: https://github.com/scikit-learn/scikit-learn/issues/21755 */\n",
              "  display: inline-block !important;\n",
              "  position: relative;\n",
              "}\n",
              "\n",
              "#sk-container-id-2 div.sk-text-repr-fallback {\n",
              "  display: none;\n",
              "}\n",
              "\n",
              "div.sk-parallel-item,\n",
              "div.sk-serial,\n",
              "div.sk-item {\n",
              "  /* draw centered vertical line to link estimators */\n",
              "  background-image: linear-gradient(var(--sklearn-color-text-on-default-background), var(--sklearn-color-text-on-default-background));\n",
              "  background-size: 2px 100%;\n",
              "  background-repeat: no-repeat;\n",
              "  background-position: center center;\n",
              "}\n",
              "\n",
              "/* Parallel-specific style estimator block */\n",
              "\n",
              "#sk-container-id-2 div.sk-parallel-item::after {\n",
              "  content: \"\";\n",
              "  width: 100%;\n",
              "  border-bottom: 2px solid var(--sklearn-color-text-on-default-background);\n",
              "  flex-grow: 1;\n",
              "}\n",
              "\n",
              "#sk-container-id-2 div.sk-parallel {\n",
              "  display: flex;\n",
              "  align-items: stretch;\n",
              "  justify-content: center;\n",
              "  background-color: var(--sklearn-color-background);\n",
              "  position: relative;\n",
              "}\n",
              "\n",
              "#sk-container-id-2 div.sk-parallel-item {\n",
              "  display: flex;\n",
              "  flex-direction: column;\n",
              "}\n",
              "\n",
              "#sk-container-id-2 div.sk-parallel-item:first-child::after {\n",
              "  align-self: flex-end;\n",
              "  width: 50%;\n",
              "}\n",
              "\n",
              "#sk-container-id-2 div.sk-parallel-item:last-child::after {\n",
              "  align-self: flex-start;\n",
              "  width: 50%;\n",
              "}\n",
              "\n",
              "#sk-container-id-2 div.sk-parallel-item:only-child::after {\n",
              "  width: 0;\n",
              "}\n",
              "\n",
              "/* Serial-specific style estimator block */\n",
              "\n",
              "#sk-container-id-2 div.sk-serial {\n",
              "  display: flex;\n",
              "  flex-direction: column;\n",
              "  align-items: center;\n",
              "  background-color: var(--sklearn-color-background);\n",
              "  padding-right: 1em;\n",
              "  padding-left: 1em;\n",
              "}\n",
              "\n",
              "\n",
              "/* Toggleable style: style used for estimator/Pipeline/ColumnTransformer box that is\n",
              "clickable and can be expanded/collapsed.\n",
              "- Pipeline and ColumnTransformer use this feature and define the default style\n",
              "- Estimators will overwrite some part of the style using the `sk-estimator` class\n",
              "*/\n",
              "\n",
              "/* Pipeline and ColumnTransformer style (default) */\n",
              "\n",
              "#sk-container-id-2 div.sk-toggleable {\n",
              "  /* Default theme specific background. It is overwritten whether we have a\n",
              "  specific estimator or a Pipeline/ColumnTransformer */\n",
              "  background-color: var(--sklearn-color-background);\n",
              "}\n",
              "\n",
              "/* Toggleable label */\n",
              "#sk-container-id-2 label.sk-toggleable__label {\n",
              "  cursor: pointer;\n",
              "  display: flex;\n",
              "  width: 100%;\n",
              "  margin-bottom: 0;\n",
              "  padding: 0.5em;\n",
              "  box-sizing: border-box;\n",
              "  text-align: center;\n",
              "  align-items: start;\n",
              "  justify-content: space-between;\n",
              "  gap: 0.5em;\n",
              "}\n",
              "\n",
              "#sk-container-id-2 label.sk-toggleable__label .caption {\n",
              "  font-size: 0.6rem;\n",
              "  font-weight: lighter;\n",
              "  color: var(--sklearn-color-text-muted);\n",
              "}\n",
              "\n",
              "#sk-container-id-2 label.sk-toggleable__label-arrow:before {\n",
              "  /* Arrow on the left of the label */\n",
              "  content: \"▸\";\n",
              "  float: left;\n",
              "  margin-right: 0.25em;\n",
              "  color: var(--sklearn-color-icon);\n",
              "}\n",
              "\n",
              "#sk-container-id-2 label.sk-toggleable__label-arrow:hover:before {\n",
              "  color: var(--sklearn-color-text);\n",
              "}\n",
              "\n",
              "/* Toggleable content - dropdown */\n",
              "\n",
              "#sk-container-id-2 div.sk-toggleable__content {\n",
              "  max-height: 0;\n",
              "  max-width: 0;\n",
              "  overflow: hidden;\n",
              "  text-align: left;\n",
              "  /* unfitted */\n",
              "  background-color: var(--sklearn-color-unfitted-level-0);\n",
              "}\n",
              "\n",
              "#sk-container-id-2 div.sk-toggleable__content.fitted {\n",
              "  /* fitted */\n",
              "  background-color: var(--sklearn-color-fitted-level-0);\n",
              "}\n",
              "\n",
              "#sk-container-id-2 div.sk-toggleable__content pre {\n",
              "  margin: 0.2em;\n",
              "  border-radius: 0.25em;\n",
              "  color: var(--sklearn-color-text);\n",
              "  /* unfitted */\n",
              "  background-color: var(--sklearn-color-unfitted-level-0);\n",
              "}\n",
              "\n",
              "#sk-container-id-2 div.sk-toggleable__content.fitted pre {\n",
              "  /* unfitted */\n",
              "  background-color: var(--sklearn-color-fitted-level-0);\n",
              "}\n",
              "\n",
              "#sk-container-id-2 input.sk-toggleable__control:checked~div.sk-toggleable__content {\n",
              "  /* Expand drop-down */\n",
              "  max-height: 200px;\n",
              "  max-width: 100%;\n",
              "  overflow: auto;\n",
              "}\n",
              "\n",
              "#sk-container-id-2 input.sk-toggleable__control:checked~label.sk-toggleable__label-arrow:before {\n",
              "  content: \"▾\";\n",
              "}\n",
              "\n",
              "/* Pipeline/ColumnTransformer-specific style */\n",
              "\n",
              "#sk-container-id-2 div.sk-label input.sk-toggleable__control:checked~label.sk-toggleable__label {\n",
              "  color: var(--sklearn-color-text);\n",
              "  background-color: var(--sklearn-color-unfitted-level-2);\n",
              "}\n",
              "\n",
              "#sk-container-id-2 div.sk-label.fitted input.sk-toggleable__control:checked~label.sk-toggleable__label {\n",
              "  background-color: var(--sklearn-color-fitted-level-2);\n",
              "}\n",
              "\n",
              "/* Estimator-specific style */\n",
              "\n",
              "/* Colorize estimator box */\n",
              "#sk-container-id-2 div.sk-estimator input.sk-toggleable__control:checked~label.sk-toggleable__label {\n",
              "  /* unfitted */\n",
              "  background-color: var(--sklearn-color-unfitted-level-2);\n",
              "}\n",
              "\n",
              "#sk-container-id-2 div.sk-estimator.fitted input.sk-toggleable__control:checked~label.sk-toggleable__label {\n",
              "  /* fitted */\n",
              "  background-color: var(--sklearn-color-fitted-level-2);\n",
              "}\n",
              "\n",
              "#sk-container-id-2 div.sk-label label.sk-toggleable__label,\n",
              "#sk-container-id-2 div.sk-label label {\n",
              "  /* The background is the default theme color */\n",
              "  color: var(--sklearn-color-text-on-default-background);\n",
              "}\n",
              "\n",
              "/* On hover, darken the color of the background */\n",
              "#sk-container-id-2 div.sk-label:hover label.sk-toggleable__label {\n",
              "  color: var(--sklearn-color-text);\n",
              "  background-color: var(--sklearn-color-unfitted-level-2);\n",
              "}\n",
              "\n",
              "/* Label box, darken color on hover, fitted */\n",
              "#sk-container-id-2 div.sk-label.fitted:hover label.sk-toggleable__label.fitted {\n",
              "  color: var(--sklearn-color-text);\n",
              "  background-color: var(--sklearn-color-fitted-level-2);\n",
              "}\n",
              "\n",
              "/* Estimator label */\n",
              "\n",
              "#sk-container-id-2 div.sk-label label {\n",
              "  font-family: monospace;\n",
              "  font-weight: bold;\n",
              "  display: inline-block;\n",
              "  line-height: 1.2em;\n",
              "}\n",
              "\n",
              "#sk-container-id-2 div.sk-label-container {\n",
              "  text-align: center;\n",
              "}\n",
              "\n",
              "/* Estimator-specific */\n",
              "#sk-container-id-2 div.sk-estimator {\n",
              "  font-family: monospace;\n",
              "  border: 1px dotted var(--sklearn-color-border-box);\n",
              "  border-radius: 0.25em;\n",
              "  box-sizing: border-box;\n",
              "  margin-bottom: 0.5em;\n",
              "  /* unfitted */\n",
              "  background-color: var(--sklearn-color-unfitted-level-0);\n",
              "}\n",
              "\n",
              "#sk-container-id-2 div.sk-estimator.fitted {\n",
              "  /* fitted */\n",
              "  background-color: var(--sklearn-color-fitted-level-0);\n",
              "}\n",
              "\n",
              "/* on hover */\n",
              "#sk-container-id-2 div.sk-estimator:hover {\n",
              "  /* unfitted */\n",
              "  background-color: var(--sklearn-color-unfitted-level-2);\n",
              "}\n",
              "\n",
              "#sk-container-id-2 div.sk-estimator.fitted:hover {\n",
              "  /* fitted */\n",
              "  background-color: var(--sklearn-color-fitted-level-2);\n",
              "}\n",
              "\n",
              "/* Specification for estimator info (e.g. \"i\" and \"?\") */\n",
              "\n",
              "/* Common style for \"i\" and \"?\" */\n",
              "\n",
              ".sk-estimator-doc-link,\n",
              "a:link.sk-estimator-doc-link,\n",
              "a:visited.sk-estimator-doc-link {\n",
              "  float: right;\n",
              "  font-size: smaller;\n",
              "  line-height: 1em;\n",
              "  font-family: monospace;\n",
              "  background-color: var(--sklearn-color-background);\n",
              "  border-radius: 1em;\n",
              "  height: 1em;\n",
              "  width: 1em;\n",
              "  text-decoration: none !important;\n",
              "  margin-left: 0.5em;\n",
              "  text-align: center;\n",
              "  /* unfitted */\n",
              "  border: var(--sklearn-color-unfitted-level-1) 1pt solid;\n",
              "  color: var(--sklearn-color-unfitted-level-1);\n",
              "}\n",
              "\n",
              ".sk-estimator-doc-link.fitted,\n",
              "a:link.sk-estimator-doc-link.fitted,\n",
              "a:visited.sk-estimator-doc-link.fitted {\n",
              "  /* fitted */\n",
              "  border: var(--sklearn-color-fitted-level-1) 1pt solid;\n",
              "  color: var(--sklearn-color-fitted-level-1);\n",
              "}\n",
              "\n",
              "/* On hover */\n",
              "div.sk-estimator:hover .sk-estimator-doc-link:hover,\n",
              ".sk-estimator-doc-link:hover,\n",
              "div.sk-label-container:hover .sk-estimator-doc-link:hover,\n",
              ".sk-estimator-doc-link:hover {\n",
              "  /* unfitted */\n",
              "  background-color: var(--sklearn-color-unfitted-level-3);\n",
              "  color: var(--sklearn-color-background);\n",
              "  text-decoration: none;\n",
              "}\n",
              "\n",
              "div.sk-estimator.fitted:hover .sk-estimator-doc-link.fitted:hover,\n",
              ".sk-estimator-doc-link.fitted:hover,\n",
              "div.sk-label-container:hover .sk-estimator-doc-link.fitted:hover,\n",
              ".sk-estimator-doc-link.fitted:hover {\n",
              "  /* fitted */\n",
              "  background-color: var(--sklearn-color-fitted-level-3);\n",
              "  color: var(--sklearn-color-background);\n",
              "  text-decoration: none;\n",
              "}\n",
              "\n",
              "/* Span, style for the box shown on hovering the info icon */\n",
              ".sk-estimator-doc-link span {\n",
              "  display: none;\n",
              "  z-index: 9999;\n",
              "  position: relative;\n",
              "  font-weight: normal;\n",
              "  right: .2ex;\n",
              "  padding: .5ex;\n",
              "  margin: .5ex;\n",
              "  width: min-content;\n",
              "  min-width: 20ex;\n",
              "  max-width: 50ex;\n",
              "  color: var(--sklearn-color-text);\n",
              "  box-shadow: 2pt 2pt 4pt #999;\n",
              "  /* unfitted */\n",
              "  background: var(--sklearn-color-unfitted-level-0);\n",
              "  border: .5pt solid var(--sklearn-color-unfitted-level-3);\n",
              "}\n",
              "\n",
              ".sk-estimator-doc-link.fitted span {\n",
              "  /* fitted */\n",
              "  background: var(--sklearn-color-fitted-level-0);\n",
              "  border: var(--sklearn-color-fitted-level-3);\n",
              "}\n",
              "\n",
              ".sk-estimator-doc-link:hover span {\n",
              "  display: block;\n",
              "}\n",
              "\n",
              "/* \"?\"-specific style due to the `<a>` HTML tag */\n",
              "\n",
              "#sk-container-id-2 a.estimator_doc_link {\n",
              "  float: right;\n",
              "  font-size: 1rem;\n",
              "  line-height: 1em;\n",
              "  font-family: monospace;\n",
              "  background-color: var(--sklearn-color-background);\n",
              "  border-radius: 1rem;\n",
              "  height: 1rem;\n",
              "  width: 1rem;\n",
              "  text-decoration: none;\n",
              "  /* unfitted */\n",
              "  color: var(--sklearn-color-unfitted-level-1);\n",
              "  border: var(--sklearn-color-unfitted-level-1) 1pt solid;\n",
              "}\n",
              "\n",
              "#sk-container-id-2 a.estimator_doc_link.fitted {\n",
              "  /* fitted */\n",
              "  border: var(--sklearn-color-fitted-level-1) 1pt solid;\n",
              "  color: var(--sklearn-color-fitted-level-1);\n",
              "}\n",
              "\n",
              "/* On hover */\n",
              "#sk-container-id-2 a.estimator_doc_link:hover {\n",
              "  /* unfitted */\n",
              "  background-color: var(--sklearn-color-unfitted-level-3);\n",
              "  color: var(--sklearn-color-background);\n",
              "  text-decoration: none;\n",
              "}\n",
              "\n",
              "#sk-container-id-2 a.estimator_doc_link.fitted:hover {\n",
              "  /* fitted */\n",
              "  background-color: var(--sklearn-color-fitted-level-3);\n",
              "}\n",
              "</style><div id=\"sk-container-id-2\" class=\"sk-top-container\"><div class=\"sk-text-repr-fallback\"><pre>XGBClassifier(base_score=None, booster=None, callbacks=None,\n",
              "              colsample_bylevel=None, colsample_bynode=None,\n",
              "              colsample_bytree=None, device=None, early_stopping_rounds=None,\n",
              "              enable_categorical=False, eval_metric=&#x27;logloss&#x27;,\n",
              "              feature_types=None, gamma=None, grow_policy=None,\n",
              "              importance_type=None, interaction_constraints=None,\n",
              "              learning_rate=0.05, max_bin=None, max_cat_threshold=None,\n",
              "              max_cat_to_onehot=None, max_delta_step=None, max_depth=6,\n",
              "              max_leaves=None, min_child_weight=None, missing=nan,\n",
              "              monotone_constraints=None, multi_strategy=None, n_estimators=200,\n",
              "              n_jobs=-1, num_parallel_tree=None, random_state=42, ...)</pre><b>In a Jupyter environment, please rerun this cell to show the HTML representation or trust the notebook. <br />On GitHub, the HTML representation is unable to render, please try loading this page with nbviewer.org.</b></div><div class=\"sk-container\" hidden><div class=\"sk-item\"><div class=\"sk-estimator fitted sk-toggleable\"><input class=\"sk-toggleable__control sk-hidden--visually\" id=\"sk-estimator-id-2\" type=\"checkbox\" checked><label for=\"sk-estimator-id-2\" class=\"sk-toggleable__label fitted sk-toggleable__label-arrow\"><div><div>XGBClassifier</div></div><div><span class=\"sk-estimator-doc-link fitted\">i<span>Fitted</span></span></div></label><div class=\"sk-toggleable__content fitted\"><pre>XGBClassifier(base_score=None, booster=None, callbacks=None,\n",
              "              colsample_bylevel=None, colsample_bynode=None,\n",
              "              colsample_bytree=None, device=None, early_stopping_rounds=None,\n",
              "              enable_categorical=False, eval_metric=&#x27;logloss&#x27;,\n",
              "              feature_types=None, gamma=None, grow_policy=None,\n",
              "              importance_type=None, interaction_constraints=None,\n",
              "              learning_rate=0.05, max_bin=None, max_cat_threshold=None,\n",
              "              max_cat_to_onehot=None, max_delta_step=None, max_depth=6,\n",
              "              max_leaves=None, min_child_weight=None, missing=nan,\n",
              "              monotone_constraints=None, multi_strategy=None, n_estimators=200,\n",
              "              n_jobs=-1, num_parallel_tree=None, random_state=42, ...)</pre></div> </div></div></div></div>"
            ],
            "text/plain": [
              "XGBClassifier(base_score=None, booster=None, callbacks=None,\n",
              "              colsample_bylevel=None, colsample_bynode=None,\n",
              "              colsample_bytree=None, device=None, early_stopping_rounds=None,\n",
              "              enable_categorical=False, eval_metric='logloss',\n",
              "              feature_types=None, gamma=None, grow_policy=None,\n",
              "              importance_type=None, interaction_constraints=None,\n",
              "              learning_rate=0.05, max_bin=None, max_cat_threshold=None,\n",
              "              max_cat_to_onehot=None, max_delta_step=None, max_depth=6,\n",
              "              max_leaves=None, min_child_weight=None, missing=nan,\n",
              "              monotone_constraints=None, multi_strategy=None, n_estimators=200,\n",
              "              n_jobs=-1, num_parallel_tree=None, random_state=42, ...)"
            ]
          },
          "execution_count": 24,
          "metadata": {},
          "output_type": "execute_result"
        }
      ],
      "source": [
        "import xgboost as xgb\n",
        "\n",
        "# Initialize XGBoost classifier with specified hyperparameters\n",
        "xgb_model = xgb.XGBClassifier(\n",
        "    objective='binary:logistic',\n",
        "    eval_metric='logloss',\n",
        "    use_label_encoder=False,\n",
        "    n_estimators=200,\n",
        "    max_depth=6,\n",
        "    learning_rate=0.05,\n",
        "    n_jobs=-1,\n",
        "    random_state=42\n",
        ")\n",
        "\n",
        "# Train the XGBoost model\n",
        "xgb_model.fit(X_train, y_train)\n"
      ]
    },
    {
      "cell_type": "code",
      "execution_count": 25,
      "metadata": {
        "colab": {
          "base_uri": "https://localhost:8080/"
        },
        "id": "QgXuwPVPP3Iv",
        "outputId": "8c81cc38-0da2-422e-c61b-b45140ae9b18"
      },
      "outputs": [
        {
          "name": "stdout",
          "output_type": "stream",
          "text": [
            "AUROC on training data: 0.8479\n",
            "AUROC on test data: 0.8423\n",
            "Log loss train: 0.4627\n",
            "Log loss test: 0.4680\n",
            "\n",
            "Classification Report (Test):\n",
            "              precision    recall  f1-score   support\n",
            "\n",
            "           0       0.80      0.81      0.81     51005\n",
            "           1       0.67      0.66      0.66     29853\n",
            "\n",
            "    accuracy                           0.75     80858\n",
            "   macro avg       0.74      0.73      0.73     80858\n",
            "weighted avg       0.75      0.75      0.75     80858\n",
            "\n",
            "Confusion Matrix (Test):\n",
            "[[41271  9734]\n",
            " [10189 19664]]\n"
          ]
        }
      ],
      "source": [
        "# Predict class labels and probabilities for train and test sets\n",
        "train_preds = xgb_model.predict(X_train)\n",
        "test_preds = xgb_model.predict(X_test)\n",
        "\n",
        "train_probs = xgb_model.predict_proba(X_train)[:, 1]\n",
        "test_probs = xgb_model.predict_proba(X_test)[:, 1]\n",
        "\n",
        "# Calculate AUROC scores\n",
        "train_auroc = roc_auc_score(y_train, train_probs)\n",
        "test_auroc = roc_auc_score(y_test, test_probs)\n",
        "\n",
        "# Display AUROC results\n",
        "print(f\"AUROC on training data: {train_auroc:.4f}\")\n",
        "print(f\"AUROC on test data: {test_auroc:.4f}\")\n",
        "\n",
        "# Compute log loss for both sets\n",
        "loss_train = log_loss(y_train, train_probs)\n",
        "loss_test = log_loss(y_test, test_probs)\n",
        "\n",
        "# Print log loss values\n",
        "print(f\"Log loss train: {loss_train:.4f}\")\n",
        "print(f\"Log loss test: {loss_test:.4f}\")\n",
        "\n",
        "# Show detailed classification report and confusion matrix for test set\n",
        "print(\"\\nClassification Report (Test):\")\n",
        "print(classification_report(y_test, test_preds))\n",
        "\n",
        "print(\"Confusion Matrix (Test):\")\n",
        "print(confusion_matrix(y_test, test_preds))\n"
      ]
    },
    {
      "cell_type": "markdown",
      "metadata": {
        "id": "OmSaT61aPttW"
      },
      "source": [
        "AUROC train: 0.8470\n",
        "AUROC test: 0.8416\n",
        "\n",
        "\n",
        "The AUROC score shows that the model is able to separate duplicates from non-duplicates quite well.\n",
        "\n",
        "The model makes more mistakes on classifying duplicates (label 1), which is typical if the classes are imbalanced.\n",
        "\n",
        "Our XGBoost model achieves quite stable performance with no signs of major overfitting or underfitting. The results indicate that it is well-calibrated and generalizes effectively. For further improvement we focus on ensembling with other models."
      ]
    },
    {
      "cell_type": "code",
      "execution_count": 26,
      "metadata": {
        "id": "rg0pEioMeuA1"
      },
      "outputs": [],
      "source": [
        "add_model_results(\"XGBoost\", test_auroc, loss_test)"
      ]
    },
    {
      "cell_type": "code",
      "execution_count": 27,
      "metadata": {
        "colab": {
          "base_uri": "https://localhost:8080/"
        },
        "id": "UksWFwGjt4TM",
        "outputId": "37456fee-9e1f-488f-ed37-fe661ddec0da"
      },
      "outputs": [
        {
          "data": {
            "text/plain": [
              "['models/xgb_model.joblib']"
            ]
          },
          "execution_count": 27,
          "metadata": {},
          "output_type": "execute_result"
        }
      ],
      "source": [
        "# Save the model to a file\n",
        "joblib.dump(xgb_model, \"models/xgb_model.joblib\")"
      ]
    },
    {
      "cell_type": "markdown",
      "metadata": {
        "id": "8Dmn40mjunMl"
      },
      "source": [
        "### Stacked ensemble model"
      ]
    },
    {
      "cell_type": "markdown",
      "metadata": {
        "id": "PiZdhmnhvgdh"
      },
      "source": [
        "Logistic Regression as final estimator"
      ]
    },
    {
      "cell_type": "code",
      "execution_count": 28,
      "metadata": {
        "colab": {
          "base_uri": "https://localhost:8080/"
        },
        "id": "YOsQVu9wOhY9",
        "outputId": "aadd254a-f05d-4735-c33a-1ccd973cb34d"
      },
      "outputs": [
        {
          "name": "stdout",
          "output_type": "stream",
          "text": [
            "Stacked model log loss: 0.43216740951139615\n",
            "Ensemble (LR + XGB) Classification Report:\n",
            "              precision    recall  f1-score   support\n",
            "\n",
            "           0       0.82      0.84      0.83     51005\n",
            "           1       0.72      0.69      0.70     29853\n",
            "\n",
            "    accuracy                           0.79     80858\n",
            "   macro avg       0.77      0.76      0.77     80858\n",
            "weighted avg       0.78      0.79      0.78     80858\n",
            "\n"
          ]
        }
      ],
      "source": [
        "from sklearn.ensemble import StackingClassifier\n",
        "\n",
        "# Initialize stacking classifier with logistic regression as final estimator\n",
        "stacking_clf = StackingClassifier(\n",
        "    estimators=[('lr', log_reg), ('xgb', xgb_model)],\n",
        "    final_estimator=LogisticRegression(max_iter=1000),\n",
        "    cv=5,\n",
        "    n_jobs=-1\n",
        ")\n",
        "# Train the stacked model\n",
        "stacking_clf.fit(X_train, y_train)\n",
        "\n",
        "# Predict probabilities and compute log loss for the stacked model\n",
        "y_proba_stack = stacking_clf.predict_proba(X_test)\n",
        "stack_logloss = log_loss(y_test, y_proba_stack)\n",
        "\n",
        "# Predict class labels for the stacked model\n",
        "stack_preds = stacking_clf.predict(X_test)\n",
        "\n",
        "# Calculate AUROC score for the stacked model\n",
        "stack_auroc = roc_auc_score(y_test, y_proba_stack[:, 1])\n",
        "\n",
        "# Display results for the stacked model\n",
        "print(\"Stacked model log loss:\", stack_logloss)\n",
        "print(\"Ensemble (LR + XGB) Classification Report:\")\n",
        "print(classification_report(y_test, stack_preds))\n"
      ]
    },
    {
      "cell_type": "markdown",
      "metadata": {
        "id": "OEECn-keXQWj"
      },
      "source": [
        "We trained a stacking ensemble combining Logistic Regression and XGBoost, using Logistic Regression as the final estimator.\n",
        "Log Loss (Test): 0.4321\n",
        "This indicates reasonably well-calibrated probability estimates.\n",
        "\n",
        "F1-Score for Class 1 (duplicates): 0.70  \n",
        "This suggests the model balances precision and recall well when identifying duplicate questions.\n",
        "\n",
        "\n",
        "The model performs reliably on both classes, but slightly better on the majority class (non-duplicates), which is expected due to class imbalance.\n",
        "With **log loss around 0.43** and good F1-scores, our model provides a good balance between classification accuracy and confidence in probability estimates.\n",
        "The ensemble strategy (via stacking) allows our model to leverage the strengths of both base models — the linear interpretability of Logistic Regression and the non-linear power of XGBoost."
      ]
    },
    {
      "cell_type": "code",
      "execution_count": 29,
      "metadata": {
        "id": "b5uxr_0gjoIG"
      },
      "outputs": [],
      "source": [
        "add_model_results(\"Stacked ensemble model\", stack_auroc, stack_logloss)"
      ]
    },
    {
      "cell_type": "code",
      "execution_count": 30,
      "metadata": {
        "colab": {
          "base_uri": "https://localhost:8080/"
        },
        "id": "gAlQidJcuDyT",
        "outputId": "cfc52620-5622-49f9-90a7-4994efbc95cc"
      },
      "outputs": [
        {
          "data": {
            "text/plain": [
              "['models/stacking_clf.joblib']"
            ]
          },
          "execution_count": 30,
          "metadata": {},
          "output_type": "execute_result"
        }
      ],
      "source": [
        "# Save the model to a file\n",
        "joblib.dump(stacking_clf, \"models/stacking_clf.joblib\")"
      ]
    },
    {
      "cell_type": "markdown",
      "metadata": {
        "id": "SdeXmiBrwMvr"
      },
      "source": [
        "### Bert fine-tuning"
      ]
    },
    {
      "cell_type": "code",
      "execution_count": 31,
      "metadata": {
        "colab": {
          "base_uri": "https://localhost:8080/"
        },
        "id": "EIlsiPwj3n-y",
        "outputId": "a6d0937b-3869-4ec1-9d2e-7b114e8c084d"
      },
      "outputs": [
        {
          "name": "stdout",
          "output_type": "stream",
          "text": [
            "\u001b[2K   \u001b[90m━━━━━━━━━━━━━━━━━━━━━━━━━━━━━━━━━━━━━━━━\u001b[0m \u001b[32m84.0/84.0 kB\u001b[0m \u001b[31m3.4 MB/s\u001b[0m eta \u001b[36m0:00:00\u001b[0m\n",
            "\u001b[2K   \u001b[90m━━━━━━━━━━━━━━━━━━━━━━━━━━━━━━━━━━━━━━━━\u001b[0m \u001b[32m363.4/363.4 MB\u001b[0m \u001b[31m2.1 MB/s\u001b[0m eta \u001b[36m0:00:00\u001b[0m\n",
            "\u001b[2K   \u001b[90m━━━━━━━━━━━━━━━━━━━━━━━━━━━━━━━━━━━━━━━━\u001b[0m \u001b[32m13.8/13.8 MB\u001b[0m \u001b[31m121.1 MB/s\u001b[0m eta \u001b[36m0:00:00\u001b[0m\n",
            "\u001b[2K   \u001b[90m━━━━━━━━━━━━━━━━━━━━━━━━━━━━━━━━━━━━━━━━\u001b[0m \u001b[32m24.6/24.6 MB\u001b[0m \u001b[31m25.5 MB/s\u001b[0m eta \u001b[36m0:00:00\u001b[0m\n",
            "\u001b[2K   \u001b[90m━━━━━━━━━━━━━━━━━━━━━━━━━━━━━━━━━━━━━━━━\u001b[0m \u001b[32m883.7/883.7 kB\u001b[0m \u001b[31m55.2 MB/s\u001b[0m eta \u001b[36m0:00:00\u001b[0m\n",
            "\u001b[2K   \u001b[90m━━━━━━━━━━━━━━━━━━━━━━━━━━━━━━━━━━━━━━━━\u001b[0m \u001b[32m664.8/664.8 MB\u001b[0m \u001b[31m2.2 MB/s\u001b[0m eta \u001b[36m0:00:00\u001b[0m\n",
            "\u001b[2K   \u001b[90m━━━━━━━━━━━━━━━━━━━━━━━━━━━━━━━━━━━━━━━━\u001b[0m \u001b[32m211.5/211.5 MB\u001b[0m \u001b[31m6.5 MB/s\u001b[0m eta \u001b[36m0:00:00\u001b[0m\n",
            "\u001b[2K   \u001b[90m━━━━━━━━━━━━━━━━━━━━━━━━━━━━━━━━━━━━━━━━\u001b[0m \u001b[32m56.3/56.3 MB\u001b[0m \u001b[31m14.8 MB/s\u001b[0m eta \u001b[36m0:00:00\u001b[0m\n",
            "\u001b[2K   \u001b[90m━━━━━━━━━━━━━━━━━━━━━━━━━━━━━━━━━━━━━━━━\u001b[0m \u001b[32m127.9/127.9 MB\u001b[0m \u001b[31m9.8 MB/s\u001b[0m eta \u001b[36m0:00:00\u001b[0m\n",
            "\u001b[2K   \u001b[90m━━━━━━━━━━━━━━━━━━━━━━━━━━━━━━━━━━━━━━━━\u001b[0m \u001b[32m207.5/207.5 MB\u001b[0m \u001b[31m6.2 MB/s\u001b[0m eta \u001b[36m0:00:00\u001b[0m\n",
            "\u001b[2K   \u001b[90m━━━━━━━━━━━━━━━━━━━━━━━━━━━━━━━━━━━━━━━━\u001b[0m \u001b[32m21.1/21.1 MB\u001b[0m \u001b[31m70.8 MB/s\u001b[0m eta \u001b[36m0:00:00\u001b[0m\n",
            "\u001b[?25h"
          ]
        }
      ],
      "source": [
        "!pip install transformers evaluate torch --quiet"
      ]
    },
    {
      "cell_type": "code",
      "execution_count": 2,
      "metadata": {
        "colab": {
          "base_uri": "https://localhost:8080/"
        },
        "collapsed": true,
        "id": "PmcZQzJFvj8d",
        "outputId": "51b1270f-cac7-4135-ec38-c64dbca4299b"
      },
      "outputs": [
        {
          "name": "stdout",
          "output_type": "stream",
          "text": [
            "Requirement already satisfied: datasets in /usr/local/lib/python3.11/dist-packages (2.14.4)\n",
            "Collecting datasets\n",
            "  Downloading datasets-3.6.0-py3-none-any.whl.metadata (19 kB)\n",
            "Requirement already satisfied: filelock in /usr/local/lib/python3.11/dist-packages (from datasets) (3.18.0)\n",
            "Requirement already satisfied: numpy>=1.17 in /usr/local/lib/python3.11/dist-packages (from datasets) (2.0.2)\n",
            "Requirement already satisfied: pyarrow>=15.0.0 in /usr/local/lib/python3.11/dist-packages (from datasets) (18.1.0)\n",
            "Requirement already satisfied: dill<0.3.9,>=0.3.0 in /usr/local/lib/python3.11/dist-packages (from datasets) (0.3.7)\n",
            "Requirement already satisfied: pandas in /usr/local/lib/python3.11/dist-packages (from datasets) (2.2.2)\n",
            "Requirement already satisfied: requests>=2.32.2 in /usr/local/lib/python3.11/dist-packages (from datasets) (2.32.3)\n",
            "Requirement already satisfied: tqdm>=4.66.3 in /usr/local/lib/python3.11/dist-packages (from datasets) (4.67.1)\n",
            "Requirement already satisfied: xxhash in /usr/local/lib/python3.11/dist-packages (from datasets) (3.5.0)\n",
            "Requirement already satisfied: multiprocess<0.70.17 in /usr/local/lib/python3.11/dist-packages (from datasets) (0.70.15)\n",
            "Collecting fsspec<=2025.3.0,>=2023.1.0 (from fsspec[http]<=2025.3.0,>=2023.1.0->datasets)\n",
            "  Downloading fsspec-2025.3.0-py3-none-any.whl.metadata (11 kB)\n",
            "Requirement already satisfied: huggingface-hub>=0.24.0 in /usr/local/lib/python3.11/dist-packages (from datasets) (0.33.0)\n",
            "Requirement already satisfied: packaging in /usr/local/lib/python3.11/dist-packages (from datasets) (24.2)\n",
            "Requirement already satisfied: pyyaml>=5.1 in /usr/local/lib/python3.11/dist-packages (from datasets) (6.0.2)\n",
            "Requirement already satisfied: aiohttp!=4.0.0a0,!=4.0.0a1 in /usr/local/lib/python3.11/dist-packages (from fsspec[http]<=2025.3.0,>=2023.1.0->datasets) (3.11.15)\n",
            "Requirement already satisfied: typing-extensions>=3.7.4.3 in /usr/local/lib/python3.11/dist-packages (from huggingface-hub>=0.24.0->datasets) (4.14.0)\n",
            "Requirement already satisfied: hf-xet<2.0.0,>=1.1.2 in /usr/local/lib/python3.11/dist-packages (from huggingface-hub>=0.24.0->datasets) (1.1.3)\n",
            "Requirement already satisfied: charset-normalizer<4,>=2 in /usr/local/lib/python3.11/dist-packages (from requests>=2.32.2->datasets) (3.4.2)\n",
            "Requirement already satisfied: idna<4,>=2.5 in /usr/local/lib/python3.11/dist-packages (from requests>=2.32.2->datasets) (3.10)\n",
            "Requirement already satisfied: urllib3<3,>=1.21.1 in /usr/local/lib/python3.11/dist-packages (from requests>=2.32.2->datasets) (2.4.0)\n",
            "Requirement already satisfied: certifi>=2017.4.17 in /usr/local/lib/python3.11/dist-packages (from requests>=2.32.2->datasets) (2025.6.15)\n",
            "Requirement already satisfied: python-dateutil>=2.8.2 in /usr/local/lib/python3.11/dist-packages (from pandas->datasets) (2.9.0.post0)\n",
            "Requirement already satisfied: pytz>=2020.1 in /usr/local/lib/python3.11/dist-packages (from pandas->datasets) (2025.2)\n",
            "Requirement already satisfied: tzdata>=2022.7 in /usr/local/lib/python3.11/dist-packages (from pandas->datasets) (2025.2)\n",
            "Requirement already satisfied: aiohappyeyeballs>=2.3.0 in /usr/local/lib/python3.11/dist-packages (from aiohttp!=4.0.0a0,!=4.0.0a1->fsspec[http]<=2025.3.0,>=2023.1.0->datasets) (2.6.1)\n",
            "Requirement already satisfied: aiosignal>=1.1.2 in /usr/local/lib/python3.11/dist-packages (from aiohttp!=4.0.0a0,!=4.0.0a1->fsspec[http]<=2025.3.0,>=2023.1.0->datasets) (1.3.2)\n",
            "Requirement already satisfied: attrs>=17.3.0 in /usr/local/lib/python3.11/dist-packages (from aiohttp!=4.0.0a0,!=4.0.0a1->fsspec[http]<=2025.3.0,>=2023.1.0->datasets) (25.3.0)\n",
            "Requirement already satisfied: frozenlist>=1.1.1 in /usr/local/lib/python3.11/dist-packages (from aiohttp!=4.0.0a0,!=4.0.0a1->fsspec[http]<=2025.3.0,>=2023.1.0->datasets) (1.7.0)\n",
            "Requirement already satisfied: multidict<7.0,>=4.5 in /usr/local/lib/python3.11/dist-packages (from aiohttp!=4.0.0a0,!=4.0.0a1->fsspec[http]<=2025.3.0,>=2023.1.0->datasets) (6.4.4)\n",
            "Requirement already satisfied: propcache>=0.2.0 in /usr/local/lib/python3.11/dist-packages (from aiohttp!=4.0.0a0,!=4.0.0a1->fsspec[http]<=2025.3.0,>=2023.1.0->datasets) (0.3.2)\n",
            "Requirement already satisfied: yarl<2.0,>=1.17.0 in /usr/local/lib/python3.11/dist-packages (from aiohttp!=4.0.0a0,!=4.0.0a1->fsspec[http]<=2025.3.0,>=2023.1.0->datasets) (1.20.1)\n",
            "Requirement already satisfied: six>=1.5 in /usr/local/lib/python3.11/dist-packages (from python-dateutil>=2.8.2->pandas->datasets) (1.17.0)\n",
            "Downloading datasets-3.6.0-py3-none-any.whl (491 kB)\n",
            "\u001b[2K   \u001b[90m━━━━━━━━━━━━━━━━━━━━━━━━━━━━━━━━━━━━━━━━\u001b[0m \u001b[32m491.5/491.5 kB\u001b[0m \u001b[31m14.5 MB/s\u001b[0m eta \u001b[36m0:00:00\u001b[0m\n",
            "\u001b[?25hDownloading fsspec-2025.3.0-py3-none-any.whl (193 kB)\n",
            "\u001b[2K   \u001b[90m━━━━━━━━━━━━━━━━━━━━━━━━━━━━━━━━━━━━━━━━\u001b[0m \u001b[32m193.6/193.6 kB\u001b[0m \u001b[31m21.1 MB/s\u001b[0m eta \u001b[36m0:00:00\u001b[0m\n",
            "\u001b[?25hInstalling collected packages: fsspec, datasets\n",
            "  Attempting uninstall: fsspec\n",
            "    Found existing installation: fsspec 2025.3.2\n",
            "    Uninstalling fsspec-2025.3.2:\n",
            "      Successfully uninstalled fsspec-2025.3.2\n",
            "  Attempting uninstall: datasets\n",
            "    Found existing installation: datasets 2.14.4\n",
            "    Uninstalling datasets-2.14.4:\n",
            "      Successfully uninstalled datasets-2.14.4\n",
            "\u001b[31mERROR: pip's dependency resolver does not currently take into account all the packages that are installed. This behaviour is the source of the following dependency conflicts.\n",
            "torch 2.6.0+cu124 requires nvidia-cublas-cu12==12.4.5.8; platform_system == \"Linux\" and platform_machine == \"x86_64\", but you have nvidia-cublas-cu12 12.5.3.2 which is incompatible.\n",
            "torch 2.6.0+cu124 requires nvidia-cuda-cupti-cu12==12.4.127; platform_system == \"Linux\" and platform_machine == \"x86_64\", but you have nvidia-cuda-cupti-cu12 12.5.82 which is incompatible.\n",
            "torch 2.6.0+cu124 requires nvidia-cuda-nvrtc-cu12==12.4.127; platform_system == \"Linux\" and platform_machine == \"x86_64\", but you have nvidia-cuda-nvrtc-cu12 12.5.82 which is incompatible.\n",
            "torch 2.6.0+cu124 requires nvidia-cuda-runtime-cu12==12.4.127; platform_system == \"Linux\" and platform_machine == \"x86_64\", but you have nvidia-cuda-runtime-cu12 12.5.82 which is incompatible.\n",
            "torch 2.6.0+cu124 requires nvidia-cudnn-cu12==9.1.0.70; platform_system == \"Linux\" and platform_machine == \"x86_64\", but you have nvidia-cudnn-cu12 9.3.0.75 which is incompatible.\n",
            "torch 2.6.0+cu124 requires nvidia-cufft-cu12==11.2.1.3; platform_system == \"Linux\" and platform_machine == \"x86_64\", but you have nvidia-cufft-cu12 11.2.3.61 which is incompatible.\n",
            "torch 2.6.0+cu124 requires nvidia-curand-cu12==10.3.5.147; platform_system == \"Linux\" and platform_machine == \"x86_64\", but you have nvidia-curand-cu12 10.3.6.82 which is incompatible.\n",
            "torch 2.6.0+cu124 requires nvidia-cusolver-cu12==11.6.1.9; platform_system == \"Linux\" and platform_machine == \"x86_64\", but you have nvidia-cusolver-cu12 11.6.3.83 which is incompatible.\n",
            "torch 2.6.0+cu124 requires nvidia-cusparse-cu12==12.3.1.170; platform_system == \"Linux\" and platform_machine == \"x86_64\", but you have nvidia-cusparse-cu12 12.5.1.3 which is incompatible.\n",
            "torch 2.6.0+cu124 requires nvidia-nvjitlink-cu12==12.4.127; platform_system == \"Linux\" and platform_machine == \"x86_64\", but you have nvidia-nvjitlink-cu12 12.5.82 which is incompatible.\n",
            "gcsfs 2025.3.2 requires fsspec==2025.3.2, but you have fsspec 2025.3.0 which is incompatible.\u001b[0m\u001b[31m\n",
            "\u001b[0mSuccessfully installed datasets-3.6.0 fsspec-2025.3.0\n"
          ]
        }
      ],
      "source": [
        "pip install --upgrade datasets\n"
      ]
    },
    {
      "cell_type": "code",
      "execution_count": 32,
      "metadata": {
        "id": "9Wl3wZXjTIlD"
      },
      "outputs": [],
      "source": [
        "from sklearn.model_selection import train_test_split"
      ]
    },
    {
      "cell_type": "code",
      "execution_count": 33,
      "metadata": {
        "id": "iYwFSd-iSvrg"
      },
      "outputs": [],
      "source": [
        "# Split training dataset into train and validation\n",
        "df_train, df_val = train_test_split(df_train, test_size=0.1, stratify=df_train[\"is_duplicate\"], random_state=42)"
      ]
    },
    {
      "cell_type": "code",
      "execution_count": 34,
      "metadata": {
        "colab": {
          "base_uri": "https://localhost:8080/",
          "height": 342,
          "referenced_widgets": [
            "56f74643cd054540829b967fcfeeef87",
            "59b1f492fdc44d9b940a11cc0970c2ff",
            "4904c765d08644edb6efb3c39d6ad397",
            "25e23bb55cbb4589a23da02b05ae33b4",
            "bd6c48c386ea40b39125ce299262f4af",
            "199a5ac0206b4f07a0057ef15560dc08",
            "f9f36802a2b04be9b7f24db1e2767b4a",
            "6404946887cb4f018f0c447c3c16898f",
            "ef2dbf26b8e74565884bf0f6638fac5a",
            "f6057c20514c48c7a07c02d9e7ad88a8",
            "16e6853059a64273a433c86051962370",
            "5fcc2ed7d9f54085af5c57b0a125c19d",
            "3f7a32491deb4abfbdc4cf7502b1b41c",
            "1ba639e3c1ac4fbc8388b59b63089786",
            "5885181b83764d2eb659f0bbd0b36fe0",
            "5cb055e1a08d4e08879dbde5d2c68379",
            "faf0332e53254ed7a30d7dcd4d804cdb",
            "8ecae26d39e74b2f8d788455c2ee8632",
            "729e1a9b7ae344089a2e1c204aac865c",
            "649fd4f1a35a4504b6e1ef1dd14203d3",
            "927979e8d51f43b286f55a4b00318436",
            "451faf652b2546d2a3a91bca87a2f9ce",
            "0cce63ff15394c36ab206a031308cce1",
            "48b1149d0fa54718afc0df16e9bc64ae",
            "610cfe4b407a401f8fb468efa6057acf",
            "b2503d6fe20d4faaa33b5561d840186a",
            "d24f6e5022814d70a43989f5b861c450",
            "0edc47f659fc42ad996b84bf75b77258",
            "e2a47553414243e0a416e9b1e42eb0cf",
            "285dd89644d447f2a6bb487cf060e388",
            "366fb988802042eea0df4053173926ef",
            "69f0be9eb18c457bb09d6998a3479a93",
            "e4e797921ce342d7a0c4635a2a2728a0",
            "d5359abb6b61407081d321ee1d9e8e89",
            "98f1beaf7c474adebb3bbb7f4eb07cb3",
            "40c8da9a87c34d44b67d8b401cde6523",
            "327a4fa0e44b4f5b93901c6ceefbf147",
            "722d00ed207d4e64bb1b62f550bf3053",
            "4675ec4300154e1d8dca0f463807cd7d",
            "ccbb36e8b33a4cb192d2762bd8397914",
            "c7b329c0683d49dcbeddc0e317d1967a",
            "958a48d7304e4d769cf5d91e183ad87e",
            "f67e8361c6a64152849a326d5f188f6c",
            "cf12a2eeff8c47f1a1016b30d150bf8d",
            "7050f4e3075c4d6fb1142fcbfe5dce75",
            "9ab9f0392bd94e39bd9c60d6d31e4fd1",
            "4e3d0d3ba90441cda809fc147a3961bc",
            "3b16771732384374b65600ef87c59aeb",
            "ff7b279343204fb4a979af0a5cfccb01",
            "93ff2131bb94491f9166fa508e26837a",
            "31a48214a7af4ed58f115f0a43eb35a0",
            "81d09166398f4ea2a76d1452872445cf",
            "9ccd951bde1346ce8d473daf388f35c7",
            "3a4a3386f5344303a1a8d3468b6eb4f2",
            "68fad683b0444cedabc98ef9b637f85e"
          ]
        },
        "id": "wAD0e6eJ9m8F",
        "outputId": "88f70efd-6b31-42f5-c68f-d0ad0fd0ebf9"
      },
      "outputs": [
        {
          "name": "stderr",
          "output_type": "stream",
          "text": [
            "/usr/local/lib/python3.11/dist-packages/huggingface_hub/utils/_auth.py:94: UserWarning: \n",
            "The secret `HF_TOKEN` does not exist in your Colab secrets.\n",
            "To authenticate with the Hugging Face Hub, create a token in your settings tab (https://huggingface.co/settings/tokens), set it as secret in your Google Colab and restart your session.\n",
            "You will be able to reuse this secret in all of your notebooks.\n",
            "Please note that authentication is recommended but still optional to access public models or datasets.\n",
            "  warnings.warn(\n"
          ]
        },
        {
          "data": {
            "application/vnd.jupyter.widget-view+json": {
              "model_id": "56f74643cd054540829b967fcfeeef87",
              "version_major": 2,
              "version_minor": 0
            },
            "text/plain": [
              "tokenizer_config.json:   0%|          | 0.00/48.0 [00:00<?, ?B/s]"
            ]
          },
          "metadata": {},
          "output_type": "display_data"
        },
        {
          "data": {
            "application/vnd.jupyter.widget-view+json": {
              "model_id": "5fcc2ed7d9f54085af5c57b0a125c19d",
              "version_major": 2,
              "version_minor": 0
            },
            "text/plain": [
              "config.json:   0%|          | 0.00/570 [00:00<?, ?B/s]"
            ]
          },
          "metadata": {},
          "output_type": "display_data"
        },
        {
          "data": {
            "application/vnd.jupyter.widget-view+json": {
              "model_id": "0cce63ff15394c36ab206a031308cce1",
              "version_major": 2,
              "version_minor": 0
            },
            "text/plain": [
              "vocab.txt:   0%|          | 0.00/232k [00:00<?, ?B/s]"
            ]
          },
          "metadata": {},
          "output_type": "display_data"
        },
        {
          "data": {
            "application/vnd.jupyter.widget-view+json": {
              "model_id": "d5359abb6b61407081d321ee1d9e8e89",
              "version_major": 2,
              "version_minor": 0
            },
            "text/plain": [
              "tokenizer.json:   0%|          | 0.00/466k [00:00<?, ?B/s]"
            ]
          },
          "metadata": {},
          "output_type": "display_data"
        },
        {
          "data": {
            "application/vnd.jupyter.widget-view+json": {
              "model_id": "7050f4e3075c4d6fb1142fcbfe5dce75",
              "version_major": 2,
              "version_minor": 0
            },
            "text/plain": [
              "model.safetensors:   0%|          | 0.00/440M [00:00<?, ?B/s]"
            ]
          },
          "metadata": {},
          "output_type": "display_data"
        },
        {
          "name": "stderr",
          "output_type": "stream",
          "text": [
            "Some weights of BertForSequenceClassification were not initialized from the model checkpoint at bert-base-uncased and are newly initialized: ['classifier.bias', 'classifier.weight']\n",
            "You should probably TRAIN this model on a down-stream task to be able to use it for predictions and inference.\n"
          ]
        }
      ],
      "source": [
        "# Import required libraries\n",
        "import torch\n",
        "from transformers import AutoTokenizer, AutoModelForSequenceClassification, TrainingArguments, Trainer, DataCollatorWithPadding\n",
        "from sklearn.metrics import log_loss, classification_report, confusion_matrix\n",
        "import evaluate\n",
        "from datasets import Dataset\n",
        "from scipy.special import softmax\n",
        "\n",
        "# Convert pandas DataFrames into HuggingFace Datasets\n",
        "train_dataset = Dataset.from_pandas(df_train)\n",
        "val_dataset = Dataset.from_pandas(df_val)\n",
        "test_dataset = Dataset.from_pandas(df_test)\n",
        "\n",
        "# Initialize the tokenizer and model\n",
        "model_name = \"bert-base-uncased\"\n",
        "tokenizer = AutoTokenizer.from_pretrained(model_name)\n",
        "model = AutoModelForSequenceClassification.from_pretrained(\n",
        "    model_name,\n",
        "    num_labels=2,  # двокласова класифікація\n",
        "    id2label={0: \"not_duplicate\", 1: \"duplicate\"},\n",
        "    label2id={\"not_duplicate\": 0, \"duplicate\": 1}\n",
        ")"
      ]
    },
    {
      "cell_type": "markdown",
      "metadata": {
        "id": "FBhXvAlywoQL"
      },
      "source": [
        "We convert DataFrames to HuggingFace Datasets and initialize tokenizer and model.\n",
        "\n",
        "Loads:\n",
        "\n",
        "A pre-trained BERT tokenizer for bert-base-uncased.\n",
        "\n",
        "A pre-trained BERT model adapted for binary classification."
      ]
    },
    {
      "cell_type": "code",
      "execution_count": null,
      "metadata": {
        "collapsed": true,
        "id": "I0T0wr2HzK5p"
      },
      "outputs": [],
      "source": [
        "# Print all model layers\n",
        "for name, param in model.named_parameters():\n",
        "   print(name, param.requires_grad)"
      ]
    },
    {
      "cell_type": "markdown",
      "metadata": {
        "id": "dSuCF9tsxc_B"
      },
      "source": [
        "We display all model layers and whether each parameter is trainable (requires_grad=True) or frozen (False).\n",
        "\n",
        "This helps verify if the model is correctly prepared for fine-tuning (we want to freeze lower layers and only fine-tune the classification head)."
      ]
    },
    {
      "cell_type": "code",
      "execution_count": 36,
      "metadata": {
        "id": "l4OB3MZF92tb"
      },
      "outputs": [],
      "source": [
        "# Get the total number of BERT encoder layers\n",
        "total_layers = len(model.bert.encoder.layer)\n",
        "layers_to_unfreeze = 2 # Define how many of the last layers to unfreeze\n",
        "\n",
        "# Freeze all BERT parameters (prevent them from being updated during training)\n",
        "for param in model.bert.parameters():\n",
        "    param.requires_grad = False\n",
        "\n",
        "# Unfreeze the last few encoder layers to allow fine-tuning\n",
        "for i in range(total_layers - layers_to_unfreeze, total_layers):\n",
        "    for param in model.bert.encoder.layer[i].parameters():\n",
        "        param.requires_grad = True\n",
        "\n",
        "# Unfreeze the pooler and classifier layers\n",
        "for param in model.bert.pooler.parameters():\n",
        "    param.requires_grad = True\n",
        "\n",
        "for param in model.classifier.parameters():\n",
        "    param.requires_grad = True"
      ]
    },
    {
      "cell_type": "markdown",
      "metadata": {
        "id": "LshHvC2jyyft"
      },
      "source": [
        "BERT has 12 encoder layers. We're planning to unfreeze only the last 2 layers for fine-tuning.\n",
        "\n",
        "We prevent all BERT weights from being updated during training. Then we unfreeze the last 2 encoder layers, allowing them to be updated during training. These layers are the most task-specific and benefit most from fine-tuning.\n",
        "\n",
        "We also unfreeze pooler and classifier. The pooler and the classifier head must be trainable, or our model won’t learn our classification task.\n"
      ]
    },
    {
      "cell_type": "code",
      "execution_count": 37,
      "metadata": {
        "colab": {
          "base_uri": "https://localhost:8080/",
          "height": 113,
          "referenced_widgets": [
            "e72979499ff04db08834f5fad3cb6b3e",
            "d9e0a909cc2449059e89ee4bb922c7d5",
            "69e63e097b524ed3987568d40215eaef",
            "69339cb80dbc4319a3f6d22f2e52cae2",
            "118207abdea044cea5d67fbd8bde8f15",
            "f9539e1e17a144f69e4839b9b88bba4e",
            "04cffa6ed6074d85bf46d51b89718239",
            "85b6d058b2984238976a7a9e0cb71de8",
            "a338dd534fe549f39ec160a49a636e74",
            "21c1aa16d51348e798a3b83ea50d48e7",
            "2c4c4f5793ec409f9675775f01e5ef5c",
            "b4662502b40342af9963ea13466a29fb",
            "56f9ea7c407b481c9bb74c8c3ebb05f7",
            "363b8579f89148e091f689504b73eff8",
            "85cc73a55f3f4377b33977d60c7a6b45",
            "2de8e393464c42b19d8e445c46c8daf8",
            "1c9f4c940a9b45cb8495aee94f00b6f1",
            "03d591f4702142ada84ddacb81fda707",
            "833a809bf7d34014be434cf088169dce",
            "f5de9e4f51af4cb19dfdb905e820111d",
            "c94c496281ca480d9bec441c08337150",
            "008e6979c97046e389cdd4eab5c0fbd9",
            "0aef7cb130124d8f92dab879b8cb0f91",
            "95e381d8ccba44ef9fec7eb85a5baadb",
            "3db16c8466994754a600be6958d82ca3",
            "a7ab1785f783483c975dd5593b18f08f",
            "22bc770e7fb349c68ba60f4e3e494aa7",
            "d645e6eaa9714fd8bca80f0b867e2bcc",
            "7ba162c44fc3471aa9e140da15056812",
            "1ff275ce7dd442158bc7e188fce18ea6",
            "727ea7e8472949fd978d83873219513e",
            "b910bf9a7be6492aa97f130ee1cf1e40",
            "2e1b3466c3284fb28831e8952ab795fb"
          ]
        },
        "id": "JJrfP88l9_l7",
        "outputId": "8c4adb9f-5a6d-4f2a-b808-384d3574da8a"
      },
      "outputs": [
        {
          "data": {
            "application/vnd.jupyter.widget-view+json": {
              "model_id": "e72979499ff04db08834f5fad3cb6b3e",
              "version_major": 2,
              "version_minor": 0
            },
            "text/plain": [
              "Map:   0%|          | 0/291086 [00:00<?, ? examples/s]"
            ]
          },
          "metadata": {},
          "output_type": "display_data"
        },
        {
          "data": {
            "application/vnd.jupyter.widget-view+json": {
              "model_id": "b4662502b40342af9963ea13466a29fb",
              "version_major": 2,
              "version_minor": 0
            },
            "text/plain": [
              "Map:   0%|          | 0/32343 [00:00<?, ? examples/s]"
            ]
          },
          "metadata": {},
          "output_type": "display_data"
        },
        {
          "data": {
            "application/vnd.jupyter.widget-view+json": {
              "model_id": "0aef7cb130124d8f92dab879b8cb0f91",
              "version_major": 2,
              "version_minor": 0
            },
            "text/plain": [
              "Map:   0%|          | 0/80858 [00:00<?, ? examples/s]"
            ]
          },
          "metadata": {},
          "output_type": "display_data"
        }
      ],
      "source": [
        "# Preprocessing function for tokenization\n",
        "def preprocess_function(examples):\n",
        "    result = tokenizer(\n",
        "        examples['question1'],\n",
        "        examples['question2'],\n",
        "        truncation=True,\n",
        "        padding=False,  # Padding is handled by the data collator\n",
        "        max_length=512\n",
        "    )\n",
        "    result[\"labels\"] = examples[\"is_duplicate\"]\n",
        "    return result\n",
        "\n",
        "# Tokenize the datasets\n",
        "tokenized_train = train_dataset.map(preprocess_function, batched=True)\n",
        "tokenized_val = val_dataset.map(preprocess_function, batched=True)\n",
        "tokenized_test = test_dataset.map(preprocess_function, batched=True)\n",
        "\n",
        "# Keep only necessary columns\n",
        "columns_to_keep = ['input_ids', 'token_type_ids', 'attention_mask', 'labels']\n",
        "tokenized_train = tokenized_train.remove_columns(\n",
        "    [col for col in tokenized_train.column_names if col not in columns_to_keep]\n",
        ")\n",
        "tokenized_val = tokenized_val.remove_columns(\n",
        "    [col for col in tokenized_val.column_names if col not in columns_to_keep]\n",
        ")\n",
        "tokenized_test = tokenized_test.remove_columns(\n",
        "    [col for col in tokenized_test.column_names if col not in columns_to_keep]\n",
        ")\n",
        "\n",
        "# Set format for PyTorch tensors\n",
        "tokenized_train.set_format(type='torch', columns=['input_ids', 'token_type_ids', 'attention_mask', 'labels'])\n",
        "tokenized_val.set_format(type='torch', columns=['input_ids', 'token_type_ids', 'attention_mask', 'labels'])\n",
        "tokenized_test.set_format(type='torch', columns=['input_ids', 'token_type_ids', 'attention_mask', 'labels'])\n",
        "\n",
        "# Data collator for dynamic padding during batching\n",
        "data_collator = DataCollatorWithPadding(tokenizer=tokenizer, return_tensors=\"pt\")"
      ]
    },
    {
      "cell_type": "markdown",
      "metadata": {
        "id": "FGRe9FEe0tgu"
      },
      "source": [
        "This function tokenizes question pairs using a BERT tokenizer, adds labels, and prepares the dataset for training. It keeps only necessary columns (input_ids, attention_mask, etc.) and converts the data into PyTorch tensors. A dynamic padding collator ensures efficient batching during training."
      ]
    },
    {
      "cell_type": "code",
      "execution_count": 38,
      "metadata": {
        "colab": {
          "base_uri": "https://localhost:8080/",
          "height": 113,
          "referenced_widgets": [
            "83f9db95811a4b92a20cfcaa772bbcc6",
            "4c6f8c6416f54499a94689cd18af4deb",
            "18f03bc0939e4d3db2cd23a527295552",
            "deb812dfe8634495acd92b62a3dac1ba",
            "4d0b4a3c5c74495c8d6c93b31b8bc918",
            "d8bc093efe634e739de88f04db0c3cd5",
            "181e87debaea44e0aeba4926ef8956fb",
            "20692745fe0b406a9873533fa10f5c93",
            "171dbc4ff6f04373a62db702d4f5f490",
            "2e00de499025492294075a5c76bc420e",
            "a08a6b9b425c48878d25d1ddb65da3cb",
            "627cb5108cbf40e38c4290fe25d2e595",
            "7d94ef48d6674560a850ab3da85b0d70",
            "ed0d480f72c74cf8b6d97cc752c617f3",
            "8aa955bd80004a12b27af7155490135d",
            "3894974e58b24ab6bd1f14f35025c2fc",
            "4eeec8205e9640a3a2ce7aab91687f1b",
            "926f01ef589844d1b580dd70e8d6fea8",
            "69cad48014a7462aa021bc30b6c993a3",
            "9b45c80d0da9476095495ac226d75773",
            "717c2efc19324d849ca10f9802c715d7",
            "4e40bce5da3e47e9909bec45d19ad49b",
            "231f56534b9943ae8645aebaaadcdeb8",
            "52aa5628526744eb8c39625301f2e40c",
            "a2a33c63153f41419252424df5604b2f",
            "3b2e98bf2dd642fd95323ffead1674fa",
            "65ec3647e4964c5aad972875a54cd566",
            "82b7d43be0ec42a8854e9bc31d9dee94",
            "792544392c1f485aaec1285f852efda3",
            "91d713fff9bc47e5b34d11f987ba03e8",
            "8f6b2209d7214696b8f3f1ed272caa8b",
            "25371c06b92e4da4a50711d924294c4c",
            "aa0ba59470974a359481d2e642638e30"
          ]
        },
        "id": "KVJnLC_0-IR-",
        "outputId": "3ebab944-f4d5-43fe-e189-869bb89c4776"
      },
      "outputs": [
        {
          "data": {
            "application/vnd.jupyter.widget-view+json": {
              "model_id": "83f9db95811a4b92a20cfcaa772bbcc6",
              "version_major": 2,
              "version_minor": 0
            },
            "text/plain": [
              "Downloading builder script:   0%|          | 0.00/4.20k [00:00<?, ?B/s]"
            ]
          },
          "metadata": {},
          "output_type": "display_data"
        },
        {
          "data": {
            "application/vnd.jupyter.widget-view+json": {
              "model_id": "627cb5108cbf40e38c4290fe25d2e595",
              "version_major": 2,
              "version_minor": 0
            },
            "text/plain": [
              "Downloading builder script:   0%|          | 0.00/9.54k [00:00<?, ?B/s]"
            ]
          },
          "metadata": {},
          "output_type": "display_data"
        },
        {
          "data": {
            "application/vnd.jupyter.widget-view+json": {
              "model_id": "231f56534b9943ae8645aebaaadcdeb8",
              "version_major": 2,
              "version_minor": 0
            },
            "text/plain": [
              "Downloading builder script:   0%|          | 0.00/6.79k [00:00<?, ?B/s]"
            ]
          },
          "metadata": {},
          "output_type": "display_data"
        }
      ],
      "source": [
        "# Load evaluation metrics\n",
        "accuracy = evaluate.load(\"accuracy\")\n",
        "auc_score = evaluate.load(\"roc_auc\")\n",
        "f1_metric = evaluate.load(\"f1\")\n",
        "\n",
        "# Define custom metric computation function\n",
        "def compute_metrics(eval_pred):\n",
        "    predictions, labels = eval_pred\n",
        "\n",
        "    # Convert logits to probabilities using numerically stable softmax\n",
        "    probabilities = softmax(predictions, axis=1)\n",
        "\n",
        "    # Predicted class labels\n",
        "    preds = np.argmax(probabilities, axis=1)\n",
        "\n",
        "    # Probabilities for the positive class (label=1) for AUC calculation\n",
        "    positive_class_probs = probabilities[:, 1]\n",
        "\n",
        "    # Compute evaluation metrics\n",
        "    acc = accuracy.compute(predictions=preds, references=labels)[\"accuracy\"]\n",
        "    auc = auc_score.compute(prediction_scores=positive_class_probs, references=labels)[\"roc_auc\"]\n",
        "    f1 = f1_metric.compute(predictions=preds, references=labels)[\"f1\"]\n",
        "    loss = log_loss(labels, probabilities)\n",
        "\n",
        "    # Print detailed report\n",
        "    print(f\"\\nAccuracy: {acc:.4f}, AUC: {auc:.4f}, F1: {f1:.4f}, Log Loss: {loss:.4f}\")\n",
        "    print(classification_report(labels, preds, digits=3))\n",
        "    print(\"Confusion Matrix:\")\n",
        "    print(confusion_matrix(labels, preds))\n",
        "\n",
        "    return {\n",
        "        \"accuracy\": round(acc, 4),\n",
        "        \"auc\": round(auc, 4),\n",
        "        \"f1\": round(f1, 4),\n",
        "        \"log_loss\": round(loss, 4)\n",
        "    }"
      ]
    },
    {
      "cell_type": "markdown",
      "metadata": {
        "id": "PKm1R50G1EE0"
      },
      "source": [
        "Our custom compute_metrics function calculates accuracy, AUC, F1 score, and log loss based on predicted probabilities and true labels. The function also prints a classification report and confusion matrix for detailed performance analysis."
      ]
    },
    {
      "cell_type": "code",
      "execution_count": 39,
      "metadata": {
        "colab": {
          "base_uri": "https://localhost:8080/",
          "height": 1000
        },
        "id": "U3EnFlgQ9XSe",
        "outputId": "d57065ec-46ad-40cf-e415-94b869a2dd4a"
      },
      "outputs": [
        {
          "name": "stderr",
          "output_type": "stream",
          "text": [
            "/tmp/ipython-input-39-109044148.py:25: FutureWarning: `tokenizer` is deprecated and will be removed in version 5.0.0 for `Trainer.__init__`. Use `processing_class` instead.\n",
            "  trainer = Trainer(\n"
          ]
        },
        {
          "name": "stdout",
          "output_type": "stream",
          "text": [
            "Using GPU: Tesla T4\n",
            "GPU Memory: 15.8 GB\n"
          ]
        },
        {
          "data": {
            "text/html": [
              "\n",
              "    <div>\n",
              "      \n",
              "      <progress value='27291' max='27291' style='width:300px; height:20px; vertical-align: middle;'></progress>\n",
              "      [27291/27291 28:34, Epoch 3/3]\n",
              "    </div>\n",
              "    <table border=\"1\" class=\"dataframe\">\n",
              "  <thead>\n",
              " <tr style=\"text-align: left;\">\n",
              "      <th>Epoch</th>\n",
              "      <th>Training Loss</th>\n",
              "      <th>Validation Loss</th>\n",
              "      <th>Accuracy</th>\n",
              "      <th>Auc</th>\n",
              "      <th>F1</th>\n",
              "      <th>Log Loss</th>\n",
              "      <th>Runtime</th>\n",
              "      <th>Samples Per Second</th>\n",
              "      <th>Steps Per Second</th>\n",
              "    </tr>\n",
              "  </thead>\n",
              "  <tbody>\n",
              "    <tr>\n",
              "      <td>1</td>\n",
              "      <td>0.336100</td>\n",
              "      <td>0.313773</td>\n",
              "      <td>0.857400</td>\n",
              "      <td>0.933100</td>\n",
              "      <td>0.812900</td>\n",
              "      <td>0.313800</td>\n",
              "      <td>33.811800</td>\n",
              "      <td>956.560000</td>\n",
              "      <td>29.901000</td>\n",
              "    </tr>\n",
              "    <tr>\n",
              "      <td>2</td>\n",
              "      <td>0.307300</td>\n",
              "      <td>0.291028</td>\n",
              "      <td>0.870600</td>\n",
              "      <td>0.943400</td>\n",
              "      <td>0.829800</td>\n",
              "      <td>0.291000</td>\n",
              "      <td>33.621000</td>\n",
              "      <td>961.987000</td>\n",
              "      <td>30.070000</td>\n",
              "    </tr>\n",
              "    <tr>\n",
              "      <td>3</td>\n",
              "      <td>0.278000</td>\n",
              "      <td>0.287352</td>\n",
              "      <td>0.872800</td>\n",
              "      <td>0.946200</td>\n",
              "      <td>0.833100</td>\n",
              "      <td>0.287400</td>\n",
              "      <td>33.894900</td>\n",
              "      <td>954.213000</td>\n",
              "      <td>29.827000</td>\n",
              "    </tr>\n",
              "  </tbody>\n",
              "</table><p>"
            ],
            "text/plain": [
              "<IPython.core.display.HTML object>"
            ]
          },
          "metadata": {},
          "output_type": "display_data"
        },
        {
          "name": "stdout",
          "output_type": "stream",
          "text": [
            "\n",
            "Accuracy: 0.8574, AUC: 0.9331, F1: 0.8129, Log Loss: 0.3138\n",
            "              precision    recall  f1-score   support\n",
            "\n",
            "           0      0.902     0.868     0.885     20402\n",
            "           1      0.788     0.839     0.813     11941\n",
            "\n",
            "    accuracy                          0.857     32343\n",
            "   macro avg      0.845     0.854     0.849     32343\n",
            "weighted avg      0.860     0.857     0.858     32343\n",
            "\n",
            "Confusion Matrix:\n",
            "[[17715  2687]\n",
            " [ 1925 10016]]\n",
            "\n",
            "Accuracy: 0.8706, AUC: 0.9434, F1: 0.8298, Log Loss: 0.2910\n",
            "              precision    recall  f1-score   support\n",
            "\n",
            "           0      0.912     0.880     0.896     20402\n",
            "           1      0.806     0.855     0.830     11941\n",
            "\n",
            "    accuracy                          0.871     32343\n",
            "   macro avg      0.859     0.867     0.863     32343\n",
            "weighted avg      0.873     0.871     0.871     32343\n",
            "\n",
            "Confusion Matrix:\n",
            "[[17950  2452]\n",
            " [ 1734 10207]]\n",
            "\n",
            "Accuracy: 0.8728, AUC: 0.9462, F1: 0.8331, Log Loss: 0.2874\n",
            "              precision    recall  f1-score   support\n",
            "\n",
            "           0      0.915     0.880     0.897     20402\n",
            "           1      0.808     0.860     0.833     11941\n",
            "\n",
            "    accuracy                          0.873     32343\n",
            "   macro avg      0.861     0.870     0.865     32343\n",
            "weighted avg      0.875     0.873     0.874     32343\n",
            "\n",
            "Confusion Matrix:\n",
            "[[17962  2440]\n",
            " [ 1673 10268]]\n"
          ]
        },
        {
          "data": {
            "text/plain": [
              "TrainOutput(global_step=27291, training_loss=0.3293904655383579, metrics={'train_runtime': 1715.4031, 'train_samples_per_second': 509.069, 'train_steps_per_second': 15.909, 'total_flos': 2.672201922670848e+16, 'train_loss': 0.3293904655383579, 'epoch': 3.0})"
            ]
          },
          "execution_count": 39,
          "metadata": {},
          "output_type": "execute_result"
        }
      ],
      "source": [
        "# Training configuration and hyperparameters\n",
        "training_args = TrainingArguments(\n",
        "    output_dir=\"./bert-finetuned\",\n",
        "    per_device_train_batch_size=16,\n",
        "    per_device_eval_batch_size=32,\n",
        "    gradient_accumulation_steps=2,\n",
        "    num_train_epochs=3,\n",
        "    eval_strategy=\"epoch\",\n",
        "    save_strategy=\"epoch\",\n",
        "    logging_strategy=\"steps\",\n",
        "    logging_steps=500,\n",
        "    learning_rate=2e-5,\n",
        "    weight_decay=0.01,  # Regularization\n",
        "    warmup_ratio=0.1,   # Learning rate warm-up\n",
        "    metric_for_best_model=\"eval_log_loss\",\n",
        "    greater_is_better=True,\n",
        "    load_best_model_at_end=True,\n",
        "    save_total_limit=2,\n",
        "    #dataloader_num_workers=0,\n",
        "    fp16=True,\n",
        "    report_to=\"none\", # Disable logging to external platforms\n",
        "    seed=42\n",
        ")\n",
        "# Initialize Trainer with model, data, and training settings\n",
        "trainer = Trainer(\n",
        "    model=model,\n",
        "    args=training_args,\n",
        "    train_dataset=tokenized_train,\n",
        "    eval_dataset=tokenized_val,\n",
        "    tokenizer=tokenizer,\n",
        "    data_collator=data_collator,\n",
        "    compute_metrics=compute_metrics\n",
        ")\n",
        "\n",
        "# Check GPU availability and specs\n",
        "if torch.cuda.is_available():\n",
        "    print(f\"Using GPU: {torch.cuda.get_device_name()}\")\n",
        "    print(f\"GPU Memory: {torch.cuda.get_device_properties(0).total_memory / 1e9:.1f} GB\")\n",
        "\n",
        "# Start model training\n",
        "trainer.train()\n"
      ]
    },
    {
      "cell_type": "markdown",
      "metadata": {
        "id": "lLQWGaqe12DK"
      },
      "source": [
        "We set up and run training for a BERT-based sequence classification model using Hugging Face’s Trainer. It configures key training parameters such as batch size, learning rate, evaluation strategy etc. It automatically evaluates and saves the best-performing model based on log loss.\n",
        "\n"
      ]
    },
    {
      "cell_type": "markdown",
      "metadata": {
        "id": "_CGmbJ1s2nHZ"
      },
      "source": [
        "Key takeaways from the BERT fine-tuning training process:\n",
        "\n",
        "Performance improved over epochs: The model steadily improved across all three epochs. Accuracy rose from 85.7% to 87.3%, and the log loss dropped from 0.3138 to 0.2874, indicating better prediction confidence and overall calibration.\n",
        "\n",
        "Strong Generalization: Final evaluation metrics show strong performance on the test set:\n",
        "\n",
        "AUC (ROC): 94.6% — excellent at distinguishing between duplicate and non-duplicate questions.\n",
        "\n",
        "F1-score: 83.3% — good balance between precision and recall.\n",
        "\n",
        "Confusion Matrix shows that both classes are well predicted, with only modest misclassification.\n",
        "\n",
        "Overall, the model demonstrates robust performance with no signs of overfitting, making it well-suited for real-world duplicate question detection tasks.\n"
      ]
    },
    {
      "cell_type": "code",
      "execution_count": 43,
      "metadata": {
        "colab": {
          "base_uri": "https://localhost:8080/",
          "height": 271
        },
        "id": "KCw4qXeL-gwW",
        "outputId": "26aa77a8-5f29-4619-9a06-b9ca9485a2eb"
      },
      "outputs": [
        {
          "data": {
            "text/html": [],
            "text/plain": [
              "<IPython.core.display.HTML object>"
            ]
          },
          "metadata": {},
          "output_type": "display_data"
        },
        {
          "name": "stdout",
          "output_type": "stream",
          "text": [
            "\n",
            "Accuracy: 0.8587, AUC: 0.9332, F1: 0.8142, Log Loss: 0.3141\n",
            "              precision    recall  f1-score   support\n",
            "\n",
            "           0      0.902     0.870     0.886     51005\n",
            "           1      0.791     0.839     0.814     29853\n",
            "\n",
            "    accuracy                          0.859     80858\n",
            "   macro avg      0.847     0.855     0.850     80858\n",
            "weighted avg      0.861     0.859     0.859     80858\n",
            "\n",
            "Confusion Matrix:\n",
            "[[44399  6606]\n",
            " [ 4819 25034]]\n"
          ]
        }
      ],
      "source": [
        "# Make predictions on the test set\n",
        "predictions_output = trainer.predict(tokenized_test)\n",
        "\n",
        "# Unpack logits and true labels\n",
        "logits = predictions_output.predictions\n",
        "labels = predictions_output.label_ids\n"
      ]
    },
    {
      "cell_type": "code",
      "execution_count": 42,
      "metadata": {
        "colab": {
          "base_uri": "https://localhost:8080/"
        },
        "id": "ED9CzCPuhZ5n",
        "outputId": "7bfee421-e64d-4009-8b00-d82e767d74ee"
      },
      "outputs": [
        {
          "data": {
            "text/plain": [
              "('./bert-duplicate-classifier/tokenizer_config.json',\n",
              " './bert-duplicate-classifier/special_tokens_map.json',\n",
              " './bert-duplicate-classifier/vocab.txt',\n",
              " './bert-duplicate-classifier/added_tokens.json',\n",
              " './bert-duplicate-classifier/tokenizer.json')"
            ]
          },
          "execution_count": 42,
          "metadata": {},
          "output_type": "execute_result"
        }
      ],
      "source": [
        "# Save the trained model and tokenizer\n",
        "trainer.save_model(\"./bert-duplicate-classifier\")\n",
        "tokenizer.save_pretrained(\"./bert-duplicate-classifier\")"
      ]
    },
    {
      "cell_type": "code",
      "execution_count": 45,
      "metadata": {
        "colab": {
          "base_uri": "https://localhost:8080/",
          "height": 162
        },
        "id": "hGSFQGjf2WZg",
        "outputId": "663a2e14-2b45-4937-a82c-20e7b305cc70"
      },
      "outputs": [
        {
          "name": "stdout",
          "output_type": "stream",
          "text": [
            "  adding: bert-duplicate-classifier/ (stored 0%)\n",
            "  adding: bert-duplicate-classifier/training_args.bin (deflated 51%)\n",
            "  adding: bert-duplicate-classifier/tokenizer_config.json (deflated 75%)\n",
            "  adding: bert-duplicate-classifier/config.json (deflated 51%)\n",
            "  adding: bert-duplicate-classifier/model.safetensors (deflated 7%)\n",
            "  adding: bert-duplicate-classifier/special_tokens_map.json (deflated 42%)\n",
            "  adding: bert-duplicate-classifier/tokenizer.json (deflated 71%)\n",
            "  adding: bert-duplicate-classifier/vocab.txt (deflated 53%)\n"
          ]
        },
        {
          "data": {
            "application/javascript": "\n    async function download(id, filename, size) {\n      if (!google.colab.kernel.accessAllowed) {\n        return;\n      }\n      const div = document.createElement('div');\n      const label = document.createElement('label');\n      label.textContent = `Downloading \"${filename}\": `;\n      div.appendChild(label);\n      const progress = document.createElement('progress');\n      progress.max = size;\n      div.appendChild(progress);\n      document.body.appendChild(div);\n\n      const buffers = [];\n      let downloaded = 0;\n\n      const channel = await google.colab.kernel.comms.open(id);\n      // Send a message to notify the kernel that we're ready.\n      channel.send({})\n\n      for await (const message of channel.messages) {\n        // Send a message to notify the kernel that we're ready.\n        channel.send({})\n        if (message.buffers) {\n          for (const buffer of message.buffers) {\n            buffers.push(buffer);\n            downloaded += buffer.byteLength;\n            progress.value = downloaded;\n          }\n        }\n      }\n      const blob = new Blob(buffers, {type: 'application/binary'});\n      const a = document.createElement('a');\n      a.href = window.URL.createObjectURL(blob);\n      a.download = filename;\n      div.appendChild(a);\n      a.click();\n      div.remove();\n    }\n  ",
            "text/plain": [
              "<IPython.core.display.Javascript object>"
            ]
          },
          "metadata": {},
          "output_type": "display_data"
        },
        {
          "data": {
            "application/javascript": "download(\"download_934f373d-ecc4-4589-8109-40c3dca03a67\", \"bert-duplicate-classifier.zip\", 405567703)",
            "text/plain": [
              "<IPython.core.display.Javascript object>"
            ]
          },
          "metadata": {},
          "output_type": "display_data"
        }
      ],
      "source": [
        "!zip -r bert-duplicate-classifier.zip bert-duplicate-classifier\n",
        "\n",
        "from google.colab import files\n",
        "files.download(\"bert-duplicate-classifier.zip\")"
      ]
    },
    {
      "cell_type": "code",
      "execution_count": null,
      "metadata": {
        "id": "byLVVSgE2JbD"
      },
      "outputs": [],
      "source": [
        "results = compute_metrics((logits, labels))\n",
        "\n",
        "# Add results to the model comparison table\n",
        "add_model_results(\"bert-finetuned model\", results[\"auc\"], results[\"log_loss\"])"
      ]
    },
    {
      "cell_type": "code",
      "execution_count": 47,
      "metadata": {
        "colab": {
          "base_uri": "https://localhost:8080/",
          "height": 193
        },
        "id": "2tiPynBJ9z2M",
        "outputId": "d7726bcf-294a-4c4e-b000-c67f8f3b21ed"
      },
      "outputs": [
        {
          "name": "stdout",
          "output_type": "stream",
          "text": [
            "Final comparison of model performances:\n"
          ]
        },
        {
          "data": {
            "application/vnd.google.colaboratory.intrinsic+json": {
              "summary": "{\n  \"name\": \"display(model_results\",\n  \"rows\": 4,\n  \"fields\": [\n    {\n      \"column\": \"Model\",\n      \"properties\": {\n        \"dtype\": \"string\",\n        \"num_unique_values\": 4,\n        \"samples\": [\n          \"Stacked ensemble model\",\n          \"XGBoost\",\n          \"bert-finetuned model\"\n        ],\n        \"semantic_type\": \"\",\n        \"description\": \"\"\n      }\n    },\n    {\n      \"column\": \"AUROC\",\n      \"properties\": {\n        \"dtype\": \"number\",\n        \"std\": 0.03946267223592443,\n        \"min\": 0.8423,\n        \"max\": 0.9332,\n        \"num_unique_values\": 4,\n        \"samples\": [\n          0.8692,\n          0.8423,\n          0.9332\n        ],\n        \"semantic_type\": \"\",\n        \"description\": \"\"\n      }\n    },\n    {\n      \"column\": \"Log Loss\",\n      \"properties\": {\n        \"dtype\": \"number\",\n        \"std\": 0.06859102832489587,\n        \"min\": 0.3141,\n        \"max\": 0.468,\n        \"num_unique_values\": 4,\n        \"samples\": [\n          0.4322,\n          0.468,\n          0.3141\n        ],\n        \"semantic_type\": \"\",\n        \"description\": \"\"\n      }\n    }\n  ]\n}",
              "type": "dataframe"
            },
            "text/html": [
              "\n",
              "  <div id=\"df-7ff42cae-40b5-42c7-beb7-d73819b85156\" class=\"colab-df-container\">\n",
              "    <div>\n",
              "<style scoped>\n",
              "    .dataframe tbody tr th:only-of-type {\n",
              "        vertical-align: middle;\n",
              "    }\n",
              "\n",
              "    .dataframe tbody tr th {\n",
              "        vertical-align: top;\n",
              "    }\n",
              "\n",
              "    .dataframe thead th {\n",
              "        text-align: right;\n",
              "    }\n",
              "</style>\n",
              "<table border=\"1\" class=\"dataframe\">\n",
              "  <thead>\n",
              "    <tr style=\"text-align: right;\">\n",
              "      <th></th>\n",
              "      <th>Model</th>\n",
              "      <th>AUROC</th>\n",
              "      <th>Log Loss</th>\n",
              "    </tr>\n",
              "  </thead>\n",
              "  <tbody>\n",
              "    <tr>\n",
              "      <th>0</th>\n",
              "      <td>bert-finetuned model</td>\n",
              "      <td>0.9332</td>\n",
              "      <td>0.3141</td>\n",
              "    </tr>\n",
              "    <tr>\n",
              "      <th>1</th>\n",
              "      <td>Stacked ensemble model</td>\n",
              "      <td>0.8692</td>\n",
              "      <td>0.4322</td>\n",
              "    </tr>\n",
              "    <tr>\n",
              "      <th>2</th>\n",
              "      <td>Logistic Regression</td>\n",
              "      <td>0.8612</td>\n",
              "      <td>0.4438</td>\n",
              "    </tr>\n",
              "    <tr>\n",
              "      <th>3</th>\n",
              "      <td>XGBoost</td>\n",
              "      <td>0.8423</td>\n",
              "      <td>0.4680</td>\n",
              "    </tr>\n",
              "  </tbody>\n",
              "</table>\n",
              "</div>\n",
              "    <div class=\"colab-df-buttons\">\n",
              "\n",
              "  <div class=\"colab-df-container\">\n",
              "    <button class=\"colab-df-convert\" onclick=\"convertToInteractive('df-7ff42cae-40b5-42c7-beb7-d73819b85156')\"\n",
              "            title=\"Convert this dataframe to an interactive table.\"\n",
              "            style=\"display:none;\">\n",
              "\n",
              "  <svg xmlns=\"http://www.w3.org/2000/svg\" height=\"24px\" viewBox=\"0 -960 960 960\">\n",
              "    <path d=\"M120-120v-720h720v720H120Zm60-500h600v-160H180v160Zm220 220h160v-160H400v160Zm0 220h160v-160H400v160ZM180-400h160v-160H180v160Zm440 0h160v-160H620v160ZM180-180h160v-160H180v160Zm440 0h160v-160H620v160Z\"/>\n",
              "  </svg>\n",
              "    </button>\n",
              "\n",
              "  <style>\n",
              "    .colab-df-container {\n",
              "      display:flex;\n",
              "      gap: 12px;\n",
              "    }\n",
              "\n",
              "    .colab-df-convert {\n",
              "      background-color: #E8F0FE;\n",
              "      border: none;\n",
              "      border-radius: 50%;\n",
              "      cursor: pointer;\n",
              "      display: none;\n",
              "      fill: #1967D2;\n",
              "      height: 32px;\n",
              "      padding: 0 0 0 0;\n",
              "      width: 32px;\n",
              "    }\n",
              "\n",
              "    .colab-df-convert:hover {\n",
              "      background-color: #E2EBFA;\n",
              "      box-shadow: 0px 1px 2px rgba(60, 64, 67, 0.3), 0px 1px 3px 1px rgba(60, 64, 67, 0.15);\n",
              "      fill: #174EA6;\n",
              "    }\n",
              "\n",
              "    .colab-df-buttons div {\n",
              "      margin-bottom: 4px;\n",
              "    }\n",
              "\n",
              "    [theme=dark] .colab-df-convert {\n",
              "      background-color: #3B4455;\n",
              "      fill: #D2E3FC;\n",
              "    }\n",
              "\n",
              "    [theme=dark] .colab-df-convert:hover {\n",
              "      background-color: #434B5C;\n",
              "      box-shadow: 0px 1px 3px 1px rgba(0, 0, 0, 0.15);\n",
              "      filter: drop-shadow(0px 1px 2px rgba(0, 0, 0, 0.3));\n",
              "      fill: #FFFFFF;\n",
              "    }\n",
              "  </style>\n",
              "\n",
              "    <script>\n",
              "      const buttonEl =\n",
              "        document.querySelector('#df-7ff42cae-40b5-42c7-beb7-d73819b85156 button.colab-df-convert');\n",
              "      buttonEl.style.display =\n",
              "        google.colab.kernel.accessAllowed ? 'block' : 'none';\n",
              "\n",
              "      async function convertToInteractive(key) {\n",
              "        const element = document.querySelector('#df-7ff42cae-40b5-42c7-beb7-d73819b85156');\n",
              "        const dataTable =\n",
              "          await google.colab.kernel.invokeFunction('convertToInteractive',\n",
              "                                                    [key], {});\n",
              "        if (!dataTable) return;\n",
              "\n",
              "        const docLinkHtml = 'Like what you see? Visit the ' +\n",
              "          '<a target=\"_blank\" href=https://colab.research.google.com/notebooks/data_table.ipynb>data table notebook</a>'\n",
              "          + ' to learn more about interactive tables.';\n",
              "        element.innerHTML = '';\n",
              "        dataTable['output_type'] = 'display_data';\n",
              "        await google.colab.output.renderOutput(dataTable, element);\n",
              "        const docLink = document.createElement('div');\n",
              "        docLink.innerHTML = docLinkHtml;\n",
              "        element.appendChild(docLink);\n",
              "      }\n",
              "    </script>\n",
              "  </div>\n",
              "\n",
              "\n",
              "    <div id=\"df-922f9d85-f2eb-4c26-b0f0-a0b3b96a51f0\">\n",
              "      <button class=\"colab-df-quickchart\" onclick=\"quickchart('df-922f9d85-f2eb-4c26-b0f0-a0b3b96a51f0')\"\n",
              "                title=\"Suggest charts\"\n",
              "                style=\"display:none;\">\n",
              "\n",
              "<svg xmlns=\"http://www.w3.org/2000/svg\" height=\"24px\"viewBox=\"0 0 24 24\"\n",
              "     width=\"24px\">\n",
              "    <g>\n",
              "        <path d=\"M19 3H5c-1.1 0-2 .9-2 2v14c0 1.1.9 2 2 2h14c1.1 0 2-.9 2-2V5c0-1.1-.9-2-2-2zM9 17H7v-7h2v7zm4 0h-2V7h2v10zm4 0h-2v-4h2v4z\"/>\n",
              "    </g>\n",
              "</svg>\n",
              "      </button>\n",
              "\n",
              "<style>\n",
              "  .colab-df-quickchart {\n",
              "      --bg-color: #E8F0FE;\n",
              "      --fill-color: #1967D2;\n",
              "      --hover-bg-color: #E2EBFA;\n",
              "      --hover-fill-color: #174EA6;\n",
              "      --disabled-fill-color: #AAA;\n",
              "      --disabled-bg-color: #DDD;\n",
              "  }\n",
              "\n",
              "  [theme=dark] .colab-df-quickchart {\n",
              "      --bg-color: #3B4455;\n",
              "      --fill-color: #D2E3FC;\n",
              "      --hover-bg-color: #434B5C;\n",
              "      --hover-fill-color: #FFFFFF;\n",
              "      --disabled-bg-color: #3B4455;\n",
              "      --disabled-fill-color: #666;\n",
              "  }\n",
              "\n",
              "  .colab-df-quickchart {\n",
              "    background-color: var(--bg-color);\n",
              "    border: none;\n",
              "    border-radius: 50%;\n",
              "    cursor: pointer;\n",
              "    display: none;\n",
              "    fill: var(--fill-color);\n",
              "    height: 32px;\n",
              "    padding: 0;\n",
              "    width: 32px;\n",
              "  }\n",
              "\n",
              "  .colab-df-quickchart:hover {\n",
              "    background-color: var(--hover-bg-color);\n",
              "    box-shadow: 0 1px 2px rgba(60, 64, 67, 0.3), 0 1px 3px 1px rgba(60, 64, 67, 0.15);\n",
              "    fill: var(--button-hover-fill-color);\n",
              "  }\n",
              "\n",
              "  .colab-df-quickchart-complete:disabled,\n",
              "  .colab-df-quickchart-complete:disabled:hover {\n",
              "    background-color: var(--disabled-bg-color);\n",
              "    fill: var(--disabled-fill-color);\n",
              "    box-shadow: none;\n",
              "  }\n",
              "\n",
              "  .colab-df-spinner {\n",
              "    border: 2px solid var(--fill-color);\n",
              "    border-color: transparent;\n",
              "    border-bottom-color: var(--fill-color);\n",
              "    animation:\n",
              "      spin 1s steps(1) infinite;\n",
              "  }\n",
              "\n",
              "  @keyframes spin {\n",
              "    0% {\n",
              "      border-color: transparent;\n",
              "      border-bottom-color: var(--fill-color);\n",
              "      border-left-color: var(--fill-color);\n",
              "    }\n",
              "    20% {\n",
              "      border-color: transparent;\n",
              "      border-left-color: var(--fill-color);\n",
              "      border-top-color: var(--fill-color);\n",
              "    }\n",
              "    30% {\n",
              "      border-color: transparent;\n",
              "      border-left-color: var(--fill-color);\n",
              "      border-top-color: var(--fill-color);\n",
              "      border-right-color: var(--fill-color);\n",
              "    }\n",
              "    40% {\n",
              "      border-color: transparent;\n",
              "      border-right-color: var(--fill-color);\n",
              "      border-top-color: var(--fill-color);\n",
              "    }\n",
              "    60% {\n",
              "      border-color: transparent;\n",
              "      border-right-color: var(--fill-color);\n",
              "    }\n",
              "    80% {\n",
              "      border-color: transparent;\n",
              "      border-right-color: var(--fill-color);\n",
              "      border-bottom-color: var(--fill-color);\n",
              "    }\n",
              "    90% {\n",
              "      border-color: transparent;\n",
              "      border-bottom-color: var(--fill-color);\n",
              "    }\n",
              "  }\n",
              "</style>\n",
              "\n",
              "      <script>\n",
              "        async function quickchart(key) {\n",
              "          const quickchartButtonEl =\n",
              "            document.querySelector('#' + key + ' button');\n",
              "          quickchartButtonEl.disabled = true;  // To prevent multiple clicks.\n",
              "          quickchartButtonEl.classList.add('colab-df-spinner');\n",
              "          try {\n",
              "            const charts = await google.colab.kernel.invokeFunction(\n",
              "                'suggestCharts', [key], {});\n",
              "          } catch (error) {\n",
              "            console.error('Error during call to suggestCharts:', error);\n",
              "          }\n",
              "          quickchartButtonEl.classList.remove('colab-df-spinner');\n",
              "          quickchartButtonEl.classList.add('colab-df-quickchart-complete');\n",
              "        }\n",
              "        (() => {\n",
              "          let quickchartButtonEl =\n",
              "            document.querySelector('#df-922f9d85-f2eb-4c26-b0f0-a0b3b96a51f0 button');\n",
              "          quickchartButtonEl.style.display =\n",
              "            google.colab.kernel.accessAllowed ? 'block' : 'none';\n",
              "        })();\n",
              "      </script>\n",
              "    </div>\n",
              "\n",
              "    </div>\n",
              "  </div>\n"
            ],
            "text/plain": [
              "                    Model   AUROC  Log Loss\n",
              "0    bert-finetuned model  0.9332    0.3141\n",
              "1  Stacked ensemble model  0.8692    0.4322\n",
              "2     Logistic Regression  0.8612    0.4438\n",
              "3                 XGBoost  0.8423    0.4680"
            ]
          },
          "metadata": {},
          "output_type": "display_data"
        }
      ],
      "source": [
        "# Showing results sorted by log loss score.\n",
        "print(\"Final comparison of model performances:\")\n",
        "display(model_results.sort_values(by=\"Log Loss\", ascending=True).reset_index(drop=True))"
      ]
    },
    {
      "cell_type": "markdown",
      "metadata": {
        "id": "jmY6jmEL6A8N"
      },
      "source": [
        "BERT significantly outperformed all other models, particularly with the lowest log loss (0.31) and the highest AUC (0.93). This demonstrates its superior ability to capture complex language patterns and deliver confident, calibrated predictions.\n",
        "\n",
        "Logistic Regression remains a strong baseline — showing solid results (log loss: 0.44) and (AUC: 0.86) and  — while being computationally efficient and interpretable.\n",
        "\n",
        "XGBoost, despite being effective on structured data, performed less effectively in this NLP task.\n",
        "\n",
        "The ensemble model (LR + XGB) performs slightly better than XGBoost alone but doesn’t surpass BERT or even logistic regression meaningfully — suggesting redundancy between the base models."
      ]
    },
    {
      "cell_type": "markdown",
      "metadata": {
        "id": "X472aLXt7wQ4"
      },
      "source": [
        "Final Conclusion:\n",
        "For the task of detecting duplicate questions, BERT is the clear winner, offering the best predictive performance. However, logistic regression remains a strong alternative when computational efficiency or interpretability is required."
      ]
    }
  ],
  "metadata": {
    "accelerator": "GPU",
    "colab": {
      "gpuType": "T4",
      "provenance": []
    },
    "kernelspec": {
      "display_name": "Python 3",
      "name": "python3"
    },
    "language_info": {
      "name": "python"
    },
  "nbformat": 4,
  "nbformat_minor": 0
}
