{
  "cells": [
    {
      "cell_type": "markdown",
      "source": [
        "## Quora Question Pairs Duplicate Detection"
      ],
      "metadata": {
        "id": "wpWA40mcLGC3"
      }
    },
    {
      "cell_type": "markdown",
      "source": [
        "In this project we create an NLP model that detects whether a pair of questions are duplicates based on their meaning.\n",
        "\n",
        "The task is based on a dataset originally from a Kaggle competition, split into train and test sets in an 80/20 ratio, stratified by the **is_duplicate** label.\n",
        "\n",
        "The original dataset is available on Kaggle and can be accessed https://www.kaggle.com/c/quora-question-pairs/data."
      ],
      "metadata": {
        "id": "njRoOLhNP5aE"
      }
    },
    {
      "cell_type": "markdown",
      "source": [
        "## Exploratory Data Analysis"
      ],
      "metadata": {
        "id": "m3L3Jb-yh4UE"
      }
    },
    {
      "cell_type": "code",
      "source": [
        "# Import necessary libraries\n",
        "import pandas as pd\n",
        "import numpy as np\n",
        "\n",
        "\n",
        "from matplotlib import pyplot as plt\n",
        "import seaborn as sns"
      ],
      "metadata": {
        "id": "mhpgcx1SLBwg"
      },
      "execution_count": null,
      "outputs": []
    },
    {
      "cell_type": "code",
      "execution_count": null,
      "metadata": {
        "id": "3fLpuEDRgU7R"
      },
      "outputs": [],
      "source": [
        "# Load the training dataset\n",
        "df_train = pd.read_csv('/content/quora_question_pairs_train.csv.zip', index_col=0)"
      ]
    },
    {
      "cell_type": "code",
      "source": [
        "# Load the test dataset\n",
        "df_test = pd.read_csv('quora_question_pairs_test.csv.zip', index_col=0)"
      ],
      "metadata": {
        "id": "XCYDW5FH5mT3"
      },
      "execution_count": null,
      "outputs": []
    },
    {
      "cell_type": "code",
      "source": [
        "# Combine training and test datasets for analysis\n",
        "df=pd.concat([df_train, df_test])\n",
        "df.info()\n"
      ],
      "metadata": {
        "colab": {
          "base_uri": "https://localhost:8080/"
        },
        "id": "KSzalyyTXUzG",
        "outputId": "a0d52791-36db-4652-e6e2-8fffed3ed896"
      },
      "execution_count": null,
      "outputs": [
        {
          "output_type": "stream",
          "name": "stdout",
          "text": [
            "<class 'pandas.core.frame.DataFrame'>\n",
            "Index: 404290 entries, 332278 to 7415\n",
            "Data columns (total 5 columns):\n",
            " #   Column        Non-Null Count   Dtype \n",
            "---  ------        --------------   ----- \n",
            " 0   qid1          404290 non-null  int64 \n",
            " 1   qid2          404290 non-null  int64 \n",
            " 2   question1     404289 non-null  object\n",
            " 3   question2     404288 non-null  object\n",
            " 4   is_duplicate  404290 non-null  int64 \n",
            "dtypes: int64(3), object(2)\n",
            "memory usage: 18.5+ MB\n"
          ]
        }
      ]
    },
    {
      "cell_type": "markdown",
      "source": [
        "Dataset contains 404290 rows and 5 columns, combining both the training and test sets. Missing Values: column **question1** has 1 missing value, column **question2** has 2 missing values\n",
        "\n",
        "**is_duplicate** - target label: 1 if the questions are duplicates (semantically the same), 0 otherwise\n"
      ],
      "metadata": {
        "id": "k93CaKVwbeVd"
      }
    },
    {
      "cell_type": "code",
      "source": [
        "question_ids = pd.Series(df['qid1'].tolist() + df['qid2'].tolist())"
      ],
      "metadata": {
        "id": "804A7mfyaRZf"
      },
      "execution_count": null,
      "outputs": []
    },
    {
      "cell_type": "code",
      "source": [
        "# Count total number of unique question IDs\n",
        "num_unique_ids = question_ids.nunique()"
      ],
      "metadata": {
        "id": "KEs93b86aa-z"
      },
      "execution_count": null,
      "outputs": []
    },
    {
      "cell_type": "code",
      "source": [
        "num_unique_ids"
      ],
      "metadata": {
        "colab": {
          "base_uri": "https://localhost:8080/"
        },
        "id": "y-kpH-O0ai3f",
        "outputId": "79d72a6c-e7e8-45de-a878-76c440ca30c1"
      },
      "execution_count": null,
      "outputs": [
        {
          "output_type": "execute_result",
          "data": {
            "text/plain": [
              "537933"
            ]
          },
          "metadata": {},
          "execution_count": 7
        }
      ]
    },
    {
      "cell_type": "markdown",
      "source": [
        "The result shows that there are 537,933 unique question IDs in the combined dataset."
      ],
      "metadata": {
        "id": "B1KDIn9BejqM"
      }
    },
    {
      "cell_type": "code",
      "source": [
        "# Count frequency of each question ID\n",
        "qid_frequency_df = question_ids.value_counts()\n",
        "\n",
        "# Count how many question IDs appear more than once\n",
        "num_repeated_qids = np.sum(qid_frequency_df > 1)"
      ],
      "metadata": {
        "id": "HFA5uK-Car43"
      },
      "execution_count": null,
      "outputs": []
    },
    {
      "cell_type": "code",
      "source": [
        "# Display frequency of each question ID\n",
        "print(qid_frequency_df)"
      ],
      "metadata": {
        "colab": {
          "base_uri": "https://localhost:8080/"
        },
        "id": "l2G1vw8Qqrag",
        "outputId": "9939212a-1c91-452c-8c85-62bca0346d35"
      },
      "execution_count": null,
      "outputs": [
        {
          "output_type": "stream",
          "name": "stdout",
          "text": [
            "2559      157\n",
            "30782     120\n",
            "4044      111\n",
            "2561       88\n",
            "14376      79\n",
            "         ... \n",
            "240395      1\n",
            "328162      1\n",
            "146147      1\n",
            "334588      1\n",
            "14489       1\n",
            "Name: count, Length: 537933, dtype: int64\n"
          ]
        }
      ]
    },
    {
      "cell_type": "code",
      "source": [
        "# Calculate the percentage of repeated question IDs\n",
        "repeated_qid_percentage= (num_repeated_qids / num_unique_ids) * 100"
      ],
      "metadata": {
        "id": "CT4_f6XfrwGD"
      },
      "execution_count": null,
      "outputs": []
    },
    {
      "cell_type": "code",
      "source": [
        "# Display statistics\n",
        "print(f\"Total number of unique questions: {num_unique_ids}\")\n",
        "print(f\"Total number of questions that appear more than one time: {num_repeated_qids} ({round(repeated_qid_percentage, 2)}%)\")\n",
        "print(f\"The maximun number of times a single question repeated: {qid_frequency_df.max()}\")"
      ],
      "metadata": {
        "colab": {
          "base_uri": "https://localhost:8080/"
        },
        "id": "BMKW4AkIa_5m",
        "outputId": "d55efa6b-b939-414f-9596-1f9ded9220a5"
      },
      "execution_count": null,
      "outputs": [
        {
          "output_type": "stream",
          "name": "stdout",
          "text": [
            "Total number of unique questions: 537933\n",
            "Total number of questions that appear more than one time: 111780 (20.78%)\n",
            "The maximun number of times a single question repeated: 157\n"
          ]
        }
      ]
    },
    {
      "cell_type": "markdown",
      "source": [
        "So we can see that around 1 in 5 questions appears in more than one pair. This shows a significant level of overlap, meaning many questions are reused in different contexts.\n",
        "\n",
        "The most frequently occurring question appears 157 times, which may indicate that some questions are particularly common or broadly phrased."
      ],
      "metadata": {
        "id": "g7fh9dz2fkwk"
      }
    },
    {
      "cell_type": "code",
      "source": [
        "# Check frequency distribution in qid1 and qid2 separately\n",
        "df['qid1'].value_counts()"
      ],
      "metadata": {
        "colab": {
          "base_uri": "https://localhost:8080/",
          "height": 489
        },
        "id": "mdjA_KUZj9cr",
        "outputId": "d7f2d493-f5c8-4eef-b941-cc3536e9bb3e"
      },
      "execution_count": null,
      "outputs": [
        {
          "output_type": "execute_result",
          "data": {
            "text/plain": [
              "qid1\n",
              "8461      50\n",
              "14110     48\n",
              "20628     47\n",
              "1749      47\n",
              "25984     47\n",
              "          ..\n",
              "129253     1\n",
              "228668     1\n",
              "385766     1\n",
              "347410     1\n",
              "209165     1\n",
              "Name: count, Length: 290654, dtype: int64"
            ],
            "text/html": [
              "<div>\n",
              "<style scoped>\n",
              "    .dataframe tbody tr th:only-of-type {\n",
              "        vertical-align: middle;\n",
              "    }\n",
              "\n",
              "    .dataframe tbody tr th {\n",
              "        vertical-align: top;\n",
              "    }\n",
              "\n",
              "    .dataframe thead th {\n",
              "        text-align: right;\n",
              "    }\n",
              "</style>\n",
              "<table border=\"1\" class=\"dataframe\">\n",
              "  <thead>\n",
              "    <tr style=\"text-align: right;\">\n",
              "      <th></th>\n",
              "      <th>count</th>\n",
              "    </tr>\n",
              "    <tr>\n",
              "      <th>qid1</th>\n",
              "      <th></th>\n",
              "    </tr>\n",
              "  </thead>\n",
              "  <tbody>\n",
              "    <tr>\n",
              "      <th>8461</th>\n",
              "      <td>50</td>\n",
              "    </tr>\n",
              "    <tr>\n",
              "      <th>14110</th>\n",
              "      <td>48</td>\n",
              "    </tr>\n",
              "    <tr>\n",
              "      <th>20628</th>\n",
              "      <td>47</td>\n",
              "    </tr>\n",
              "    <tr>\n",
              "      <th>1749</th>\n",
              "      <td>47</td>\n",
              "    </tr>\n",
              "    <tr>\n",
              "      <th>25984</th>\n",
              "      <td>47</td>\n",
              "    </tr>\n",
              "    <tr>\n",
              "      <th>...</th>\n",
              "      <td>...</td>\n",
              "    </tr>\n",
              "    <tr>\n",
              "      <th>129253</th>\n",
              "      <td>1</td>\n",
              "    </tr>\n",
              "    <tr>\n",
              "      <th>228668</th>\n",
              "      <td>1</td>\n",
              "    </tr>\n",
              "    <tr>\n",
              "      <th>385766</th>\n",
              "      <td>1</td>\n",
              "    </tr>\n",
              "    <tr>\n",
              "      <th>347410</th>\n",
              "      <td>1</td>\n",
              "    </tr>\n",
              "    <tr>\n",
              "      <th>209165</th>\n",
              "      <td>1</td>\n",
              "    </tr>\n",
              "  </tbody>\n",
              "</table>\n",
              "<p>290654 rows × 1 columns</p>\n",
              "</div><br><label><b>dtype:</b> int64</label>"
            ]
          },
          "metadata": {},
          "execution_count": 12
        }
      ]
    },
    {
      "cell_type": "code",
      "source": [
        "df['qid2'].value_counts()"
      ],
      "metadata": {
        "colab": {
          "base_uri": "https://localhost:8080/",
          "height": 489
        },
        "id": "c9oQSN5_kfWZ",
        "outputId": "202bdf00-6bff-4caa-b8ed-888683eb1259"
      },
      "execution_count": null,
      "outputs": [
        {
          "output_type": "execute_result",
          "data": {
            "text/plain": [
              "qid2\n",
              "30782     120\n",
              "2559      115\n",
              "4044      100\n",
              "2561       71\n",
              "17978      66\n",
              "         ... \n",
              "486999      1\n",
              "470835      1\n",
              "423247      1\n",
              "289871      1\n",
              "14489       1\n",
              "Name: count, Length: 299364, dtype: int64"
            ],
            "text/html": [
              "<div>\n",
              "<style scoped>\n",
              "    .dataframe tbody tr th:only-of-type {\n",
              "        vertical-align: middle;\n",
              "    }\n",
              "\n",
              "    .dataframe tbody tr th {\n",
              "        vertical-align: top;\n",
              "    }\n",
              "\n",
              "    .dataframe thead th {\n",
              "        text-align: right;\n",
              "    }\n",
              "</style>\n",
              "<table border=\"1\" class=\"dataframe\">\n",
              "  <thead>\n",
              "    <tr style=\"text-align: right;\">\n",
              "      <th></th>\n",
              "      <th>count</th>\n",
              "    </tr>\n",
              "    <tr>\n",
              "      <th>qid2</th>\n",
              "      <th></th>\n",
              "    </tr>\n",
              "  </thead>\n",
              "  <tbody>\n",
              "    <tr>\n",
              "      <th>30782</th>\n",
              "      <td>120</td>\n",
              "    </tr>\n",
              "    <tr>\n",
              "      <th>2559</th>\n",
              "      <td>115</td>\n",
              "    </tr>\n",
              "    <tr>\n",
              "      <th>4044</th>\n",
              "      <td>100</td>\n",
              "    </tr>\n",
              "    <tr>\n",
              "      <th>2561</th>\n",
              "      <td>71</td>\n",
              "    </tr>\n",
              "    <tr>\n",
              "      <th>17978</th>\n",
              "      <td>66</td>\n",
              "    </tr>\n",
              "    <tr>\n",
              "      <th>...</th>\n",
              "      <td>...</td>\n",
              "    </tr>\n",
              "    <tr>\n",
              "      <th>486999</th>\n",
              "      <td>1</td>\n",
              "    </tr>\n",
              "    <tr>\n",
              "      <th>470835</th>\n",
              "      <td>1</td>\n",
              "    </tr>\n",
              "    <tr>\n",
              "      <th>423247</th>\n",
              "      <td>1</td>\n",
              "    </tr>\n",
              "    <tr>\n",
              "      <th>289871</th>\n",
              "      <td>1</td>\n",
              "    </tr>\n",
              "    <tr>\n",
              "      <th>14489</th>\n",
              "      <td>1</td>\n",
              "    </tr>\n",
              "  </tbody>\n",
              "</table>\n",
              "<p>299364 rows × 1 columns</p>\n",
              "</div><br><label><b>dtype:</b> int64</label>"
            ]
          },
          "metadata": {},
          "execution_count": 13
        }
      ]
    },
    {
      "cell_type": "markdown",
      "source": [
        "We’re examining how often each question ID appears in the qid1 and qid2 columns separately.\n",
        "\n",
        "qid1:\n",
        "\n",
        "The most frequent question ID appears 50 times.\n",
        "\n",
        "The number of unique qid1 entries is 290,654.\n",
        "\n",
        "qid2:\n",
        "\n",
        "The most frequent question ID appears 120 times.\n",
        "\n",
        "The number of unique qid2 entries is 299,364.\n",
        "\n",
        "There's a notable imbalance between the most frequent qid1 (50) and qid2 (120). This suggests some questions are more frequently reused as the second question in a pair.\n"
      ],
      "metadata": {
        "id": "lJh6_fvegohG"
      }
    },
    {
      "cell_type": "code",
      "source": [
        "# Bar plot comparing unique and repeated question counts\n",
        "x = [\"Unique Question Count\", \"Repeated Question Count\"]\n",
        "y = [num_unique_ids, num_repeated_qids]\n",
        "\n",
        "plt.figure(figsize=(10, 6))\n",
        "sns.barplot(x=x, y=y)\n",
        "plt.show()"
      ],
      "metadata": {
        "colab": {
          "base_uri": "https://localhost:8080/",
          "height": 522
        },
        "id": "ITZc5OdWbW31",
        "outputId": "582382dc-9752-4e2b-97a9-f6f587e0f5e5"
      },
      "execution_count": null,
      "outputs": [
        {
          "output_type": "display_data",
          "data": {
            "text/plain": [
              "<Figure size 1000x600 with 1 Axes>"
            ],
            "image/png": "[encoded data removed]"
          },
          "metadata": {}
        }
      ]
    },
    {
      "cell_type": "markdown",
      "source": [
        "The bar chart clearly shows that the majority of questions in the dataset are unique, while a significantly smaller portion appear more than once.\n",
        "\n",
        "The presence of repeated questions can be valuable for improving model generalization, since some questions occur in different semantic contexts.\n",
        "\n",
        "However, it's also important to monitor for bias toward overrepresented questions."
      ],
      "metadata": {
        "id": "V-kLQxFBjx3C"
      }
    },
    {
      "cell_type": "code",
      "source": [
        "# Count occurrences of each question pair (qid1, qid2)\n",
        "pair_counts = (\n",
        "    df[['qid1', 'qid2']]\n",
        "      .groupby(['qid1', 'qid2'])\n",
        "      .size()                #\n",
        "      .reset_index(name='count')\n",
        ")\n",
        "\n",
        "# Filter pairs that appear more than once\n",
        "repeated_pairs = pair_counts[pair_counts['count'] > 1]\n",
        "\n",
        "# Count total number of duplicate rows (extra appearances)\n",
        "extra_occurrences = repeated_pairs['count'].sum() - repeated_pairs.shape[0]\n",
        "\n",
        "print(f\"Number of duplicate rows: {extra_occurrences}\")\n"
      ],
      "metadata": {
        "colab": {
          "base_uri": "https://localhost:8080/"
        },
        "id": "DoTGGLhotQG1",
        "outputId": "d863177f-d403-4bcf-b8fc-6606ae547cf3"
      },
      "execution_count": null,
      "outputs": [
        {
          "output_type": "stream",
          "name": "stdout",
          "text": [
            "Number of duplicate rows: 0\n"
          ]
        }
      ]
    },
    {
      "cell_type": "markdown",
      "source": [
        "Every pair of questions (qid1, qid2) appears only once in the dataset.\n",
        "\n",
        "This confirms that the dataset is clean and free from redundancy in terms of repeated question combinations."
      ],
      "metadata": {
        "id": "KOe06AoAkwCK"
      }
    },
    {
      "cell_type": "code",
      "source": [
        "# Show the pair counts dataframe\n",
        "pair_counts"
      ],
      "metadata": {
        "colab": {
          "base_uri": "https://localhost:8080/",
          "height": 423
        },
        "id": "2vZUH4OIbxCp",
        "outputId": "b38fc68e-0860-4d56-c7ce-c776a9b08bee"
      },
      "execution_count": null,
      "outputs": [
        {
          "output_type": "execute_result",
          "data": {
            "text/plain": [
              "          qid1    qid2  count\n",
              "0            1       2      1\n",
              "1            3       4      1\n",
              "2            3  282170      1\n",
              "3            3  380197      1\n",
              "4            3  488853      1\n",
              "...        ...     ...    ...\n",
              "404285  537924  537925      1\n",
              "404286  537926  537927      1\n",
              "404287  537928  537929      1\n",
              "404288  537930  537931      1\n",
              "404289  537932  537933      1\n",
              "\n",
              "[404290 rows x 3 columns]"
            ],
            "text/html": [
              "\n",
              "  <div id=\"df-a16885df-6274-48e3-9c9f-f98e28065ea1\" class=\"colab-df-container\">\n",
              "    <div>\n",
              "<style scoped>\n",
              "    .dataframe tbody tr th:only-of-type {\n",
              "        vertical-align: middle;\n",
              "    }\n",
              "\n",
              "    .dataframe tbody tr th {\n",
              "        vertical-align: top;\n",
              "    }\n",
              "\n",
              "    .dataframe thead th {\n",
              "        text-align: right;\n",
              "    }\n",
              "</style>\n",
              "<table border=\"1\" class=\"dataframe\">\n",
              "  <thead>\n",
              "    <tr style=\"text-align: right;\">\n",
              "      <th></th>\n",
              "      <th>qid1</th>\n",
              "      <th>qid2</th>\n",
              "      <th>count</th>\n",
              "    </tr>\n",
              "  </thead>\n",
              "  <tbody>\n",
              "    <tr>\n",
              "      <th>0</th>\n",
              "      <td>1</td>\n",
              "      <td>2</td>\n",
              "      <td>1</td>\n",
              "    </tr>\n",
              "    <tr>\n",
              "      <th>1</th>\n",
              "      <td>3</td>\n",
              "      <td>4</td>\n",
              "      <td>1</td>\n",
              "    </tr>\n",
              "    <tr>\n",
              "      <th>2</th>\n",
              "      <td>3</td>\n",
              "      <td>282170</td>\n",
              "      <td>1</td>\n",
              "    </tr>\n",
              "    <tr>\n",
              "      <th>3</th>\n",
              "      <td>3</td>\n",
              "      <td>380197</td>\n",
              "      <td>1</td>\n",
              "    </tr>\n",
              "    <tr>\n",
              "      <th>4</th>\n",
              "      <td>3</td>\n",
              "      <td>488853</td>\n",
              "      <td>1</td>\n",
              "    </tr>\n",
              "    <tr>\n",
              "      <th>...</th>\n",
              "      <td>...</td>\n",
              "      <td>...</td>\n",
              "      <td>...</td>\n",
              "    </tr>\n",
              "    <tr>\n",
              "      <th>404285</th>\n",
              "      <td>537924</td>\n",
              "      <td>537925</td>\n",
              "      <td>1</td>\n",
              "    </tr>\n",
              "    <tr>\n",
              "      <th>404286</th>\n",
              "      <td>537926</td>\n",
              "      <td>537927</td>\n",
              "      <td>1</td>\n",
              "    </tr>\n",
              "    <tr>\n",
              "      <th>404287</th>\n",
              "      <td>537928</td>\n",
              "      <td>537929</td>\n",
              "      <td>1</td>\n",
              "    </tr>\n",
              "    <tr>\n",
              "      <th>404288</th>\n",
              "      <td>537930</td>\n",
              "      <td>537931</td>\n",
              "      <td>1</td>\n",
              "    </tr>\n",
              "    <tr>\n",
              "      <th>404289</th>\n",
              "      <td>537932</td>\n",
              "      <td>537933</td>\n",
              "      <td>1</td>\n",
              "    </tr>\n",
              "  </tbody>\n",
              "</table>\n",
              "<p>404290 rows × 3 columns</p>\n",
              "</div>\n",
              "    <div class=\"colab-df-buttons\">\n",
              "\n",
              "  <div class=\"colab-df-container\">\n",
              "    <button class=\"colab-df-convert\" onclick=\"convertToInteractive('df-a16885df-6274-48e3-9c9f-f98e28065ea1')\"\n",
              "            title=\"Convert this dataframe to an interactive table.\"\n",
              "            style=\"display:none;\">\n",
              "\n",
              "  <svg xmlns=\"http://www.w3.org/2000/svg\" height=\"24px\" viewBox=\"0 -960 960 960\">\n",
              "    <path d=\"M120-120v-720h720v720H120Zm60-500h600v-160H180v160Zm220 220h160v-160H400v160Zm0 220h160v-160H400v160ZM180-400h160v-160H180v160Zm440 0h160v-160H620v160ZM180-180h160v-160H180v160Zm440 0h160v-160H620v160Z\"/>\n",
              "  </svg>\n",
              "    </button>\n",
              "\n",
              "  <style>\n",
              "    .colab-df-container {\n",
              "      display:flex;\n",
              "      gap: 12px;\n",
              "    }\n",
              "\n",
              "    .colab-df-convert {\n",
              "      background-color: #E8F0FE;\n",
              "      border: none;\n",
              "      border-radius: 50%;\n",
              "      cursor: pointer;\n",
              "      display: none;\n",
              "      fill: #1967D2;\n",
              "      height: 32px;\n",
              "      padding: 0 0 0 0;\n",
              "      width: 32px;\n",
              "    }\n",
              "\n",
              "    .colab-df-convert:hover {\n",
              "      background-color: #E2EBFA;\n",
              "      box-shadow: 0px 1px 2px rgba(60, 64, 67, 0.3), 0px 1px 3px 1px rgba(60, 64, 67, 0.15);\n",
              "      fill: #174EA6;\n",
              "    }\n",
              "\n",
              "    .colab-df-buttons div {\n",
              "      margin-bottom: 4px;\n",
              "    }\n",
              "\n",
              "    [theme=dark] .colab-df-convert {\n",
              "      background-color: #3B4455;\n",
              "      fill: #D2E3FC;\n",
              "    }\n",
              "\n",
              "    [theme=dark] .colab-df-convert:hover {\n",
              "      background-color: #434B5C;\n",
              "      box-shadow: 0px 1px 3px 1px rgba(0, 0, 0, 0.15);\n",
              "      filter: drop-shadow(0px 1px 2px rgba(0, 0, 0, 0.3));\n",
              "      fill: #FFFFFF;\n",
              "    }\n",
              "  </style>\n",
              "\n",
              "    <script>\n",
              "      const buttonEl =\n",
              "        document.querySelector('#df-a16885df-6274-48e3-9c9f-f98e28065ea1 button.colab-df-convert');\n",
              "      buttonEl.style.display =\n",
              "        google.colab.kernel.accessAllowed ? 'block' : 'none';\n",
              "\n",
              "      async function convertToInteractive(key) {\n",
              "        const element = document.querySelector('#df-a16885df-6274-48e3-9c9f-f98e28065ea1');\n",
              "        const dataTable =\n",
              "          await google.colab.kernel.invokeFunction('convertToInteractive',\n",
              "                                                    [key], {});\n",
              "        if (!dataTable) return;\n",
              "\n",
              "        const docLinkHtml = 'Like what you see? Visit the ' +\n",
              "          '<a target=\"_blank\" href=https://colab.research.google.com/notebooks/data_table.ipynb>data table notebook</a>'\n",
              "          + ' to learn more about interactive tables.';\n",
              "        element.innerHTML = '';\n",
              "        dataTable['output_type'] = 'display_data';\n",
              "        await google.colab.output.renderOutput(dataTable, element);\n",
              "        const docLink = document.createElement('div');\n",
              "        docLink.innerHTML = docLinkHtml;\n",
              "        element.appendChild(docLink);\n",
              "      }\n",
              "    </script>\n",
              "  </div>\n",
              "\n",
              "\n",
              "<div id=\"df-e24a1b33-9965-41b3-bf66-e35ee6da8a48\">\n",
              "  <button class=\"colab-df-quickchart\" onclick=\"quickchart('df-e24a1b33-9965-41b3-bf66-e35ee6da8a48')\"\n",
              "            title=\"Suggest charts\"\n",
              "            style=\"display:none;\">\n",
              "\n",
              "<svg xmlns=\"http://www.w3.org/2000/svg\" height=\"24px\"viewBox=\"0 0 24 24\"\n",
              "     width=\"24px\">\n",
              "    <g>\n",
              "        <path d=\"M19 3H5c-1.1 0-2 .9-2 2v14c0 1.1.9 2 2 2h14c1.1 0 2-.9 2-2V5c0-1.1-.9-2-2-2zM9 17H7v-7h2v7zm4 0h-2V7h2v10zm4 0h-2v-4h2v4z\"/>\n",
              "    </g>\n",
              "</svg>\n",
              "  </button>\n",
              "\n",
              "<style>\n",
              "  .colab-df-quickchart {\n",
              "      --bg-color: #E8F0FE;\n",
              "      --fill-color: #1967D2;\n",
              "      --hover-bg-color: #E2EBFA;\n",
              "      --hover-fill-color: #174EA6;\n",
              "      --disabled-fill-color: #AAA;\n",
              "      --disabled-bg-color: #DDD;\n",
              "  }\n",
              "\n",
              "  [theme=dark] .colab-df-quickchart {\n",
              "      --bg-color: #3B4455;\n",
              "      --fill-color: #D2E3FC;\n",
              "      --hover-bg-color: #434B5C;\n",
              "      --hover-fill-color: #FFFFFF;\n",
              "      --disabled-bg-color: #3B4455;\n",
              "      --disabled-fill-color: #666;\n",
              "  }\n",
              "\n",
              "  .colab-df-quickchart {\n",
              "    background-color: var(--bg-color);\n",
              "    border: none;\n",
              "    border-radius: 50%;\n",
              "    cursor: pointer;\n",
              "    display: none;\n",
              "    fill: var(--fill-color);\n",
              "    height: 32px;\n",
              "    padding: 0;\n",
              "    width: 32px;\n",
              "  }\n",
              "\n",
              "  .colab-df-quickchart:hover {\n",
              "    background-color: var(--hover-bg-color);\n",
              "    box-shadow: 0 1px 2px rgba(60, 64, 67, 0.3), 0 1px 3px 1px rgba(60, 64, 67, 0.15);\n",
              "    fill: var(--button-hover-fill-color);\n",
              "  }\n",
              "\n",
              "  .colab-df-quickchart-complete:disabled,\n",
              "  .colab-df-quickchart-complete:disabled:hover {\n",
              "    background-color: var(--disabled-bg-color);\n",
              "    fill: var(--disabled-fill-color);\n",
              "    box-shadow: none;\n",
              "  }\n",
              "\n",
              "  .colab-df-spinner {\n",
              "    border: 2px solid var(--fill-color);\n",
              "    border-color: transparent;\n",
              "    border-bottom-color: var(--fill-color);\n",
              "    animation:\n",
              "      spin 1s steps(1) infinite;\n",
              "  }\n",
              "\n",
              "  @keyframes spin {\n",
              "    0% {\n",
              "      border-color: transparent;\n",
              "      border-bottom-color: var(--fill-color);\n",
              "      border-left-color: var(--fill-color);\n",
              "    }\n",
              "    20% {\n",
              "      border-color: transparent;\n",
              "      border-left-color: var(--fill-color);\n",
              "      border-top-color: var(--fill-color);\n",
              "    }\n",
              "    30% {\n",
              "      border-color: transparent;\n",
              "      border-left-color: var(--fill-color);\n",
              "      border-top-color: var(--fill-color);\n",
              "      border-right-color: var(--fill-color);\n",
              "    }\n",
              "    40% {\n",
              "      border-color: transparent;\n",
              "      border-right-color: var(--fill-color);\n",
              "      border-top-color: var(--fill-color);\n",
              "    }\n",
              "    60% {\n",
              "      border-color: transparent;\n",
              "      border-right-color: var(--fill-color);\n",
              "    }\n",
              "    80% {\n",
              "      border-color: transparent;\n",
              "      border-right-color: var(--fill-color);\n",
              "      border-bottom-color: var(--fill-color);\n",
              "    }\n",
              "    90% {\n",
              "      border-color: transparent;\n",
              "      border-bottom-color: var(--fill-color);\n",
              "    }\n",
              "  }\n",
              "</style>\n",
              "\n",
              "  <script>\n",
              "    async function quickchart(key) {\n",
              "      const quickchartButtonEl =\n",
              "        document.querySelector('#' + key + ' button');\n",
              "      quickchartButtonEl.disabled = true;  // To prevent multiple clicks.\n",
              "      quickchartButtonEl.classList.add('colab-df-spinner');\n",
              "      try {\n",
              "        const charts = await google.colab.kernel.invokeFunction(\n",
              "            'suggestCharts', [key], {});\n",
              "      } catch (error) {\n",
              "        console.error('Error during call to suggestCharts:', error);\n",
              "      }\n",
              "      quickchartButtonEl.classList.remove('colab-df-spinner');\n",
              "      quickchartButtonEl.classList.add('colab-df-quickchart-complete');\n",
              "    }\n",
              "    (() => {\n",
              "      let quickchartButtonEl =\n",
              "        document.querySelector('#df-e24a1b33-9965-41b3-bf66-e35ee6da8a48 button');\n",
              "      quickchartButtonEl.style.display =\n",
              "        google.colab.kernel.accessAllowed ? 'block' : 'none';\n",
              "    })();\n",
              "  </script>\n",
              "</div>\n",
              "\n",
              "  <div id=\"id_36e0a423-6ec4-4e5a-a128-07c7b96c3e4f\">\n",
              "    <style>\n",
              "      .colab-df-generate {\n",
              "        background-color: #E8F0FE;\n",
              "        border: none;\n",
              "        border-radius: 50%;\n",
              "        cursor: pointer;\n",
              "        display: none;\n",
              "        fill: #1967D2;\n",
              "        height: 32px;\n",
              "        padding: 0 0 0 0;\n",
              "        width: 32px;\n",
              "      }\n",
              "\n",
              "      .colab-df-generate:hover {\n",
              "        background-color: #E2EBFA;\n",
              "        box-shadow: 0px 1px 2px rgba(60, 64, 67, 0.3), 0px 1px 3px 1px rgba(60, 64, 67, 0.15);\n",
              "        fill: #174EA6;\n",
              "      }\n",
              "\n",
              "      [theme=dark] .colab-df-generate {\n",
              "        background-color: #3B4455;\n",
              "        fill: #D2E3FC;\n",
              "      }\n",
              "\n",
              "      [theme=dark] .colab-df-generate:hover {\n",
              "        background-color: #434B5C;\n",
              "        box-shadow: 0px 1px 3px 1px rgba(0, 0, 0, 0.15);\n",
              "        filter: drop-shadow(0px 1px 2px rgba(0, 0, 0, 0.3));\n",
              "        fill: #FFFFFF;\n",
              "      }\n",
              "    </style>\n",
              "    <button class=\"colab-df-generate\" onclick=\"generateWithVariable('pair_counts')\"\n",
              "            title=\"Generate code using this dataframe.\"\n",
              "            style=\"display:none;\">\n",
              "\n",
              "  <svg xmlns=\"http://www.w3.org/2000/svg\" height=\"24px\"viewBox=\"0 0 24 24\"\n",
              "       width=\"24px\">\n",
              "    <path d=\"M7,19H8.4L18.45,9,17,7.55,7,17.6ZM5,21V16.75L18.45,3.32a2,2,0,0,1,2.83,0l1.4,1.43a1.91,1.91,0,0,1,.58,1.4,1.91,1.91,0,0,1-.58,1.4L9.25,21ZM18.45,9,17,7.55Zm-12,3A5.31,5.31,0,0,0,4.9,8.1,5.31,5.31,0,0,0,1,6.5,5.31,5.31,0,0,0,4.9,4.9,5.31,5.31,0,0,0,6.5,1,5.31,5.31,0,0,0,8.1,4.9,5.31,5.31,0,0,0,12,6.5,5.46,5.46,0,0,0,6.5,12Z\"/>\n",
              "  </svg>\n",
              "    </button>\n",
              "    <script>\n",
              "      (() => {\n",
              "      const buttonEl =\n",
              "        document.querySelector('#id_36e0a423-6ec4-4e5a-a128-07c7b96c3e4f button.colab-df-generate');\n",
              "      buttonEl.style.display =\n",
              "        google.colab.kernel.accessAllowed ? 'block' : 'none';\n",
              "\n",
              "      buttonEl.onclick = () => {\n",
              "        google.colab.notebook.generateWithVariable('pair_counts');\n",
              "      }\n",
              "      })();\n",
              "    </script>\n",
              "  </div>\n",
              "\n",
              "    </div>\n",
              "  </div>\n"
            ],
            "application/vnd.google.colaboratory.intrinsic+json": {
              "type": "dataframe",
              "variable_name": "pair_counts"
            }
          },
          "metadata": {},
          "execution_count": 16
        }
      ]
    },
    {
      "cell_type": "code",
      "source": [
        "# Histogram showing how often each question appears, using log scale\n",
        "plt.figure(figsize=(10, 6))\n",
        "plt.hist(question_ids.value_counts(), bins=160)\n",
        "plt.title(\"Log-Histogram of question appearance counts\")\n",
        "plt.xlabel(\"No. of Occurences of Question\")\n",
        "plt.ylabel(\"No. of Questions\")\n",
        "plt.yscale('log')\n",
        "plt.show()\n",
        "\n",
        "# Print the maximum frequency of any single question\n",
        "print(f\"Maximum number of times a single question is repeated: {max(question_ids.value_counts())}\")"
      ],
      "metadata": {
        "colab": {
          "base_uri": "https://localhost:8080/",
          "height": 582
        },
        "id": "OTGqmMD8gJts",
        "outputId": "18524c93-3474-4ba5-a176-c821e2db3c67"
      },
      "execution_count": null,
      "outputs": [
        {
          "output_type": "display_data",
          "data": {
            "text/plain": [
              "<Figure size 1000x600 with 1 Axes>"
            ],
            "image/png": "[encoded data removed]"
          },
          "metadata": {}
        },
        {
          "output_type": "stream",
          "name": "stdout",
          "text": [
            "Maximum number of times a single question is repeated: 157\n"
          ]
        }
      ]
    },
    {
      "cell_type": "markdown",
      "source": [
        "The histogram shows the distribution of how many times each question appears across all pairs.\n",
        "\n",
        "Most questions in the dataset appear only once or a few times, which means the data is quite diverse.\n",
        "\n",
        "\n",
        "However, there are a small number of questions that appear very frequently — these can influence the model's learning."
      ],
      "metadata": {
        "id": "fdpp5TcYmMoQ"
      }
    },
    {
      "cell_type": "markdown",
      "source": [
        "Take a closer look at the training dataset"
      ],
      "metadata": {
        "id": "BPFL_bW9cwC6"
      }
    },
    {
      "cell_type": "code",
      "execution_count": null,
      "metadata": {
        "colab": {
          "base_uri": "https://localhost:8080/",
          "height": 237
        },
        "id": "WtsuRnPtdoWQ",
        "outputId": "592fd924-179b-4230-c865-fbf9001b102c"
      },
      "outputs": [
        {
          "output_type": "execute_result",
          "data": {
            "text/plain": [
              "          qid1    qid2                                          question1  \\\n",
              "id                                                                          \n",
              "332278  459256  459257    The Iliad and the Odyssey in the Greek culture?   \n",
              "196656  297402  297403  What is practical management and what is strat...   \n",
              "113125  184949  184950                   How useful is MakeUseOf Answers?   \n",
              "266232  101283  163744  Which is the best place to reside in India and...   \n",
              "122738   17811   27517  Why do so many people ask questions on Quora t...   \n",
              "\n",
              "                                                question2  is_duplicate  \n",
              "id                                                                       \n",
              "332278  How do I prove that the pairs of three indepen...             0  \n",
              "196656  What are the practical aspects of strategic ma...             0  \n",
              "113125  Is there any Q&A site that is not Yahoo answer...             0  \n",
              "266232         Which ia the best place to visit in India?             0  \n",
              "122738  Why don't many people posting questions on Quo...             1  "
            ],
            "text/html": [
              "\n",
              "  <div id=\"df-2df32e15-1e88-41fb-99b1-71df6b682c64\" class=\"colab-df-container\">\n",
              "    <div>\n",
              "<style scoped>\n",
              "    .dataframe tbody tr th:only-of-type {\n",
              "        vertical-align: middle;\n",
              "    }\n",
              "\n",
              "    .dataframe tbody tr th {\n",
              "        vertical-align: top;\n",
              "    }\n",
              "\n",
              "    .dataframe thead th {\n",
              "        text-align: right;\n",
              "    }\n",
              "</style>\n",
              "<table border=\"1\" class=\"dataframe\">\n",
              "  <thead>\n",
              "    <tr style=\"text-align: right;\">\n",
              "      <th></th>\n",
              "      <th>qid1</th>\n",
              "      <th>qid2</th>\n",
              "      <th>question1</th>\n",
              "      <th>question2</th>\n",
              "      <th>is_duplicate</th>\n",
              "    </tr>\n",
              "    <tr>\n",
              "      <th>id</th>\n",
              "      <th></th>\n",
              "      <th></th>\n",
              "      <th></th>\n",
              "      <th></th>\n",
              "      <th></th>\n",
              "    </tr>\n",
              "  </thead>\n",
              "  <tbody>\n",
              "    <tr>\n",
              "      <th>332278</th>\n",
              "      <td>459256</td>\n",
              "      <td>459257</td>\n",
              "      <td>The Iliad and the Odyssey in the Greek culture?</td>\n",
              "      <td>How do I prove that the pairs of three indepen...</td>\n",
              "      <td>0</td>\n",
              "    </tr>\n",
              "    <tr>\n",
              "      <th>196656</th>\n",
              "      <td>297402</td>\n",
              "      <td>297403</td>\n",
              "      <td>What is practical management and what is strat...</td>\n",
              "      <td>What are the practical aspects of strategic ma...</td>\n",
              "      <td>0</td>\n",
              "    </tr>\n",
              "    <tr>\n",
              "      <th>113125</th>\n",
              "      <td>184949</td>\n",
              "      <td>184950</td>\n",
              "      <td>How useful is MakeUseOf Answers?</td>\n",
              "      <td>Is there any Q&amp;A site that is not Yahoo answer...</td>\n",
              "      <td>0</td>\n",
              "    </tr>\n",
              "    <tr>\n",
              "      <th>266232</th>\n",
              "      <td>101283</td>\n",
              "      <td>163744</td>\n",
              "      <td>Which is the best place to reside in India and...</td>\n",
              "      <td>Which ia the best place to visit in India?</td>\n",
              "      <td>0</td>\n",
              "    </tr>\n",
              "    <tr>\n",
              "      <th>122738</th>\n",
              "      <td>17811</td>\n",
              "      <td>27517</td>\n",
              "      <td>Why do so many people ask questions on Quora t...</td>\n",
              "      <td>Why don't many people posting questions on Quo...</td>\n",
              "      <td>1</td>\n",
              "    </tr>\n",
              "  </tbody>\n",
              "</table>\n",
              "</div>\n",
              "    <div class=\"colab-df-buttons\">\n",
              "\n",
              "  <div class=\"colab-df-container\">\n",
              "    <button class=\"colab-df-convert\" onclick=\"convertToInteractive('df-2df32e15-1e88-41fb-99b1-71df6b682c64')\"\n",
              "            title=\"Convert this dataframe to an interactive table.\"\n",
              "            style=\"display:none;\">\n",
              "\n",
              "  <svg xmlns=\"http://www.w3.org/2000/svg\" height=\"24px\" viewBox=\"0 -960 960 960\">\n",
              "    <path d=\"M120-120v-720h720v720H120Zm60-500h600v-160H180v160Zm220 220h160v-160H400v160Zm0 220h160v-160H400v160ZM180-400h160v-160H180v160Zm440 0h160v-160H620v160ZM180-180h160v-160H180v160Zm440 0h160v-160H620v160Z\"/>\n",
              "  </svg>\n",
              "    </button>\n",
              "\n",
              "  <style>\n",
              "    .colab-df-container {\n",
              "      display:flex;\n",
              "      gap: 12px;\n",
              "    }\n",
              "\n",
              "    .colab-df-convert {\n",
              "      background-color: #E8F0FE;\n",
              "      border: none;\n",
              "      border-radius: 50%;\n",
              "      cursor: pointer;\n",
              "      display: none;\n",
              "      fill: #1967D2;\n",
              "      height: 32px;\n",
              "      padding: 0 0 0 0;\n",
              "      width: 32px;\n",
              "    }\n",
              "\n",
              "    .colab-df-convert:hover {\n",
              "      background-color: #E2EBFA;\n",
              "      box-shadow: 0px 1px 2px rgba(60, 64, 67, 0.3), 0px 1px 3px 1px rgba(60, 64, 67, 0.15);\n",
              "      fill: #174EA6;\n",
              "    }\n",
              "\n",
              "    .colab-df-buttons div {\n",
              "      margin-bottom: 4px;\n",
              "    }\n",
              "\n",
              "    [theme=dark] .colab-df-convert {\n",
              "      background-color: #3B4455;\n",
              "      fill: #D2E3FC;\n",
              "    }\n",
              "\n",
              "    [theme=dark] .colab-df-convert:hover {\n",
              "      background-color: #434B5C;\n",
              "      box-shadow: 0px 1px 3px 1px rgba(0, 0, 0, 0.15);\n",
              "      filter: drop-shadow(0px 1px 2px rgba(0, 0, 0, 0.3));\n",
              "      fill: #FFFFFF;\n",
              "    }\n",
              "  </style>\n",
              "\n",
              "    <script>\n",
              "      const buttonEl =\n",
              "        document.querySelector('#df-2df32e15-1e88-41fb-99b1-71df6b682c64 button.colab-df-convert');\n",
              "      buttonEl.style.display =\n",
              "        google.colab.kernel.accessAllowed ? 'block' : 'none';\n",
              "\n",
              "      async function convertToInteractive(key) {\n",
              "        const element = document.querySelector('#df-2df32e15-1e88-41fb-99b1-71df6b682c64');\n",
              "        const dataTable =\n",
              "          await google.colab.kernel.invokeFunction('convertToInteractive',\n",
              "                                                    [key], {});\n",
              "        if (!dataTable) return;\n",
              "\n",
              "        const docLinkHtml = 'Like what you see? Visit the ' +\n",
              "          '<a target=\"_blank\" href=https://colab.research.google.com/notebooks/data_table.ipynb>data table notebook</a>'\n",
              "          + ' to learn more about interactive tables.';\n",
              "        element.innerHTML = '';\n",
              "        dataTable['output_type'] = 'display_data';\n",
              "        await google.colab.output.renderOutput(dataTable, element);\n",
              "        const docLink = document.createElement('div');\n",
              "        docLink.innerHTML = docLinkHtml;\n",
              "        element.appendChild(docLink);\n",
              "      }\n",
              "    </script>\n",
              "  </div>\n",
              "\n",
              "\n",
              "<div id=\"df-a5a69a5b-8b7d-4473-a13e-abbbd4eb2641\">\n",
              "  <button class=\"colab-df-quickchart\" onclick=\"quickchart('df-a5a69a5b-8b7d-4473-a13e-abbbd4eb2641')\"\n",
              "            title=\"Suggest charts\"\n",
              "            style=\"display:none;\">\n",
              "\n",
              "<svg xmlns=\"http://www.w3.org/2000/svg\" height=\"24px\"viewBox=\"0 0 24 24\"\n",
              "     width=\"24px\">\n",
              "    <g>\n",
              "        <path d=\"M19 3H5c-1.1 0-2 .9-2 2v14c0 1.1.9 2 2 2h14c1.1 0 2-.9 2-2V5c0-1.1-.9-2-2-2zM9 17H7v-7h2v7zm4 0h-2V7h2v10zm4 0h-2v-4h2v4z\"/>\n",
              "    </g>\n",
              "</svg>\n",
              "  </button>\n",
              "\n",
              "<style>\n",
              "  .colab-df-quickchart {\n",
              "      --bg-color: #E8F0FE;\n",
              "      --fill-color: #1967D2;\n",
              "      --hover-bg-color: #E2EBFA;\n",
              "      --hover-fill-color: #174EA6;\n",
              "      --disabled-fill-color: #AAA;\n",
              "      --disabled-bg-color: #DDD;\n",
              "  }\n",
              "\n",
              "  [theme=dark] .colab-df-quickchart {\n",
              "      --bg-color: #3B4455;\n",
              "      --fill-color: #D2E3FC;\n",
              "      --hover-bg-color: #434B5C;\n",
              "      --hover-fill-color: #FFFFFF;\n",
              "      --disabled-bg-color: #3B4455;\n",
              "      --disabled-fill-color: #666;\n",
              "  }\n",
              "\n",
              "  .colab-df-quickchart {\n",
              "    background-color: var(--bg-color);\n",
              "    border: none;\n",
              "    border-radius: 50%;\n",
              "    cursor: pointer;\n",
              "    display: none;\n",
              "    fill: var(--fill-color);\n",
              "    height: 32px;\n",
              "    padding: 0;\n",
              "    width: 32px;\n",
              "  }\n",
              "\n",
              "  .colab-df-quickchart:hover {\n",
              "    background-color: var(--hover-bg-color);\n",
              "    box-shadow: 0 1px 2px rgba(60, 64, 67, 0.3), 0 1px 3px 1px rgba(60, 64, 67, 0.15);\n",
              "    fill: var(--button-hover-fill-color);\n",
              "  }\n",
              "\n",
              "  .colab-df-quickchart-complete:disabled,\n",
              "  .colab-df-quickchart-complete:disabled:hover {\n",
              "    background-color: var(--disabled-bg-color);\n",
              "    fill: var(--disabled-fill-color);\n",
              "    box-shadow: none;\n",
              "  }\n",
              "\n",
              "  .colab-df-spinner {\n",
              "    border: 2px solid var(--fill-color);\n",
              "    border-color: transparent;\n",
              "    border-bottom-color: var(--fill-color);\n",
              "    animation:\n",
              "      spin 1s steps(1) infinite;\n",
              "  }\n",
              "\n",
              "  @keyframes spin {\n",
              "    0% {\n",
              "      border-color: transparent;\n",
              "      border-bottom-color: var(--fill-color);\n",
              "      border-left-color: var(--fill-color);\n",
              "    }\n",
              "    20% {\n",
              "      border-color: transparent;\n",
              "      border-left-color: var(--fill-color);\n",
              "      border-top-color: var(--fill-color);\n",
              "    }\n",
              "    30% {\n",
              "      border-color: transparent;\n",
              "      border-left-color: var(--fill-color);\n",
              "      border-top-color: var(--fill-color);\n",
              "      border-right-color: var(--fill-color);\n",
              "    }\n",
              "    40% {\n",
              "      border-color: transparent;\n",
              "      border-right-color: var(--fill-color);\n",
              "      border-top-color: var(--fill-color);\n",
              "    }\n",
              "    60% {\n",
              "      border-color: transparent;\n",
              "      border-right-color: var(--fill-color);\n",
              "    }\n",
              "    80% {\n",
              "      border-color: transparent;\n",
              "      border-right-color: var(--fill-color);\n",
              "      border-bottom-color: var(--fill-color);\n",
              "    }\n",
              "    90% {\n",
              "      border-color: transparent;\n",
              "      border-bottom-color: var(--fill-color);\n",
              "    }\n",
              "  }\n",
              "</style>\n",
              "\n",
              "  <script>\n",
              "    async function quickchart(key) {\n",
              "      const quickchartButtonEl =\n",
              "        document.querySelector('#' + key + ' button');\n",
              "      quickchartButtonEl.disabled = true;  // To prevent multiple clicks.\n",
              "      quickchartButtonEl.classList.add('colab-df-spinner');\n",
              "      try {\n",
              "        const charts = await google.colab.kernel.invokeFunction(\n",
              "            'suggestCharts', [key], {});\n",
              "      } catch (error) {\n",
              "        console.error('Error during call to suggestCharts:', error);\n",
              "      }\n",
              "      quickchartButtonEl.classList.remove('colab-df-spinner');\n",
              "      quickchartButtonEl.classList.add('colab-df-quickchart-complete');\n",
              "    }\n",
              "    (() => {\n",
              "      let quickchartButtonEl =\n",
              "        document.querySelector('#df-a5a69a5b-8b7d-4473-a13e-abbbd4eb2641 button');\n",
              "      quickchartButtonEl.style.display =\n",
              "        google.colab.kernel.accessAllowed ? 'block' : 'none';\n",
              "    })();\n",
              "  </script>\n",
              "</div>\n",
              "\n",
              "    </div>\n",
              "  </div>\n"
            ],
            "application/vnd.google.colaboratory.intrinsic+json": {
              "type": "dataframe",
              "variable_name": "df_train"
            }
          },
          "metadata": {},
          "execution_count": 18
        }
      ],
      "source": [
        "df_train.head()"
      ]
    },
    {
      "cell_type": "code",
      "execution_count": null,
      "metadata": {
        "colab": {
          "base_uri": "https://localhost:8080/"
        },
        "id": "V7Z7U2rwe5Ri",
        "outputId": "41d7d39b-8c48-47da-8efe-30e5bae4e2d7"
      },
      "outputs": [
        {
          "output_type": "stream",
          "name": "stdout",
          "text": [
            "<class 'pandas.core.frame.DataFrame'>\n",
            "Index: 323432 entries, 332278 to 402019\n",
            "Data columns (total 5 columns):\n",
            " #   Column        Non-Null Count   Dtype \n",
            "---  ------        --------------   ----- \n",
            " 0   qid1          323432 non-null  int64 \n",
            " 1   qid2          323432 non-null  int64 \n",
            " 2   question1     323431 non-null  object\n",
            " 3   question2     323430 non-null  object\n",
            " 4   is_duplicate  323432 non-null  int64 \n",
            "dtypes: int64(3), object(2)\n",
            "memory usage: 14.8+ MB\n",
            "None\n"
          ]
        }
      ],
      "source": [
        "# Display general information about the training dataset\n",
        "print(df_train.info())"
      ]
    },
    {
      "cell_type": "code",
      "source": [
        "# Check for missing values\n",
        "print(df_train.isnull().sum())"
      ],
      "metadata": {
        "colab": {
          "base_uri": "https://localhost:8080/"
        },
        "id": "b40Y1fbDUkKV",
        "outputId": "32d715c2-7b6d-4a71-c0de-39f8594ade79"
      },
      "execution_count": null,
      "outputs": [
        {
          "output_type": "stream",
          "name": "stdout",
          "text": [
            "qid1            0\n",
            "qid2            0\n",
            "question1       1\n",
            "question2       2\n",
            "is_duplicate    0\n",
            "dtype: int64\n"
          ]
        }
      ]
    },
    {
      "cell_type": "code",
      "source": [
        "# Drop rows with missing values\n",
        "df_train = df_train.dropna()\n",
        "df_train.shape"
      ],
      "metadata": {
        "colab": {
          "base_uri": "https://localhost:8080/"
        },
        "id": "WioI-gcZ48_E",
        "outputId": "e02ef1cc-b688-4861-e95a-9262050c9fd2"
      },
      "execution_count": null,
      "outputs": [
        {
          "output_type": "execute_result",
          "data": {
            "text/plain": [
              "(323429, 5)"
            ]
          },
          "metadata": {},
          "execution_count": 22
        }
      ]
    },
    {
      "cell_type": "code",
      "source": [
        "# Confirm that missing values have been removed\n",
        "print(df_train.isnull().sum())"
      ],
      "metadata": {
        "id": "-I-EZ8mB5Czs",
        "colab": {
          "base_uri": "https://localhost:8080/"
        },
        "outputId": "0410f528-c852-42bc-d0c9-d9e12c493e09"
      },
      "execution_count": null,
      "outputs": [
        {
          "output_type": "stream",
          "name": "stdout",
          "text": [
            "qid1            0\n",
            "qid2            0\n",
            "question1       0\n",
            "question2       0\n",
            "is_duplicate    0\n",
            "dtype: int64\n"
          ]
        }
      ]
    },
    {
      "cell_type": "markdown",
      "source": [
        "We checked for missing values in the training dataset:\n",
        "\n",
        "question1 had 1 missing value, question2 had 2 missing values, all other columns were complete.\n",
        "\n",
        "We dropped all rows with any missing values and after removal the dataset now contains 323,429 rows (down from 323,432) and all columns are now fully filled (no NaN values).\n"
      ],
      "metadata": {
        "id": "AA60vH16oYDg"
      }
    },
    {
      "cell_type": "code",
      "source": [
        "# Analyze the distribution of the target variable (is_duplicate)\n",
        "target_train_counts = df['is_duplicate'].value_counts()\n",
        "print(target_train_counts)"
      ],
      "metadata": {
        "colab": {
          "base_uri": "https://localhost:8080/"
        },
        "id": "YcLUCENM5OIo",
        "outputId": "674088d2-d583-491e-ca7e-fdf6bf39c90f"
      },
      "execution_count": null,
      "outputs": [
        {
          "output_type": "stream",
          "name": "stdout",
          "text": [
            "is_duplicate\n",
            "0    255027\n",
            "1    149263\n",
            "Name: count, dtype: int64\n"
          ]
        }
      ]
    },
    {
      "cell_type": "markdown",
      "source": [
        "The dataset is imbalanced, with about 63% non-duplicates and 37% duplicates.\n",
        "\n",
        "Class imbalance can lead the model to favor the majority class (label 0) and underperform on detecting true duplicates.\n",
        "\n",
        "It's important to consider balancing strategies like class weighting and\n",
        "or using metrics like F1-score and AUROC that handle imbalance better."
      ],
      "metadata": {
        "id": "0kzm5cTEpOOl"
      }
    },
    {
      "cell_type": "code",
      "source": [
        "# Visualize the distribution of duplicate vs. non-duplicate classes\n",
        "plt.figure(figsize=(6, 4))\n",
        "sns.countplot(x='is_duplicate', data=df_train, palette='Set2')\n",
        "plt.title('Class Distribution')\n",
        "plt.xlabel('is_duplicate')\n",
        "plt.ylabel('Count')\n",
        "plt.show()"
      ],
      "metadata": {
        "colab": {
          "base_uri": "https://localhost:8080/",
          "height": 521
        },
        "id": "IwoNF4n55Gxu",
        "outputId": "e576c491-861f-43b3-b9f9-9c864c49ab4b"
      },
      "execution_count": null,
      "outputs": [
        {
          "output_type": "stream",
          "name": "stderr",
          "text": [
            "<ipython-input-25-3ef73ef77759>:3: FutureWarning: \n",
            "\n",
            "Passing `palette` without assigning `hue` is deprecated and will be removed in v0.14.0. Assign the `x` variable to `hue` and set `legend=False` for the same effect.\n",
            "\n",
            "  sns.countplot(x='is_duplicate', data=df_train, palette='Set2')\n"
          ]
        },
        {
          "output_type": "display_data",
          "data": {
            "text/plain": [
              "<Figure size 600x400 with 1 Axes>"
            ],
            "image/png": "[encoded data removed]"
          },
          "metadata": {}
        }
      ]
    },
    {
      "cell_type": "markdown",
      "source": [
        "The bar chart shows the distribution of the target variable is_duplicate, where\n",
        "class 0 has a significantly higher count than class 1."
      ],
      "metadata": {
        "id": "7APufQafqsvw"
      }
    },
    {
      "cell_type": "code",
      "source": [
        "# Class distribution proportions\n",
        "target_train_counts = df['is_duplicate'].value_counts(normalize=True)\n",
        "print(target_train_counts)"
      ],
      "metadata": {
        "colab": {
          "base_uri": "https://localhost:8080/"
        },
        "id": "mVoA_YveEpoy",
        "outputId": "c84fc658-71db-4c6c-912f-862e39e49612"
      },
      "execution_count": null,
      "outputs": [
        {
          "output_type": "stream",
          "name": "stdout",
          "text": [
            "is_duplicate\n",
            "0    0.630802\n",
            "1    0.369198\n",
            "Name: proportion, dtype: float64\n"
          ]
        }
      ]
    },
    {
      "cell_type": "code",
      "source": [
        "# Tokenize a sample question using TweetTokenizer\n",
        "\n",
        "from nltk.tokenize import TweetTokenizer\n",
        "\n",
        "tt = TweetTokenizer()"
      ],
      "metadata": {
        "id": "z2JvPxJAQAyM"
      },
      "execution_count": null,
      "outputs": []
    },
    {
      "cell_type": "code",
      "source": [
        "print(tt.tokenize(df_train.loc[122738, 'question2']))"
      ],
      "metadata": {
        "colab": {
          "base_uri": "https://localhost:8080/"
        },
        "id": "JWZwMAy0QDBE",
        "outputId": "fde0e9d9-b5be-405e-cf7d-8bd240da9437"
      },
      "execution_count": null,
      "outputs": [
        {
          "output_type": "stream",
          "name": "stdout",
          "text": [
            "['Why', \"don't\", 'many', 'people', 'posting', 'questions', 'on', 'Quora', 'check', 'Google', 'first', '?']\n"
          ]
        }
      ]
    },
    {
      "cell_type": "code",
      "source": [
        "from quora_questions_preprocessing import extract_token_features"
      ],
      "metadata": {
        "id": "OVqKL4CwuxT5"
      },
      "execution_count": null,
      "outputs": []
    },
    {
      "cell_type": "markdown",
      "source": [
        "Function extract_token_features():\n",
        "\n",
        "Iinitializes a TweetTokenizer Tokenizes the text into words (keeping alphanumeric tokens only, lowercased).\n",
        "\n",
        "Creates token columns:\n",
        "\n",
        "q1_tokens: tokens from question1\n",
        "\n",
        "q2_tokens: tokens from question2\n",
        "\n",
        "Computes word-based features:\n",
        "q1_words, q2_words: total number of words (tokens) in each question\n",
        "\n",
        "q1_unique_words, q2_unique_words: number of unique words in each question\n",
        "\n",
        "common_words: number of words shared between both questions\n",
        "\n",
        "word_share: Jaccard similarity between the word sets of the two questions\n",
        "\n",
        "unique_word_ratio: ratio of the smaller to larger unique word count"
      ],
      "metadata": {
        "id": "Lgs1jqVF6XWI"
      }
    },
    {
      "cell_type": "code",
      "source": [
        "# Apply the feature extraction to both training and test sets\n",
        "df_train = extract_token_features(df_train)\n",
        "df_test = extract_token_features(df_test)"
      ],
      "metadata": {
        "id": "odtje36mvKPF"
      },
      "execution_count": null,
      "outputs": []
    },
    {
      "cell_type": "code",
      "source": [
        "# Show sample of extracted features\n",
        "pd.set_option('display.max_colwidth', None)\n",
        "print(df_train[['question1', 'question2', 'common_words', 'word_share', 'unique_word_ratio','is_duplicate']].sample(5))"
      ],
      "metadata": {
        "colab": {
          "base_uri": "https://localhost:8080/"
        },
        "id": "WIcZlCk42Ro4",
        "outputId": "af8e6792-4c0a-49e4-cf49-f41530953447"
      },
      "execution_count": null,
      "outputs": [
        {
          "output_type": "stream",
          "name": "stdout",
          "text": [
            "                                                    question1  \\\n",
            "id                                                              \n",
            "247757        If Buddhism is not a religion, then what is it?   \n",
            "255710                     Why is India adopting GST so late?   \n",
            "321288  What are the common mistakes made at a job interview?   \n",
            "87124             How can you delete your Yahoo mail account?   \n",
            "154874       What led to Cyrus Mistry ouster from TATA GROUP?   \n",
            "\n",
            "                                                                       question2  \\\n",
            "id                                                                                 \n",
            "247757                     If Buddha was an atheist, why is Buddhism a religion?   \n",
            "255710                                    Has GST been implemented in India yet?   \n",
            "321288  What are some of the most common mistakes people make in job interviews?   \n",
            "87124                                        How do you disable a Yahoo account?   \n",
            "154874         What is the reason behind replacing cyrius mistry from Tata sons?   \n",
            "\n",
            "        common_words  word_share  unique_word_ratio  is_duplicate  \n",
            "id                                                                 \n",
            "247757             5    0.357143           0.900000             0  \n",
            "255710             2    0.166667           1.000000             1  \n",
            "321288             6    0.352941           0.769231             1  \n",
            "87124              4    0.363636           0.875000             1  \n",
            "154874             4    0.250000           0.818182             1  \n"
          ]
        }
      ]
    },
    {
      "cell_type": "markdown",
      "source": [
        "Data quality check: viewing random samples helps confirm that the token-based features are being computed correctly and aligned with the is_duplicate label."
      ],
      "metadata": {
        "id": "R1CziIDo6mLs"
      }
    },
    {
      "cell_type": "code",
      "source": [
        "# Select relevant feature columns for analysis\n",
        "features = ['q1_words', 'q2_words', 'q1_unique_words','q2_unique_words', 'common_words', 'word_share', 'unique_word_ratio']"
      ],
      "metadata": {
        "id": "Pkdrpx-zFdYX"
      },
      "execution_count": null,
      "outputs": []
    },
    {
      "cell_type": "code",
      "source": [
        "# Display summary statistics for the selected features\n",
        "df_train[features].describe().round(2)"
      ],
      "metadata": {
        "colab": {
          "base_uri": "https://localhost:8080/",
          "height": 300
        },
        "id": "4AryPXgg3cOv",
        "outputId": "6d41e884-0cb8-4c93-efca-f4adf3d8b2f9"
      },
      "execution_count": null,
      "outputs": [
        {
          "output_type": "execute_result",
          "data": {
            "text/plain": [
              "        q1_words   q2_words  q1_unique_words  q2_unique_words  common_words  \\\n",
              "count  323429.00  323429.00        323429.00        323429.00     323429.00   \n",
              "mean       10.84      11.08            10.30            10.47          4.88   \n",
              "std         5.39       6.23             4.55             5.07          3.07   \n",
              "min         0.00       0.00             0.00             0.00          0.00   \n",
              "25%         7.00       7.00             7.00             7.00          3.00   \n",
              "50%        10.00       9.00             9.00             9.00          5.00   \n",
              "75%        13.00      13.00            12.00            12.00          6.00   \n",
              "max       126.00     226.00            92.00           130.00         40.00   \n",
              "\n",
              "       word_share  unique_word_ratio  \n",
              "count   323429.00          323429.00  \n",
              "mean         0.37               0.77  \n",
              "std          0.24               0.18  \n",
              "min          0.00               0.00  \n",
              "25%          0.18               0.65  \n",
              "50%          0.33               0.80  \n",
              "75%          0.53               0.90  \n",
              "max          1.00               1.00  "
            ],
            "text/html": [
              "\n",
              "  <div id=\"df-50e911b2-b837-47ca-ac1d-8f395e60b1d4\" class=\"colab-df-container\">\n",
              "    <div>\n",
              "<style scoped>\n",
              "    .dataframe tbody tr th:only-of-type {\n",
              "        vertical-align: middle;\n",
              "    }\n",
              "\n",
              "    .dataframe tbody tr th {\n",
              "        vertical-align: top;\n",
              "    }\n",
              "\n",
              "    .dataframe thead th {\n",
              "        text-align: right;\n",
              "    }\n",
              "</style>\n",
              "<table border=\"1\" class=\"dataframe\">\n",
              "  <thead>\n",
              "    <tr style=\"text-align: right;\">\n",
              "      <th></th>\n",
              "      <th>q1_words</th>\n",
              "      <th>q2_words</th>\n",
              "      <th>q1_unique_words</th>\n",
              "      <th>q2_unique_words</th>\n",
              "      <th>common_words</th>\n",
              "      <th>word_share</th>\n",
              "      <th>unique_word_ratio</th>\n",
              "    </tr>\n",
              "  </thead>\n",
              "  <tbody>\n",
              "    <tr>\n",
              "      <th>count</th>\n",
              "      <td>323429.00</td>\n",
              "      <td>323429.00</td>\n",
              "      <td>323429.00</td>\n",
              "      <td>323429.00</td>\n",
              "      <td>323429.00</td>\n",
              "      <td>323429.00</td>\n",
              "      <td>323429.00</td>\n",
              "    </tr>\n",
              "    <tr>\n",
              "      <th>mean</th>\n",
              "      <td>10.84</td>\n",
              "      <td>11.08</td>\n",
              "      <td>10.30</td>\n",
              "      <td>10.47</td>\n",
              "      <td>4.88</td>\n",
              "      <td>0.37</td>\n",
              "      <td>0.77</td>\n",
              "    </tr>\n",
              "    <tr>\n",
              "      <th>std</th>\n",
              "      <td>5.39</td>\n",
              "      <td>6.23</td>\n",
              "      <td>4.55</td>\n",
              "      <td>5.07</td>\n",
              "      <td>3.07</td>\n",
              "      <td>0.24</td>\n",
              "      <td>0.18</td>\n",
              "    </tr>\n",
              "    <tr>\n",
              "      <th>min</th>\n",
              "      <td>0.00</td>\n",
              "      <td>0.00</td>\n",
              "      <td>0.00</td>\n",
              "      <td>0.00</td>\n",
              "      <td>0.00</td>\n",
              "      <td>0.00</td>\n",
              "      <td>0.00</td>\n",
              "    </tr>\n",
              "    <tr>\n",
              "      <th>25%</th>\n",
              "      <td>7.00</td>\n",
              "      <td>7.00</td>\n",
              "      <td>7.00</td>\n",
              "      <td>7.00</td>\n",
              "      <td>3.00</td>\n",
              "      <td>0.18</td>\n",
              "      <td>0.65</td>\n",
              "    </tr>\n",
              "    <tr>\n",
              "      <th>50%</th>\n",
              "      <td>10.00</td>\n",
              "      <td>9.00</td>\n",
              "      <td>9.00</td>\n",
              "      <td>9.00</td>\n",
              "      <td>5.00</td>\n",
              "      <td>0.33</td>\n",
              "      <td>0.80</td>\n",
              "    </tr>\n",
              "    <tr>\n",
              "      <th>75%</th>\n",
              "      <td>13.00</td>\n",
              "      <td>13.00</td>\n",
              "      <td>12.00</td>\n",
              "      <td>12.00</td>\n",
              "      <td>6.00</td>\n",
              "      <td>0.53</td>\n",
              "      <td>0.90</td>\n",
              "    </tr>\n",
              "    <tr>\n",
              "      <th>max</th>\n",
              "      <td>126.00</td>\n",
              "      <td>226.00</td>\n",
              "      <td>92.00</td>\n",
              "      <td>130.00</td>\n",
              "      <td>40.00</td>\n",
              "      <td>1.00</td>\n",
              "      <td>1.00</td>\n",
              "    </tr>\n",
              "  </tbody>\n",
              "</table>\n",
              "</div>\n",
              "    <div class=\"colab-df-buttons\">\n",
              "\n",
              "  <div class=\"colab-df-container\">\n",
              "    <button class=\"colab-df-convert\" onclick=\"convertToInteractive('df-50e911b2-b837-47ca-ac1d-8f395e60b1d4')\"\n",
              "            title=\"Convert this dataframe to an interactive table.\"\n",
              "            style=\"display:none;\">\n",
              "\n",
              "  <svg xmlns=\"http://www.w3.org/2000/svg\" height=\"24px\" viewBox=\"0 -960 960 960\">\n",
              "    <path d=\"M120-120v-720h720v720H120Zm60-500h600v-160H180v160Zm220 220h160v-160H400v160Zm0 220h160v-160H400v160ZM180-400h160v-160H180v160Zm440 0h160v-160H620v160ZM180-180h160v-160H180v160Zm440 0h160v-160H620v160Z\"/>\n",
              "  </svg>\n",
              "    </button>\n",
              "\n",
              "  <style>\n",
              "    .colab-df-container {\n",
              "      display:flex;\n",
              "      gap: 12px;\n",
              "    }\n",
              "\n",
              "    .colab-df-convert {\n",
              "      background-color: #E8F0FE;\n",
              "      border: none;\n",
              "      border-radius: 50%;\n",
              "      cursor: pointer;\n",
              "      display: none;\n",
              "      fill: #1967D2;\n",
              "      height: 32px;\n",
              "      padding: 0 0 0 0;\n",
              "      width: 32px;\n",
              "    }\n",
              "\n",
              "    .colab-df-convert:hover {\n",
              "      background-color: #E2EBFA;\n",
              "      box-shadow: 0px 1px 2px rgba(60, 64, 67, 0.3), 0px 1px 3px 1px rgba(60, 64, 67, 0.15);\n",
              "      fill: #174EA6;\n",
              "    }\n",
              "\n",
              "    .colab-df-buttons div {\n",
              "      margin-bottom: 4px;\n",
              "    }\n",
              "\n",
              "    [theme=dark] .colab-df-convert {\n",
              "      background-color: #3B4455;\n",
              "      fill: #D2E3FC;\n",
              "    }\n",
              "\n",
              "    [theme=dark] .colab-df-convert:hover {\n",
              "      background-color: #434B5C;\n",
              "      box-shadow: 0px 1px 3px 1px rgba(0, 0, 0, 0.15);\n",
              "      filter: drop-shadow(0px 1px 2px rgba(0, 0, 0, 0.3));\n",
              "      fill: #FFFFFF;\n",
              "    }\n",
              "  </style>\n",
              "\n",
              "    <script>\n",
              "      const buttonEl =\n",
              "        document.querySelector('#df-50e911b2-b837-47ca-ac1d-8f395e60b1d4 button.colab-df-convert');\n",
              "      buttonEl.style.display =\n",
              "        google.colab.kernel.accessAllowed ? 'block' : 'none';\n",
              "\n",
              "      async function convertToInteractive(key) {\n",
              "        const element = document.querySelector('#df-50e911b2-b837-47ca-ac1d-8f395e60b1d4');\n",
              "        const dataTable =\n",
              "          await google.colab.kernel.invokeFunction('convertToInteractive',\n",
              "                                                    [key], {});\n",
              "        if (!dataTable) return;\n",
              "\n",
              "        const docLinkHtml = 'Like what you see? Visit the ' +\n",
              "          '<a target=\"_blank\" href=https://colab.research.google.com/notebooks/data_table.ipynb>data table notebook</a>'\n",
              "          + ' to learn more about interactive tables.';\n",
              "        element.innerHTML = '';\n",
              "        dataTable['output_type'] = 'display_data';\n",
              "        await google.colab.output.renderOutput(dataTable, element);\n",
              "        const docLink = document.createElement('div');\n",
              "        docLink.innerHTML = docLinkHtml;\n",
              "        element.appendChild(docLink);\n",
              "      }\n",
              "    </script>\n",
              "  </div>\n",
              "\n",
              "\n",
              "<div id=\"df-ca1f802b-21e9-48ae-8cf3-bebc2ba52015\">\n",
              "  <button class=\"colab-df-quickchart\" onclick=\"quickchart('df-ca1f802b-21e9-48ae-8cf3-bebc2ba52015')\"\n",
              "            title=\"Suggest charts\"\n",
              "            style=\"display:none;\">\n",
              "\n",
              "<svg xmlns=\"http://www.w3.org/2000/svg\" height=\"24px\"viewBox=\"0 0 24 24\"\n",
              "     width=\"24px\">\n",
              "    <g>\n",
              "        <path d=\"M19 3H5c-1.1 0-2 .9-2 2v14c0 1.1.9 2 2 2h14c1.1 0 2-.9 2-2V5c0-1.1-.9-2-2-2zM9 17H7v-7h2v7zm4 0h-2V7h2v10zm4 0h-2v-4h2v4z\"/>\n",
              "    </g>\n",
              "</svg>\n",
              "  </button>\n",
              "\n",
              "<style>\n",
              "  .colab-df-quickchart {\n",
              "      --bg-color: #E8F0FE;\n",
              "      --fill-color: #1967D2;\n",
              "      --hover-bg-color: #E2EBFA;\n",
              "      --hover-fill-color: #174EA6;\n",
              "      --disabled-fill-color: #AAA;\n",
              "      --disabled-bg-color: #DDD;\n",
              "  }\n",
              "\n",
              "  [theme=dark] .colab-df-quickchart {\n",
              "      --bg-color: #3B4455;\n",
              "      --fill-color: #D2E3FC;\n",
              "      --hover-bg-color: #434B5C;\n",
              "      --hover-fill-color: #FFFFFF;\n",
              "      --disabled-bg-color: #3B4455;\n",
              "      --disabled-fill-color: #666;\n",
              "  }\n",
              "\n",
              "  .colab-df-quickchart {\n",
              "    background-color: var(--bg-color);\n",
              "    border: none;\n",
              "    border-radius: 50%;\n",
              "    cursor: pointer;\n",
              "    display: none;\n",
              "    fill: var(--fill-color);\n",
              "    height: 32px;\n",
              "    padding: 0;\n",
              "    width: 32px;\n",
              "  }\n",
              "\n",
              "  .colab-df-quickchart:hover {\n",
              "    background-color: var(--hover-bg-color);\n",
              "    box-shadow: 0 1px 2px rgba(60, 64, 67, 0.3), 0 1px 3px 1px rgba(60, 64, 67, 0.15);\n",
              "    fill: var(--button-hover-fill-color);\n",
              "  }\n",
              "\n",
              "  .colab-df-quickchart-complete:disabled,\n",
              "  .colab-df-quickchart-complete:disabled:hover {\n",
              "    background-color: var(--disabled-bg-color);\n",
              "    fill: var(--disabled-fill-color);\n",
              "    box-shadow: none;\n",
              "  }\n",
              "\n",
              "  .colab-df-spinner {\n",
              "    border: 2px solid var(--fill-color);\n",
              "    border-color: transparent;\n",
              "    border-bottom-color: var(--fill-color);\n",
              "    animation:\n",
              "      spin 1s steps(1) infinite;\n",
              "  }\n",
              "\n",
              "  @keyframes spin {\n",
              "    0% {\n",
              "      border-color: transparent;\n",
              "      border-bottom-color: var(--fill-color);\n",
              "      border-left-color: var(--fill-color);\n",
              "    }\n",
              "    20% {\n",
              "      border-color: transparent;\n",
              "      border-left-color: var(--fill-color);\n",
              "      border-top-color: var(--fill-color);\n",
              "    }\n",
              "    30% {\n",
              "      border-color: transparent;\n",
              "      border-left-color: var(--fill-color);\n",
              "      border-top-color: var(--fill-color);\n",
              "      border-right-color: var(--fill-color);\n",
              "    }\n",
              "    40% {\n",
              "      border-color: transparent;\n",
              "      border-right-color: var(--fill-color);\n",
              "      border-top-color: var(--fill-color);\n",
              "    }\n",
              "    60% {\n",
              "      border-color: transparent;\n",
              "      border-right-color: var(--fill-color);\n",
              "    }\n",
              "    80% {\n",
              "      border-color: transparent;\n",
              "      border-right-color: var(--fill-color);\n",
              "      border-bottom-color: var(--fill-color);\n",
              "    }\n",
              "    90% {\n",
              "      border-color: transparent;\n",
              "      border-bottom-color: var(--fill-color);\n",
              "    }\n",
              "  }\n",
              "</style>\n",
              "\n",
              "  <script>\n",
              "    async function quickchart(key) {\n",
              "      const quickchartButtonEl =\n",
              "        document.querySelector('#' + key + ' button');\n",
              "      quickchartButtonEl.disabled = true;  // To prevent multiple clicks.\n",
              "      quickchartButtonEl.classList.add('colab-df-spinner');\n",
              "      try {\n",
              "        const charts = await google.colab.kernel.invokeFunction(\n",
              "            'suggestCharts', [key], {});\n",
              "      } catch (error) {\n",
              "        console.error('Error during call to suggestCharts:', error);\n",
              "      }\n",
              "      quickchartButtonEl.classList.remove('colab-df-spinner');\n",
              "      quickchartButtonEl.classList.add('colab-df-quickchart-complete');\n",
              "    }\n",
              "    (() => {\n",
              "      let quickchartButtonEl =\n",
              "        document.querySelector('#df-ca1f802b-21e9-48ae-8cf3-bebc2ba52015 button');\n",
              "      quickchartButtonEl.style.display =\n",
              "        google.colab.kernel.accessAllowed ? 'block' : 'none';\n",
              "    })();\n",
              "  </script>\n",
              "</div>\n",
              "\n",
              "    </div>\n",
              "  </div>\n"
            ],
            "application/vnd.google.colaboratory.intrinsic+json": {
              "type": "dataframe",
              "summary": "{\n  \"name\": \"df_train[features]\",\n  \"rows\": 8,\n  \"fields\": [\n    {\n      \"column\": \"q1_words\",\n      \"properties\": {\n        \"dtype\": \"number\",\n        \"std\": 114340.72819826625,\n        \"min\": 0.0,\n        \"max\": 323429.0,\n        \"num_unique_values\": 8,\n        \"samples\": [\n          10.84,\n          10.0,\n          323429.0\n        ],\n        \"semantic_type\": \"\",\n        \"description\": \"\"\n      }\n    },\n    {\n      \"column\": \"q2_words\",\n      \"properties\": {\n        \"dtype\": \"number\",\n        \"std\": 114335.69141262108,\n        \"min\": 0.0,\n        \"max\": 323429.0,\n        \"num_unique_values\": 8,\n        \"samples\": [\n          11.08,\n          9.0,\n          323429.0\n        ],\n        \"semantic_type\": \"\",\n        \"description\": \"\"\n      }\n    },\n    {\n      \"column\": \"q1_unique_words\",\n      \"properties\": {\n        \"dtype\": \"number\",\n        \"std\": 114342.6125275885,\n        \"min\": 0.0,\n        \"max\": 323429.0,\n        \"num_unique_values\": 8,\n        \"samples\": [\n          10.3,\n          9.0,\n          323429.0\n        ],\n        \"semantic_type\": \"\",\n        \"description\": \"\"\n      }\n    },\n    {\n      \"column\": \"q2_unique_words\",\n      \"properties\": {\n        \"dtype\": \"number\",\n        \"std\": 114340.66259804474,\n        \"min\": 0.0,\n        \"max\": 323429.0,\n        \"num_unique_values\": 8,\n        \"samples\": [\n          10.47,\n          9.0,\n          323429.0\n        ],\n        \"semantic_type\": \"\",\n        \"description\": \"\"\n      }\n    },\n    {\n      \"column\": \"common_words\",\n      \"properties\": {\n        \"dtype\": \"number\",\n        \"std\": 114346.29134016638,\n        \"min\": 0.0,\n        \"max\": 323429.0,\n        \"num_unique_values\": 8,\n        \"samples\": [\n          4.88,\n          5.0,\n          323429.0\n        ],\n        \"semantic_type\": \"\",\n        \"description\": \"\"\n      }\n    },\n    {\n      \"column\": \"word_share\",\n      \"properties\": {\n        \"dtype\": \"number\",\n        \"std\": 114349.28572136302,\n        \"min\": 0.0,\n        \"max\": 323429.0,\n        \"num_unique_values\": 8,\n        \"samples\": [\n          0.37,\n          0.33,\n          323429.0\n        ],\n        \"semantic_type\": \"\",\n        \"description\": \"\"\n      }\n    },\n    {\n      \"column\": \"unique_word_ratio\",\n      \"properties\": {\n        \"dtype\": \"number\",\n        \"std\": 114349.2023839298,\n        \"min\": 0.0,\n        \"max\": 323429.0,\n        \"num_unique_values\": 8,\n        \"samples\": [\n          0.77,\n          0.8,\n          323429.0\n        ],\n        \"semantic_type\": \"\",\n        \"description\": \"\"\n      }\n    }\n  ]\n}"
            }
          },
          "metadata": {},
          "execution_count": 33
        }
      ]
    },
    {
      "cell_type": "markdown",
      "source": [
        "Кey takeaways from the summary statistics of the extracted features:\n",
        "\n",
        "Typical question length ranges from 7 to 13 words, with median unique word counts around 9. This suggests that most questions are moderately long and contain relatively low word repetition.\n",
        "\n",
        "Overlap and similarity: The average number of common words is about 5, and the average word share is 0.37, indicating a modest lexical overlap between question pairs. Some pairs have very high overlap (up to 40 words in common and a word share of 1.0), which are likely duplicates.\n",
        "\n",
        "The unique_word_ratio has a high mean of 0.77 and median of 0.80, showing that most question pairs have fairly similar levels of vocabulary complexity or diversity.\n",
        "\n",
        "These insights confirm that the engineered features effectively capture structural and lexical relationships useful for detecting duplicate questions."
      ],
      "metadata": {
        "id": "_Pvrmo9-7jOC"
      }
    },
    {
      "cell_type": "code",
      "source": [
        "# Plot distribution of word share for duplicate vs. non-duplicate questions\n",
        "plt.figure(figsize=(10, 5))\n",
        "sns.histplot(data=df_train, x='word_share', hue='is_duplicate', bins=30,\n",
        "             kde=True, stat='density', common_norm=False)\n",
        "plt.title('Word Share: Duplicates vs Non-Duplicates')\n",
        "plt.xlabel('Word Share')\n",
        "plt.ylabel('Density')\n",
        "plt.legend(title='is_duplicate', labels=['Non-Duplicate', 'Duplicate'])\n",
        "plt.show()\n"
      ],
      "metadata": {
        "colab": {
          "base_uri": "https://localhost:8080/",
          "height": 487
        },
        "id": "If-vc5bsxWYn",
        "outputId": "cef0005d-7e9b-43e2-9a29-424b60610a35"
      },
      "execution_count": null,
      "outputs": [
        {
          "output_type": "display_data",
          "data": {
            "text/plain": [
              "<Figure size 1000x500 with 1 Axes>"
            ],
            "image/png": "[encoded data removed]"
          },
          "metadata": {}
        }
      ]
    },
    {
      "cell_type": "markdown",
      "source": [
        "This graph shows the distribution of the word share feature for duplicate and non-duplicate question pairs.\n",
        "\n",
        "Duplicate questions (blue) tend to have a higher word share, meaning they share more common words.\n",
        "\n",
        "Non-duplicates (orange) are more concentrated at lower word share values. The plot illustrates that word share can effectively help differentiate between the two classes."
      ],
      "metadata": {
        "id": "w49qhTdK-Ahm"
      }
    },
    {
      "cell_type": "code",
      "source": [
        "# Display first few rows of the processed training set\n",
        "display(df_train.head(3))"
      ],
      "metadata": {
        "id": "6CkFgvzRDlSe",
        "colab": {
          "base_uri": "https://localhost:8080/",
          "height": 507
        },
        "outputId": "8901bcb0-507e-47e8-8a53-2d0a954f1504"
      },
      "execution_count": null,
      "outputs": [
        {
          "output_type": "display_data",
          "data": {
            "text/plain": [
              "          qid1    qid2  \\\n",
              "id                       \n",
              "332278  459256  459257   \n",
              "196656  297402  297403   \n",
              "113125  184949  184950   \n",
              "\n",
              "                                                             question1  \\\n",
              "id                                                                       \n",
              "332278                 The Iliad and the Odyssey in the Greek culture?   \n",
              "196656  What is practical management and what is strategic management?   \n",
              "113125                                How useful is MakeUseOf Answers?   \n",
              "\n",
              "                                                                                question2  \\\n",
              "id                                                                                          \n",
              "332278  How do I prove that the pairs of three independent variables is also independent?   \n",
              "196656                            What are the practical aspects of strategic management?   \n",
              "113125     Is there any Q&A site that is not Yahoo answers, where hate speech is allowed?   \n",
              "\n",
              "        is_duplicate  \\\n",
              "id                     \n",
              "332278             0   \n",
              "196656             0   \n",
              "113125             0   \n",
              "\n",
              "                                                                      q1_tokens  \\\n",
              "id                                                                                \n",
              "332278                 [the, iliad, and, the, odyssey, in, the, greek, culture]   \n",
              "196656  [what, is, practical, management, and, what, is, strategic, management]   \n",
              "113125                                    [how, useful, is, makeuseof, answers]   \n",
              "\n",
              "                                                                                              q2_tokens  \\\n",
              "id                                                                                                        \n",
              "332278  [how, do, i, prove, that, the, pairs, of, three, independent, variables, is, also, independent]   \n",
              "196656                                  [what, are, the, practical, aspects, of, strategic, management]   \n",
              "113125    [is, there, any, q, a, site, that, is, not, yahoo, answers, where, hate, speech, is, allowed]   \n",
              "\n",
              "        q1_words  q2_words  q1_unique_words  q2_unique_words  common_words  \\\n",
              "id                                                                           \n",
              "332278         9        14                7               13             1   \n",
              "196656         9         8                6                8             4   \n",
              "113125         5        16                5               14             2   \n",
              "\n",
              "        word_share  unique_word_ratio  \n",
              "id                                     \n",
              "332278    0.052632           0.538462  \n",
              "196656    0.400000           0.750000  \n",
              "113125    0.117647           0.357143  "
            ],
            "text/html": [
              "\n",
              "  <div id=\"df-5b3f302b-f273-4773-ad82-8fe01f05cbd3\" class=\"colab-df-container\">\n",
              "    <div>\n",
              "<style scoped>\n",
              "    .dataframe tbody tr th:only-of-type {\n",
              "        vertical-align: middle;\n",
              "    }\n",
              "\n",
              "    .dataframe tbody tr th {\n",
              "        vertical-align: top;\n",
              "    }\n",
              "\n",
              "    .dataframe thead th {\n",
              "        text-align: right;\n",
              "    }\n",
              "</style>\n",
              "<table border=\"1\" class=\"dataframe\">\n",
              "  <thead>\n",
              "    <tr style=\"text-align: right;\">\n",
              "      <th></th>\n",
              "      <th>qid1</th>\n",
              "      <th>qid2</th>\n",
              "      <th>question1</th>\n",
              "      <th>question2</th>\n",
              "      <th>is_duplicate</th>\n",
              "      <th>q1_tokens</th>\n",
              "      <th>q2_tokens</th>\n",
              "      <th>q1_words</th>\n",
              "      <th>q2_words</th>\n",
              "      <th>q1_unique_words</th>\n",
              "      <th>q2_unique_words</th>\n",
              "      <th>common_words</th>\n",
              "      <th>word_share</th>\n",
              "      <th>unique_word_ratio</th>\n",
              "    </tr>\n",
              "    <tr>\n",
              "      <th>id</th>\n",
              "      <th></th>\n",
              "      <th></th>\n",
              "      <th></th>\n",
              "      <th></th>\n",
              "      <th></th>\n",
              "      <th></th>\n",
              "      <th></th>\n",
              "      <th></th>\n",
              "      <th></th>\n",
              "      <th></th>\n",
              "      <th></th>\n",
              "      <th></th>\n",
              "      <th></th>\n",
              "      <th></th>\n",
              "    </tr>\n",
              "  </thead>\n",
              "  <tbody>\n",
              "    <tr>\n",
              "      <th>332278</th>\n",
              "      <td>459256</td>\n",
              "      <td>459257</td>\n",
              "      <td>The Iliad and the Odyssey in the Greek culture?</td>\n",
              "      <td>How do I prove that the pairs of three independent variables is also independent?</td>\n",
              "      <td>0</td>\n",
              "      <td>[the, iliad, and, the, odyssey, in, the, greek, culture]</td>\n",
              "      <td>[how, do, i, prove, that, the, pairs, of, three, independent, variables, is, also, independent]</td>\n",
              "      <td>9</td>\n",
              "      <td>14</td>\n",
              "      <td>7</td>\n",
              "      <td>13</td>\n",
              "      <td>1</td>\n",
              "      <td>0.052632</td>\n",
              "      <td>0.538462</td>\n",
              "    </tr>\n",
              "    <tr>\n",
              "      <th>196656</th>\n",
              "      <td>297402</td>\n",
              "      <td>297403</td>\n",
              "      <td>What is practical management and what is strategic management?</td>\n",
              "      <td>What are the practical aspects of strategic management?</td>\n",
              "      <td>0</td>\n",
              "      <td>[what, is, practical, management, and, what, is, strategic, management]</td>\n",
              "      <td>[what, are, the, practical, aspects, of, strategic, management]</td>\n",
              "      <td>9</td>\n",
              "      <td>8</td>\n",
              "      <td>6</td>\n",
              "      <td>8</td>\n",
              "      <td>4</td>\n",
              "      <td>0.400000</td>\n",
              "      <td>0.750000</td>\n",
              "    </tr>\n",
              "    <tr>\n",
              "      <th>113125</th>\n",
              "      <td>184949</td>\n",
              "      <td>184950</td>\n",
              "      <td>How useful is MakeUseOf Answers?</td>\n",
              "      <td>Is there any Q&amp;A site that is not Yahoo answers, where hate speech is allowed?</td>\n",
              "      <td>0</td>\n",
              "      <td>[how, useful, is, makeuseof, answers]</td>\n",
              "      <td>[is, there, any, q, a, site, that, is, not, yahoo, answers, where, hate, speech, is, allowed]</td>\n",
              "      <td>5</td>\n",
              "      <td>16</td>\n",
              "      <td>5</td>\n",
              "      <td>14</td>\n",
              "      <td>2</td>\n",
              "      <td>0.117647</td>\n",
              "      <td>0.357143</td>\n",
              "    </tr>\n",
              "  </tbody>\n",
              "</table>\n",
              "</div>\n",
              "    <div class=\"colab-df-buttons\">\n",
              "\n",
              "  <div class=\"colab-df-container\">\n",
              "    <button class=\"colab-df-convert\" onclick=\"convertToInteractive('df-5b3f302b-f273-4773-ad82-8fe01f05cbd3')\"\n",
              "            title=\"Convert this dataframe to an interactive table.\"\n",
              "            style=\"display:none;\">\n",
              "\n",
              "  <svg xmlns=\"http://www.w3.org/2000/svg\" height=\"24px\" viewBox=\"0 -960 960 960\">\n",
              "    <path d=\"M120-120v-720h720v720H120Zm60-500h600v-160H180v160Zm220 220h160v-160H400v160Zm0 220h160v-160H400v160ZM180-400h160v-160H180v160Zm440 0h160v-160H620v160ZM180-180h160v-160H180v160Zm440 0h160v-160H620v160Z\"/>\n",
              "  </svg>\n",
              "    </button>\n",
              "\n",
              "  <style>\n",
              "    .colab-df-container {\n",
              "      display:flex;\n",
              "      gap: 12px;\n",
              "    }\n",
              "\n",
              "    .colab-df-convert {\n",
              "      background-color: #E8F0FE;\n",
              "      border: none;\n",
              "      border-radius: 50%;\n",
              "      cursor: pointer;\n",
              "      display: none;\n",
              "      fill: #1967D2;\n",
              "      height: 32px;\n",
              "      padding: 0 0 0 0;\n",
              "      width: 32px;\n",
              "    }\n",
              "\n",
              "    .colab-df-convert:hover {\n",
              "      background-color: #E2EBFA;\n",
              "      box-shadow: 0px 1px 2px rgba(60, 64, 67, 0.3), 0px 1px 3px 1px rgba(60, 64, 67, 0.15);\n",
              "      fill: #174EA6;\n",
              "    }\n",
              "\n",
              "    .colab-df-buttons div {\n",
              "      margin-bottom: 4px;\n",
              "    }\n",
              "\n",
              "    [theme=dark] .colab-df-convert {\n",
              "      background-color: #3B4455;\n",
              "      fill: #D2E3FC;\n",
              "    }\n",
              "\n",
              "    [theme=dark] .colab-df-convert:hover {\n",
              "      background-color: #434B5C;\n",
              "      box-shadow: 0px 1px 3px 1px rgba(0, 0, 0, 0.15);\n",
              "      filter: drop-shadow(0px 1px 2px rgba(0, 0, 0, 0.3));\n",
              "      fill: #FFFFFF;\n",
              "    }\n",
              "  </style>\n",
              "\n",
              "    <script>\n",
              "      const buttonEl =\n",
              "        document.querySelector('#df-5b3f302b-f273-4773-ad82-8fe01f05cbd3 button.colab-df-convert');\n",
              "      buttonEl.style.display =\n",
              "        google.colab.kernel.accessAllowed ? 'block' : 'none';\n",
              "\n",
              "      async function convertToInteractive(key) {\n",
              "        const element = document.querySelector('#df-5b3f302b-f273-4773-ad82-8fe01f05cbd3');\n",
              "        const dataTable =\n",
              "          await google.colab.kernel.invokeFunction('convertToInteractive',\n",
              "                                                    [key], {});\n",
              "        if (!dataTable) return;\n",
              "\n",
              "        const docLinkHtml = 'Like what you see? Visit the ' +\n",
              "          '<a target=\"_blank\" href=https://colab.research.google.com/notebooks/data_table.ipynb>data table notebook</a>'\n",
              "          + ' to learn more about interactive tables.';\n",
              "        element.innerHTML = '';\n",
              "        dataTable['output_type'] = 'display_data';\n",
              "        await google.colab.output.renderOutput(dataTable, element);\n",
              "        const docLink = document.createElement('div');\n",
              "        docLink.innerHTML = docLinkHtml;\n",
              "        element.appendChild(docLink);\n",
              "      }\n",
              "    </script>\n",
              "  </div>\n",
              "\n",
              "\n",
              "<div id=\"df-8ea471f9-9e03-4cdd-b955-dc891d7e34c0\">\n",
              "  <button class=\"colab-df-quickchart\" onclick=\"quickchart('df-8ea471f9-9e03-4cdd-b955-dc891d7e34c0')\"\n",
              "            title=\"Suggest charts\"\n",
              "            style=\"display:none;\">\n",
              "\n",
              "<svg xmlns=\"http://www.w3.org/2000/svg\" height=\"24px\"viewBox=\"0 0 24 24\"\n",
              "     width=\"24px\">\n",
              "    <g>\n",
              "        <path d=\"M19 3H5c-1.1 0-2 .9-2 2v14c0 1.1.9 2 2 2h14c1.1 0 2-.9 2-2V5c0-1.1-.9-2-2-2zM9 17H7v-7h2v7zm4 0h-2V7h2v10zm4 0h-2v-4h2v4z\"/>\n",
              "    </g>\n",
              "</svg>\n",
              "  </button>\n",
              "\n",
              "<style>\n",
              "  .colab-df-quickchart {\n",
              "      --bg-color: #E8F0FE;\n",
              "      --fill-color: #1967D2;\n",
              "      --hover-bg-color: #E2EBFA;\n",
              "      --hover-fill-color: #174EA6;\n",
              "      --disabled-fill-color: #AAA;\n",
              "      --disabled-bg-color: #DDD;\n",
              "  }\n",
              "\n",
              "  [theme=dark] .colab-df-quickchart {\n",
              "      --bg-color: #3B4455;\n",
              "      --fill-color: #D2E3FC;\n",
              "      --hover-bg-color: #434B5C;\n",
              "      --hover-fill-color: #FFFFFF;\n",
              "      --disabled-bg-color: #3B4455;\n",
              "      --disabled-fill-color: #666;\n",
              "  }\n",
              "\n",
              "  .colab-df-quickchart {\n",
              "    background-color: var(--bg-color);\n",
              "    border: none;\n",
              "    border-radius: 50%;\n",
              "    cursor: pointer;\n",
              "    display: none;\n",
              "    fill: var(--fill-color);\n",
              "    height: 32px;\n",
              "    padding: 0;\n",
              "    width: 32px;\n",
              "  }\n",
              "\n",
              "  .colab-df-quickchart:hover {\n",
              "    background-color: var(--hover-bg-color);\n",
              "    box-shadow: 0 1px 2px rgba(60, 64, 67, 0.3), 0 1px 3px 1px rgba(60, 64, 67, 0.15);\n",
              "    fill: var(--button-hover-fill-color);\n",
              "  }\n",
              "\n",
              "  .colab-df-quickchart-complete:disabled,\n",
              "  .colab-df-quickchart-complete:disabled:hover {\n",
              "    background-color: var(--disabled-bg-color);\n",
              "    fill: var(--disabled-fill-color);\n",
              "    box-shadow: none;\n",
              "  }\n",
              "\n",
              "  .colab-df-spinner {\n",
              "    border: 2px solid var(--fill-color);\n",
              "    border-color: transparent;\n",
              "    border-bottom-color: var(--fill-color);\n",
              "    animation:\n",
              "      spin 1s steps(1) infinite;\n",
              "  }\n",
              "\n",
              "  @keyframes spin {\n",
              "    0% {\n",
              "      border-color: transparent;\n",
              "      border-bottom-color: var(--fill-color);\n",
              "      border-left-color: var(--fill-color);\n",
              "    }\n",
              "    20% {\n",
              "      border-color: transparent;\n",
              "      border-left-color: var(--fill-color);\n",
              "      border-top-color: var(--fill-color);\n",
              "    }\n",
              "    30% {\n",
              "      border-color: transparent;\n",
              "      border-left-color: var(--fill-color);\n",
              "      border-top-color: var(--fill-color);\n",
              "      border-right-color: var(--fill-color);\n",
              "    }\n",
              "    40% {\n",
              "      border-color: transparent;\n",
              "      border-right-color: var(--fill-color);\n",
              "      border-top-color: var(--fill-color);\n",
              "    }\n",
              "    60% {\n",
              "      border-color: transparent;\n",
              "      border-right-color: var(--fill-color);\n",
              "    }\n",
              "    80% {\n",
              "      border-color: transparent;\n",
              "      border-right-color: var(--fill-color);\n",
              "      border-bottom-color: var(--fill-color);\n",
              "    }\n",
              "    90% {\n",
              "      border-color: transparent;\n",
              "      border-bottom-color: var(--fill-color);\n",
              "    }\n",
              "  }\n",
              "</style>\n",
              "\n",
              "  <script>\n",
              "    async function quickchart(key) {\n",
              "      const quickchartButtonEl =\n",
              "        document.querySelector('#' + key + ' button');\n",
              "      quickchartButtonEl.disabled = true;  // To prevent multiple clicks.\n",
              "      quickchartButtonEl.classList.add('colab-df-spinner');\n",
              "      try {\n",
              "        const charts = await google.colab.kernel.invokeFunction(\n",
              "            'suggestCharts', [key], {});\n",
              "      } catch (error) {\n",
              "        console.error('Error during call to suggestCharts:', error);\n",
              "      }\n",
              "      quickchartButtonEl.classList.remove('colab-df-spinner');\n",
              "      quickchartButtonEl.classList.add('colab-df-quickchart-complete');\n",
              "    }\n",
              "    (() => {\n",
              "      let quickchartButtonEl =\n",
              "        document.querySelector('#df-8ea471f9-9e03-4cdd-b955-dc891d7e34c0 button');\n",
              "      quickchartButtonEl.style.display =\n",
              "        google.colab.kernel.accessAllowed ? 'block' : 'none';\n",
              "    })();\n",
              "  </script>\n",
              "</div>\n",
              "\n",
              "    </div>\n",
              "  </div>\n"
            ],
            "application/vnd.google.colaboratory.intrinsic+json": {
              "type": "dataframe",
              "summary": "{\n  \"name\": \"display(df_train\",\n  \"rows\": 3,\n  \"fields\": [\n    {\n      \"column\": \"id\",\n      \"properties\": {\n        \"dtype\": \"number\",\n        \"std\": 110603,\n        \"min\": 113125,\n        \"max\": 332278,\n        \"num_unique_values\": 3,\n        \"samples\": [\n          332278,\n          196656,\n          113125\n        ],\n        \"semantic_type\": \"\",\n        \"description\": \"\"\n      }\n    },\n    {\n      \"column\": \"qid1\",\n      \"properties\": {\n        \"dtype\": \"number\",\n        \"std\": 137892,\n        \"min\": 184949,\n        \"max\": 459256,\n        \"num_unique_values\": 3,\n        \"samples\": [\n          459256,\n          297402,\n          184949\n        ],\n        \"semantic_type\": \"\",\n        \"description\": \"\"\n      }\n    },\n    {\n      \"column\": \"qid2\",\n      \"properties\": {\n        \"dtype\": \"number\",\n        \"std\": 137892,\n        \"min\": 184950,\n        \"max\": 459257,\n        \"num_unique_values\": 3,\n        \"samples\": [\n          459257,\n          297403,\n          184950\n        ],\n        \"semantic_type\": \"\",\n        \"description\": \"\"\n      }\n    },\n    {\n      \"column\": \"question1\",\n      \"properties\": {\n        \"dtype\": \"string\",\n        \"num_unique_values\": 3,\n        \"samples\": [\n          \"The Iliad and the Odyssey in the Greek culture?\",\n          \"What is practical management and what is strategic management?\",\n          \"How useful is MakeUseOf Answers?\"\n        ],\n        \"semantic_type\": \"\",\n        \"description\": \"\"\n      }\n    },\n    {\n      \"column\": \"question2\",\n      \"properties\": {\n        \"dtype\": \"string\",\n        \"num_unique_values\": 3,\n        \"samples\": [\n          \"How do I prove that the pairs of three independent variables is also independent?\",\n          \"What are the practical aspects of strategic management?\",\n          \"Is there any Q&A site that is not Yahoo answers, where hate speech is allowed?\"\n        ],\n        \"semantic_type\": \"\",\n        \"description\": \"\"\n      }\n    },\n    {\n      \"column\": \"is_duplicate\",\n      \"properties\": {\n        \"dtype\": \"number\",\n        \"std\": 0,\n        \"min\": 0,\n        \"max\": 0,\n        \"num_unique_values\": 1,\n        \"samples\": [\n          0\n        ],\n        \"semantic_type\": \"\",\n        \"description\": \"\"\n      }\n    },\n    {\n      \"column\": \"q1_tokens\",\n      \"properties\": {\n        \"dtype\": \"object\",\n        \"semantic_type\": \"\",\n        \"description\": \"\"\n      }\n    },\n    {\n      \"column\": \"q2_tokens\",\n      \"properties\": {\n        \"dtype\": \"object\",\n        \"semantic_type\": \"\",\n        \"description\": \"\"\n      }\n    },\n    {\n      \"column\": \"q1_words\",\n      \"properties\": {\n        \"dtype\": \"number\",\n        \"std\": 2,\n        \"min\": 5,\n        \"max\": 9,\n        \"num_unique_values\": 2,\n        \"samples\": [\n          5\n        ],\n        \"semantic_type\": \"\",\n        \"description\": \"\"\n      }\n    },\n    {\n      \"column\": \"q2_words\",\n      \"properties\": {\n        \"dtype\": \"number\",\n        \"std\": 4,\n        \"min\": 8,\n        \"max\": 16,\n        \"num_unique_values\": 3,\n        \"samples\": [\n          14\n        ],\n        \"semantic_type\": \"\",\n        \"description\": \"\"\n      }\n    },\n    {\n      \"column\": \"q1_unique_words\",\n      \"properties\": {\n        \"dtype\": \"number\",\n        \"std\": 1,\n        \"min\": 5,\n        \"max\": 7,\n        \"num_unique_values\": 3,\n        \"samples\": [\n          7\n        ],\n        \"semantic_type\": \"\",\n        \"description\": \"\"\n      }\n    },\n    {\n      \"column\": \"q2_unique_words\",\n      \"properties\": {\n        \"dtype\": \"number\",\n        \"std\": 3,\n        \"min\": 8,\n        \"max\": 14,\n        \"num_unique_values\": 3,\n        \"samples\": [\n          13\n        ],\n        \"semantic_type\": \"\",\n        \"description\": \"\"\n      }\n    },\n    {\n      \"column\": \"common_words\",\n      \"properties\": {\n        \"dtype\": \"number\",\n        \"std\": 1,\n        \"min\": 1,\n        \"max\": 4,\n        \"num_unique_values\": 3,\n        \"samples\": [\n          1\n        ],\n        \"semantic_type\": \"\",\n        \"description\": \"\"\n      }\n    },\n    {\n      \"column\": \"word_share\",\n      \"properties\": {\n        \"dtype\": \"number\",\n        \"std\": 0.184668629333341,\n        \"min\": 0.05263157894736842,\n        \"max\": 0.4,\n        \"num_unique_values\": 3,\n        \"samples\": [\n          0.05263157894736842\n        ],\n        \"semantic_type\": \"\",\n        \"description\": \"\"\n      }\n    },\n    {\n      \"column\": \"unique_word_ratio\",\n      \"properties\": {\n        \"dtype\": \"number\",\n        \"std\": 0.19662219254155172,\n        \"min\": 0.35714285714285715,\n        \"max\": 0.75,\n        \"num_unique_values\": 3,\n        \"samples\": [\n          0.5384615384615384\n        ],\n        \"semantic_type\": \"\",\n        \"description\": \"\"\n      }\n    }\n  ]\n}"
            }
          },
          "metadata": {}
        }
      ]
    },
    {
      "cell_type": "code",
      "source": [
        "# Box plots of selected features grouped by the target variable\n",
        "import seaborn as sns\n",
        "import matplotlib.pyplot as plt\n",
        "\n",
        "features_to_plot = ['common_words', 'word_share', 'unique_word_ratio']\n",
        "\n",
        "fig, axes = plt.subplots(1, 3, figsize=(18, 5))\n",
        "\n",
        "for i, feature in enumerate(features_to_plot):\n",
        "    sns.boxplot(x='is_duplicate', y=feature, data=df_train, ax=axes[i], palette='Set1')\n",
        "    axes[i].set_title(f'{feature}: Class-wise Distribution')\n",
        "\n",
        "plt.tight_layout()\n",
        "plt.show()"
      ],
      "metadata": {
        "colab": {
          "base_uri": "https://localhost:8080/",
          "height": 614
        },
        "id": "pYX-SUZFFFxI",
        "outputId": "a219b80f-d832-4305-b550-0014ffa8e82b"
      },
      "execution_count": null,
      "outputs": [
        {
          "output_type": "stream",
          "name": "stderr",
          "text": [
            "<ipython-input-36-5d18da8fe7a0>:10: FutureWarning: \n",
            "\n",
            "Passing `palette` without assigning `hue` is deprecated and will be removed in v0.14.0. Assign the `x` variable to `hue` and set `legend=False` for the same effect.\n",
            "\n",
            "  sns.boxplot(x='is_duplicate', y=feature, data=df_train, ax=axes[i], palette='Set1')\n",
            "<ipython-input-36-5d18da8fe7a0>:10: FutureWarning: \n",
            "\n",
            "Passing `palette` without assigning `hue` is deprecated and will be removed in v0.14.0. Assign the `x` variable to `hue` and set `legend=False` for the same effect.\n",
            "\n",
            "  sns.boxplot(x='is_duplicate', y=feature, data=df_train, ax=axes[i], palette='Set1')\n",
            "<ipython-input-36-5d18da8fe7a0>:10: FutureWarning: \n",
            "\n",
            "Passing `palette` without assigning `hue` is deprecated and will be removed in v0.14.0. Assign the `x` variable to `hue` and set `legend=False` for the same effect.\n",
            "\n",
            "  sns.boxplot(x='is_duplicate', y=feature, data=df_train, ax=axes[i], palette='Set1')\n"
          ]
        },
        {
          "output_type": "display_data",
          "data": {
            "text/plain": [
              "<Figure size 1800x500 with 3 Axes>"
            ],
            "image/png": "[encoded data removed]"
          },
          "metadata": {}
        }
      ]
    },
    {
      "cell_type": "markdown",
      "source": [
        "**Common Words:**\n",
        "\n",
        "Duplicate questions (class 1) tend to have slightly more common words than non-duplicates (class 0).\n",
        "\n",
        "However, the overlap is considerable, indicating that this feature alone might not be sufficient for strong discrimination.\n",
        "\n",
        "**Word Share:**\n",
        "\n",
        "Duplicate pairs show a higher word share (i.e., the proportion of shared words is larger).\n",
        "\n",
        "The median value for duplicates is significantly higher than for non-duplicates, suggesting that word share is a useful discriminative feature.\n",
        "\n",
        "**Unique Word Ratio:**\n",
        "\n",
        "Both classes tend to have high unique word ratios, but duplicates generally maintain a higher ratio.\n",
        "\n",
        "Non-duplicates display a wider spread with more low outliers, indicating more lexical variation across non-duplicate pairs.\n",
        "\n",
        "**Conclusion**:\n",
        "Features like **word share** and **unique word ratio** appear to have a meaningful correlation with the target label and could contribute to model performance.\n",
        "\n",
        "**Common words** has a weaker separation between classes but may still offer value when combined with other features."
      ],
      "metadata": {
        "id": "3zmi9avcEVqU"
      }
    },
    {
      "cell_type": "code",
      "source": [
        "# Calculate correlation between features and the target variable\n",
        "corr_with_target = df_train[features] \\\n",
        "    .corrwith(df_train['is_duplicate']) \\\n",
        "    .sort_values(ascending=False)\n",
        "\n",
        "# Visualize feature correlations with the target\n",
        "corr_with_target.plot(\n",
        "    kind='barh',\n",
        "    figsize=(6, 4),\n",
        "    color='teal'\n",
        ")\n",
        "\n",
        "plt.title('Feature Correlation with is_duplicate')\n",
        "plt.xlabel('Correlation Coefficient')\n",
        "plt.tight_layout()\n",
        "plt.show()\n"
      ],
      "metadata": {
        "id": "N4JSsjuo2zXx",
        "colab": {
          "base_uri": "https://localhost:8080/",
          "height": 407
        },
        "outputId": "2ff5f24f-082c-404d-c8ad-eba80c7d0270"
      },
      "execution_count": null,
      "outputs": [
        {
          "output_type": "display_data",
          "data": {
            "text/plain": [
              "<Figure size 600x400 with 1 Axes>"
            ],
            "image/png": "[encoded data removed]"
          },
          "metadata": {}
        }
      ]
    },
    {
      "cell_type": "code",
      "source": [
        "# Print sorted correlation values\n",
        "print(corr_with_target.sort_values(ascending=False))"
      ],
      "metadata": {
        "id": "Qgc3KB-oJBGq",
        "colab": {
          "base_uri": "https://localhost:8080/"
        },
        "outputId": "27156714-2ab1-4443-c6ca-f0c28d060f10"
      },
      "execution_count": null,
      "outputs": [
        {
          "output_type": "stream",
          "name": "stdout",
          "text": [
            "word_share           0.323377\n",
            "common_words         0.211079\n",
            "unique_word_ratio    0.165587\n",
            "q1_unique_words     -0.150525\n",
            "q1_words            -0.152130\n",
            "q2_unique_words     -0.158930\n",
            "q2_words            -0.159965\n",
            "dtype: float64\n"
          ]
        }
      ]
    },
    {
      "cell_type": "markdown",
      "source": [
        "The bar chart illustrates the Pearson correlation coefficients between various engineered features and the target variable is_duplicate.\n",
        "\n",
        "Strongest Positive Correlations:\n",
        "\n",
        "word_share (0.32) has the highest positive correlation with duplicate labels, suggesting that the greater the proportion of shared words between two questions, the more likely they are duplicates.\n",
        "\n",
        "common_words (0.21) also correlates positively, meaning duplicates tend to share more exact word matches.\n",
        "\n",
        "Moderate Correlation:\n",
        "\n",
        "unique_word_ratio (0.17) shows a moderate positive relationship — indicating that questions with a higher proportion of unique words (relative to total words) are slightly more likely to be duplicates.\n",
        "\n",
        "Negative Correlations:\n",
        "\n",
        "Features related to individual question lengths (q1_words, q2_words, q1_unique_words, q2_unique_words) show weak negative correlations (around -0.15), implying that longer or more complex individual questions are slightly less likely to be duplicates — though this relationship is weak."
      ],
      "metadata": {
        "id": "1WNrAedzFo7p"
      }
    },
    {
      "cell_type": "markdown",
      "source": [
        "We conducted an exploratory analysis and engineered several textual features to help distinguish duplicate question pairs. Among them, word_share and common_words demonstrated the strongest correlation with the target variable, making them particularly informative for identifying duplicates. While individual question lengths (q1_words, q2_words, etc.) showed weaker predictive power, they may still contribute to model performance when used in combination with other features. These engineered features will be incorporated into future machine learning models, including ensemble and stacked approaches, to enhance predictive accuracy."
      ],
      "metadata": {
        "id": "NtdKtY94GDdX"
      }
    }
  ],
  "metadata": {
    "colab": {
      "provenance": [],
      "gpuType": "T4"
    },
    "kernelspec": {
      "display_name": "Python 3",
      "name": "python3"
    },
    "language_info": {
      "name": "python"
    },
    "accelerator": "GPU"
  },
  "nbformat": 4,
  "nbformat_minor": 0
}